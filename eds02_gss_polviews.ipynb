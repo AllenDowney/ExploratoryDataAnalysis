{
 "cells": [
  {
   "cell_type": "markdown",
   "metadata": {},
   "source": [
    "# EDS Case Study\n",
    "\n",
    "Explore changes in political views\n",
    "\n",
    "Allen Downey\n",
    "\n",
    "[MIT License](https://en.wikipedia.org/wiki/MIT_License)"
   ]
  },
  {
   "cell_type": "code",
   "execution_count": 1,
   "metadata": {},
   "outputs": [],
   "source": [
    "# If we're running in Colab, set up the environment\n",
    "\n",
    "import sys\n",
    "IN_COLAB = 'google.colab' in sys.modules\n",
    "\n",
    "if IN_COLAB:\n",
    "    !pip install empiricaldist\n",
    "    !git clone --depth 1 https://github.com/AllenDowney/ExploratoryDataAnalysis\n",
    "    %cd ExploratoryDataAnalysis"
   ]
  },
  {
   "cell_type": "code",
   "execution_count": 2,
   "metadata": {},
   "outputs": [],
   "source": [
    "import pandas as pd\n",
    "import numpy as np\n",
    "import matplotlib.pyplot as plt\n",
    "import seaborn as sns\n",
    "\n",
    "from utils import decorate"
   ]
  },
  {
   "cell_type": "markdown",
   "metadata": {},
   "source": [
    "## Loading and validation\n"
   ]
  },
  {
   "cell_type": "code",
   "execution_count": 3,
   "metadata": {},
   "outputs": [
    {
     "data": {
      "text/plain": [
       "(64814, 105)"
      ]
     },
     "execution_count": 3,
     "metadata": {},
     "output_type": "execute_result"
    }
   ],
   "source": [
    "gss = pd.read_hdf('eds.gss.hdf5', 'gss0')\n",
    "gss.shape"
   ]
  },
  {
   "cell_type": "markdown",
   "metadata": {},
   "source": [
    "### Validating `polviews`\n",
    "\n",
    "`polviews` contains responses to the [following question](https://gssdataexplorer.norc.org/projects/52787/variables/178/vshow)\n",
    "\n",
    "> We hear a lot of talk these days about liberals and conservatives. \n",
    "I'm going to show you a seven-point scale on which the political views that people might hold are arranged from extremely liberal--point 1--to extremely conservative--point 7. Where would you place yourself on this scale?\n",
    "\n",
    "`values` takes a variable column and returns a series of values and their frequencies."
   ]
  },
  {
   "cell_type": "code",
   "execution_count": 4,
   "metadata": {},
   "outputs": [],
   "source": [
    "def values(series):\n",
    "    \"\"\"Count the values and sort.\n",
    "    \n",
    "    series: pd.Series\n",
    "    \n",
    "    returns: series mapping from values to frequencies\n",
    "    \"\"\"\n",
    "    return series.value_counts().sort_index()"
   ]
  },
  {
   "cell_type": "markdown",
   "metadata": {},
   "source": [
    "Here's the distribution of values for `polviews`"
   ]
  },
  {
   "cell_type": "code",
   "execution_count": 5,
   "metadata": {
    "scrolled": true
   },
   "outputs": [
    {
     "data": {
      "text/plain": [
       "1.0     1699\n",
       "2.0     6299\n",
       "3.0     6981\n",
       "4.0    21444\n",
       "5.0     8864\n",
       "6.0     8495\n",
       "7.0     1770\n",
       "Name: polviews, dtype: int64"
      ]
     },
     "execution_count": 5,
     "metadata": {},
     "output_type": "execute_result"
    }
   ],
   "source": [
    "values(gss['polviews'])"
   ]
  },
  {
   "cell_type": "markdown",
   "metadata": {},
   "source": [
    "If we select only records from 1974, we can compare the values to the table in the codebook."
   ]
  },
  {
   "cell_type": "code",
   "execution_count": 6,
   "metadata": {},
   "outputs": [
    {
     "data": {
      "text/plain": [
       "1484"
      ]
     },
     "execution_count": 6,
     "metadata": {},
     "output_type": "execute_result"
    }
   ],
   "source": [
    "gss74 = gss['year']==1974\n",
    "gss74.sum()"
   ]
  },
  {
   "cell_type": "markdown",
   "metadata": {},
   "source": [
    "The following values are consistent with the codebook, which confirms that we are reading the right variable and interpreting it correctly."
   ]
  },
  {
   "cell_type": "code",
   "execution_count": 7,
   "metadata": {},
   "outputs": [
    {
     "data": {
      "text/plain": [
       "1.0     31\n",
       "2.0    201\n",
       "3.0    211\n",
       "4.0    538\n",
       "5.0    223\n",
       "6.0    181\n",
       "7.0     30\n",
       "Name: polviews, dtype: int64"
      ]
     },
     "execution_count": 7,
     "metadata": {},
     "output_type": "execute_result"
    }
   ],
   "source": [
    "polviews74 = gss.loc[gss74, 'polviews']\n",
    "values(polviews74)"
   ]
  },
  {
   "cell_type": "markdown",
   "metadata": {},
   "source": [
    "Let's compare the results from 1974 and 2018."
   ]
  },
  {
   "cell_type": "code",
   "execution_count": 8,
   "metadata": {},
   "outputs": [],
   "source": [
    "gss18 = gss['year'] == 2018\n",
    "polviews18 = gss.loc[gss18, 'polviews']"
   ]
  },
  {
   "cell_type": "markdown",
   "metadata": {},
   "source": [
    "Here are the two distributions plotted side by side.  I use the `Pmf` class from `empiricaldist` to compute the probability mass functions (PMFs)."
   ]
  },
  {
   "cell_type": "code",
   "execution_count": 9,
   "metadata": {},
   "outputs": [
    {
     "data": {
      "image/png": "[encoded data removed]",
      "text/plain": [
       "<Figure size 432x288 with 1 Axes>"
      ]
     },
     "metadata": {
      "needs_background": "light"
     },
     "output_type": "display_data"
    }
   ],
   "source": [
    "from empiricaldist import Pmf\n",
    "\n",
    "Pmf.from_seq(polviews74).bar(label='1974', width=-0.45, align='edge', alpha=0.7)\n",
    "Pmf.from_seq(polviews18).bar(label='2018', width=0.45, align='edge', alpha=0.7)\n",
    "\n",
    "decorate(xlabel='Political view on a 7-point scale',\n",
    "         ylabel='Fraction of population',\n",
    "         title='Distribution of political views')"
   ]
  },
  {
   "cell_type": "markdown",
   "metadata": {},
   "source": []
  },
  {
   "cell_type": "markdown",
   "metadata": {},
   "source": [
    "### Mean and standard deviation\n",
    "\n",
    "To see how the distribution changes over time, we can group by year and compute the mean of `polviews` during each year."
   ]
  },
  {
   "cell_type": "code",
   "execution_count": 10,
   "metadata": {},
   "outputs": [
    {
     "data": {
      "text/plain": [
       "<pandas.core.groupby.generic.DataFrameGroupBy object at 0x7f86e3c3c390>"
      ]
     },
     "execution_count": 10,
     "metadata": {},
     "output_type": "execute_result"
    }
   ],
   "source": [
    "by_year = gss.groupby('year')\n",
    "by_year"
   ]
  },
  {
   "cell_type": "markdown",
   "metadata": {},
   "source": [
    "Here's what the plot looks like."
   ]
  },
  {
   "cell_type": "code",
   "execution_count": 11,
   "metadata": {},
   "outputs": [
    {
     "data": {
      "image/png": "[encoded data removed]",
      "text/plain": [
       "<Figure size 432x288 with 1 Axes>"
      ]
     },
     "metadata": {
      "needs_background": "light"
     },
     "output_type": "display_data"
    }
   ],
   "source": [
    "series = by_year['polviews'].mean()\n",
    "series.plot(label='polviews')\n",
    "decorate(ylabel='Mean (7 point scale)',\n",
    "         title='Mean of polviews')"
   ]
  },
  {
   "cell_type": "markdown",
   "metadata": {},
   "source": [
    "The standard deviation quantifies the spread of the distribution, which is one way to measure polarization."
   ]
  },
  {
   "cell_type": "code",
   "execution_count": 12,
   "metadata": {},
   "outputs": [
    {
     "data": {
      "image/png": "[encoded data removed]",
      "text/plain": [
       "<Figure size 432x288 with 1 Axes>"
      ]
     },
     "metadata": {
      "needs_background": "light"
     },
     "output_type": "display_data"
    }
   ],
   "source": [
    "series = by_year['polviews'].std()\n",
    "series.plot(color='C1', label='polviews')\n",
    "decorate(ylabel='Standard deviation (7 point scale)',\n",
    "         title='Standard deviation of polviews')"
   ]
  },
  {
   "cell_type": "markdown",
   "metadata": {},
   "source": [
    "Both plots are quite noisy."
   ]
  },
  {
   "cell_type": "markdown",
   "metadata": {},
   "source": [
    "### Local regression\n",
    "\n",
    "We can use local regression to compute a smooth line through these data points."
   ]
  },
  {
   "cell_type": "code",
   "execution_count": 13,
   "metadata": {},
   "outputs": [],
   "source": [
    "from statsmodels.nonparametric.smoothers_lowess import lowess\n",
    "\n",
    "def make_lowess(series):\n",
    "    \"\"\"Use LOWESS to compute a smooth line.\n",
    "    \n",
    "    series: pd.Series\n",
    "    \n",
    "    returns: pd.Series\n",
    "    \"\"\"\n",
    "    endog = series.values\n",
    "    exog = series.index.values\n",
    "\n",
    "    smooth = lowess(endog, exog)\n",
    "    index, data = np.transpose(smooth)\n",
    "\n",
    "    return pd.Series(data, index=index) "
   ]
  },
  {
   "cell_type": "markdown",
   "metadata": {},
   "source": [
    "We'll use the following function to plot data points and the smoothed line."
   ]
  },
  {
   "cell_type": "code",
   "execution_count": 14,
   "metadata": {},
   "outputs": [],
   "source": [
    "def plot_series_lowess(series, color):\n",
    "    \"\"\"Plots a series of data points and a smooth line.\n",
    "    \n",
    "    series: pd.Series\n",
    "    color: string or tuple\n",
    "    \"\"\"\n",
    "    series.plot(lw=0, marker='o', color=color, alpha=0.5)\n",
    "    smooth = make_lowess(series)\n",
    "    smooth.plot(label='_', color=color)"
   ]
  },
  {
   "cell_type": "markdown",
   "metadata": {},
   "source": [
    "`colors` is a dictionary that maps from column name to color, using conventional colors for conservatives and liberals."
   ]
  },
  {
   "cell_type": "code",
   "execution_count": 15,
   "metadata": {},
   "outputs": [
    {
     "data": {
      "image/png": "[encoded data removed]",
      "text/plain": [
       "<Figure size 360x72 with 1 Axes>"
      ]
     },
     "metadata": {
      "needs_background": "light"
     },
     "output_type": "display_data"
    }
   ],
   "source": [
    "palette = sns.color_palette('muted', 5)\n",
    "sns.palplot(palette)"
   ]
  },
  {
   "cell_type": "code",
   "execution_count": 16,
   "metadata": {},
   "outputs": [],
   "source": [
    "colors = {'Conservative': palette[3], \n",
    "              'Moderate': palette[4], \n",
    "               'Liberal': palette[0]}"
   ]
  },
  {
   "cell_type": "markdown",
   "metadata": {},
   "source": [
    "The following figure shows the mean of `polviews` and a smooth line."
   ]
  },
  {
   "cell_type": "code",
   "execution_count": 17,
   "metadata": {},
   "outputs": [
    {
     "data": {
      "image/png": "[encoded data removed]",
      "text/plain": [
       "<Figure size 432x288 with 1 Axes>"
      ]
     },
     "metadata": {
      "needs_background": "light"
     },
     "output_type": "display_data"
    }
   ],
   "source": [
    "series = by_year['polviews'].mean()\n",
    "plot_series_lowess(series, 'C2')\n",
    "decorate(ylabel='Mean (7 point scale)',\n",
    "         title='Mean of polviews',\n",
    "         xlabel='Year',\n",
    "         xlim=[1972, 2020])"
   ]
  },
  {
   "cell_type": "markdown",
   "metadata": {},
   "source": [
    "And here's the standard deviation of `polviews` with a smooth line."
   ]
  },
  {
   "cell_type": "code",
   "execution_count": 18,
   "metadata": {},
   "outputs": [
    {
     "data": {
      "image/png": "[encoded data removed]",
      "text/plain": [
       "<Figure size 432x288 with 1 Axes>"
      ]
     },
     "metadata": {
      "needs_background": "light"
     },
     "output_type": "display_data"
    }
   ],
   "source": [
    "series = by_year['polviews'].std()\n",
    "plot_series_lowess(series, color='C4')\n",
    "decorate(ylabel='Standard deviation (7 point scale)',\n",
    "         title='Standard deviation of polviews',\n",
    "         xlabel='Year',\n",
    "         xlim=[1972, 2020])"
   ]
  },
  {
   "cell_type": "markdown",
   "metadata": {},
   "source": [
    "### Categorical data"
   ]
  },
  {
   "cell_type": "markdown",
   "metadata": {},
   "source": [
    "In the previous sections, we treated `polviews` as a numeric quantity, but it's really categorical.  So let's see what we can do with it as a categorical variable."
   ]
  },
  {
   "cell_type": "code",
   "execution_count": 19,
   "metadata": {},
   "outputs": [
    {
     "data": {
      "text/plain": [
       "Conservative               8495\n",
       "Extremely conservative     1770\n",
       "Extremely liberal          1699\n",
       "Liberal                    6299\n",
       "Moderate                  21444\n",
       "Slightly conservative      8864\n",
       "Slightly liberal           6981\n",
       "Name: polviews7, dtype: int64"
      ]
     },
     "execution_count": 19,
     "metadata": {},
     "output_type": "execute_result"
    }
   ],
   "source": [
    "# recode the 7 point scale with words\n",
    "d = {1:'Extremely liberal', \n",
    "     2:'Liberal', \n",
    "     3:'Slightly liberal', \n",
    "     4:'Moderate', \n",
    "     5:'Slightly conservative', \n",
    "     6:'Conservative', \n",
    "     7:'Extremely conservative'}\n",
    "\n",
    "gss['polviews7'] = gss.polviews.replace(d)\n",
    "values(gss['polviews7'])"
   ]
  },
  {
   "cell_type": "markdown",
   "metadata": {},
   "source": [
    "The following function computes a `DataFrame` with the number of respondents in each category for each year."
   ]
  },
  {
   "cell_type": "code",
   "execution_count": 20,
   "metadata": {},
   "outputs": [],
   "source": [
    "def count_by_year(gss, varname):\n",
    "    \"\"\"Groups by category and year and counts.\n",
    "    \n",
    "    gss: DataFrame\n",
    "    varname: string variable to group by\n",
    "    \n",
    "    returns: DataFrame with one row per year, one column per category.\n",
    "    \"\"\"\n",
    "    grouped = gss.groupby([varname, 'year'])\n",
    "    count = grouped[varname].count().unstack(level=0)\n",
    "    \n",
    "    # note: the following is not ideal, because it does not\n",
    "    # distinguish 0 from NA, but in this dataset the only\n",
    "    # zeros are during years when the question was not asked.\n",
    "    count = count.replace(0, np.nan).dropna()\n",
    "    return count"
   ]
  },
  {
   "cell_type": "markdown",
   "metadata": {},
   "source": [
    "Here are the first few lines from the result.  We can compare the rows in this table with the columns in the codebook, confirming that the computation is correct, so far."
   ]
  },
  {
   "cell_type": "code",
   "execution_count": 21,
   "metadata": {},
   "outputs": [
    {
     "data": {
      "text/html": [
       "<div>\n",
       "<style scoped>\n",
       "    .dataframe tbody tr th:only-of-type {\n",
       "        vertical-align: middle;\n",
       "    }\n",
       "\n",
       "    .dataframe tbody tr th {\n",
       "        vertical-align: top;\n",
       "    }\n",
       "\n",
       "    .dataframe thead th {\n",
       "        text-align: right;\n",
       "    }\n",
       "</style>\n",
       "<table border=\"1\" class=\"dataframe\">\n",
       "  <thead>\n",
       "    <tr style=\"text-align: right;\">\n",
       "      <th>polviews7</th>\n",
       "      <th>Conservative</th>\n",
       "      <th>Extremely conservative</th>\n",
       "      <th>Extremely liberal</th>\n",
       "      <th>Liberal</th>\n",
       "      <th>Moderate</th>\n",
       "      <th>Slightly conservative</th>\n",
       "      <th>Slightly liberal</th>\n",
       "    </tr>\n",
       "    <tr>\n",
       "      <th>year</th>\n",
       "      <th></th>\n",
       "      <th></th>\n",
       "      <th></th>\n",
       "      <th></th>\n",
       "      <th></th>\n",
       "      <th></th>\n",
       "      <th></th>\n",
       "    </tr>\n",
       "  </thead>\n",
       "  <tbody>\n",
       "    <tr>\n",
       "      <th>1974</th>\n",
       "      <td>181</td>\n",
       "      <td>30</td>\n",
       "      <td>31</td>\n",
       "      <td>201</td>\n",
       "      <td>538</td>\n",
       "      <td>223</td>\n",
       "      <td>211</td>\n",
       "    </tr>\n",
       "    <tr>\n",
       "      <th>1975</th>\n",
       "      <td>162</td>\n",
       "      <td>45</td>\n",
       "      <td>56</td>\n",
       "      <td>184</td>\n",
       "      <td>540</td>\n",
       "      <td>204</td>\n",
       "      <td>207</td>\n",
       "    </tr>\n",
       "    <tr>\n",
       "      <th>1976</th>\n",
       "      <td>206</td>\n",
       "      <td>34</td>\n",
       "      <td>31</td>\n",
       "      <td>198</td>\n",
       "      <td>564</td>\n",
       "      <td>209</td>\n",
       "      <td>175</td>\n",
       "    </tr>\n",
       "    <tr>\n",
       "      <th>1977</th>\n",
       "      <td>164</td>\n",
       "      <td>42</td>\n",
       "      <td>37</td>\n",
       "      <td>181</td>\n",
       "      <td>594</td>\n",
       "      <td>243</td>\n",
       "      <td>214</td>\n",
       "    </tr>\n",
       "    <tr>\n",
       "      <th>1978</th>\n",
       "      <td>187</td>\n",
       "      <td>25</td>\n",
       "      <td>21</td>\n",
       "      <td>140</td>\n",
       "      <td>559</td>\n",
       "      <td>265</td>\n",
       "      <td>255</td>\n",
       "    </tr>\n",
       "  </tbody>\n",
       "</table>\n",
       "</div>"
      ],
      "text/plain": [
       "polviews7  Conservative  Extremely conservative  Extremely liberal  Liberal  \\\n",
       "year                                                                          \n",
       "1974                181                      30                 31      201   \n",
       "1975                162                      45                 56      184   \n",
       "1976                206                      34                 31      198   \n",
       "1977                164                      42                 37      181   \n",
       "1978                187                      25                 21      140   \n",
       "\n",
       "polviews7  Moderate  Slightly conservative  Slightly liberal  \n",
       "year                                                          \n",
       "1974            538                    223               211  \n",
       "1975            540                    204               207  \n",
       "1976            564                    209               175  \n",
       "1977            594                    243               214  \n",
       "1978            559                    265               255  "
      ]
     },
     "execution_count": 21,
     "metadata": {},
     "output_type": "execute_result"
    }
   ],
   "source": [
    "polviews7_count = count_by_year(gss, 'polviews7')\n",
    "polviews7_count.head()"
   ]
  },
  {
   "cell_type": "markdown",
   "metadata": {},
   "source": [
    "The number of respondents varies from year to year, so we need to \"normalize\", computing the fraction of respondents in each category, each year.\n",
    "\n",
    "The following function computes the total in each row and divides through, so each row adds up to 1."
   ]
  },
  {
   "cell_type": "code",
   "execution_count": 22,
   "metadata": {},
   "outputs": [],
   "source": [
    "def normalize_by_year(df):\n",
    "    \"\"\"Divide each row by its total.\n",
    "    \n",
    "    df: DataFrame with one year per row, one category per column\n",
    "    \"\"\"\n",
    "    # add up the elements of each row\n",
    "    total = df.sum(axis=1)\n",
    "    \n",
    "    # divide each column by the total\n",
    "    return df.div(total, axis=0)"
   ]
  },
  {
   "cell_type": "markdown",
   "metadata": {},
   "source": [
    "Here's what that looking like for the 7-point scale."
   ]
  },
  {
   "cell_type": "code",
   "execution_count": 23,
   "metadata": {},
   "outputs": [
    {
     "data": {
      "text/html": [
       "<div>\n",
       "<style scoped>\n",
       "    .dataframe tbody tr th:only-of-type {\n",
       "        vertical-align: middle;\n",
       "    }\n",
       "\n",
       "    .dataframe tbody tr th {\n",
       "        vertical-align: top;\n",
       "    }\n",
       "\n",
       "    .dataframe thead th {\n",
       "        text-align: right;\n",
       "    }\n",
       "</style>\n",
       "<table border=\"1\" class=\"dataframe\">\n",
       "  <thead>\n",
       "    <tr style=\"text-align: right;\">\n",
       "      <th>polviews7</th>\n",
       "      <th>Conservative</th>\n",
       "      <th>Extremely conservative</th>\n",
       "      <th>Extremely liberal</th>\n",
       "      <th>Liberal</th>\n",
       "      <th>Moderate</th>\n",
       "      <th>Slightly conservative</th>\n",
       "      <th>Slightly liberal</th>\n",
       "    </tr>\n",
       "    <tr>\n",
       "      <th>year</th>\n",
       "      <th></th>\n",
       "      <th></th>\n",
       "      <th></th>\n",
       "      <th></th>\n",
       "      <th></th>\n",
       "      <th></th>\n",
       "      <th></th>\n",
       "    </tr>\n",
       "  </thead>\n",
       "  <tbody>\n",
       "    <tr>\n",
       "      <th>1974</th>\n",
       "      <td>0.127915</td>\n",
       "      <td>0.021201</td>\n",
       "      <td>0.021908</td>\n",
       "      <td>0.142049</td>\n",
       "      <td>0.380212</td>\n",
       "      <td>0.157597</td>\n",
       "      <td>0.149117</td>\n",
       "    </tr>\n",
       "    <tr>\n",
       "      <th>1975</th>\n",
       "      <td>0.115880</td>\n",
       "      <td>0.032189</td>\n",
       "      <td>0.040057</td>\n",
       "      <td>0.131617</td>\n",
       "      <td>0.386266</td>\n",
       "      <td>0.145923</td>\n",
       "      <td>0.148069</td>\n",
       "    </tr>\n",
       "    <tr>\n",
       "      <th>1976</th>\n",
       "      <td>0.145378</td>\n",
       "      <td>0.023994</td>\n",
       "      <td>0.021877</td>\n",
       "      <td>0.139732</td>\n",
       "      <td>0.398024</td>\n",
       "      <td>0.147495</td>\n",
       "      <td>0.123500</td>\n",
       "    </tr>\n",
       "    <tr>\n",
       "      <th>1977</th>\n",
       "      <td>0.111186</td>\n",
       "      <td>0.028475</td>\n",
       "      <td>0.025085</td>\n",
       "      <td>0.122712</td>\n",
       "      <td>0.402712</td>\n",
       "      <td>0.164746</td>\n",
       "      <td>0.145085</td>\n",
       "    </tr>\n",
       "    <tr>\n",
       "      <th>1978</th>\n",
       "      <td>0.128788</td>\n",
       "      <td>0.017218</td>\n",
       "      <td>0.014463</td>\n",
       "      <td>0.096419</td>\n",
       "      <td>0.384986</td>\n",
       "      <td>0.182507</td>\n",
       "      <td>0.175620</td>\n",
       "    </tr>\n",
       "  </tbody>\n",
       "</table>\n",
       "</div>"
      ],
      "text/plain": [
       "polviews7  Conservative  Extremely conservative  Extremely liberal   Liberal  \\\n",
       "year                                                                           \n",
       "1974           0.127915                0.021201           0.021908  0.142049   \n",
       "1975           0.115880                0.032189           0.040057  0.131617   \n",
       "1976           0.145378                0.023994           0.021877  0.139732   \n",
       "1977           0.111186                0.028475           0.025085  0.122712   \n",
       "1978           0.128788                0.017218           0.014463  0.096419   \n",
       "\n",
       "polviews7  Moderate  Slightly conservative  Slightly liberal  \n",
       "year                                                          \n",
       "1974       0.380212               0.157597          0.149117  \n",
       "1975       0.386266               0.145923          0.148069  \n",
       "1976       0.398024               0.147495          0.123500  \n",
       "1977       0.402712               0.164746          0.145085  \n",
       "1978       0.384986               0.182507          0.175620  "
      ]
     },
     "execution_count": 23,
     "metadata": {},
     "output_type": "execute_result"
    }
   ],
   "source": [
    "polviews7_norm = normalize_by_year(polviews7_count)\n",
    "polviews7_norm.head()"
   ]
  },
  {
   "cell_type": "markdown",
   "metadata": {},
   "source": [
    "The following function takes a `DataFrame` and plots the columns using `plot_series_lowess`."
   ]
  },
  {
   "cell_type": "code",
   "execution_count": 24,
   "metadata": {},
   "outputs": [],
   "source": [
    "def plot_columns_lowess(df, columns, colors):\n",
    "    \"\"\"Plot the columns in a DataFrame.\n",
    "    \n",
    "    df: pd.DataFrame\n",
    "    columns: list of column names, in the desired order\n",
    "    colors: mapping from column names to colors\n",
    "    \"\"\"\n",
    "    for col in columns:\n",
    "        series = df[col]\n",
    "        plot_series_lowess(series, colors[col])"
   ]
  },
  {
   "cell_type": "markdown",
   "metadata": {},
   "source": [
    "We can get the column names from the dictionary we used to recode."
   ]
  },
  {
   "cell_type": "code",
   "execution_count": 25,
   "metadata": {},
   "outputs": [
    {
     "data": {
      "text/plain": [
       "dict_values(['Extremely liberal', 'Liberal', 'Slightly liberal', 'Moderate', 'Slightly conservative', 'Conservative', 'Extremely conservative'])"
      ]
     },
     "execution_count": 25,
     "metadata": {},
     "output_type": "execute_result"
    }
   ],
   "source": [
    "columns = d.values()\n",
    "columns"
   ]
  },
  {
   "cell_type": "markdown",
   "metadata": {},
   "source": [
    "I'll use purple for moderates and a divergent palette from blue to red for the other categories."
   ]
  },
  {
   "cell_type": "code",
   "execution_count": 26,
   "metadata": {},
   "outputs": [],
   "source": [
    "muted = sns.color_palette('muted', 5)\n",
    "purple = muted[4]"
   ]
  },
  {
   "cell_type": "code",
   "execution_count": 27,
   "metadata": {},
   "outputs": [
    {
     "data": {
      "image/png": "[encoded data removed]",
      "text/plain": [
       "<Figure size 504x72 with 1 Axes>"
      ]
     },
     "metadata": {
      "needs_background": "light"
     },
     "output_type": "display_data"
    }
   ],
   "source": [
    "palette = sns.color_palette('RdBu_r', 7)\n",
    "palette[3] = purple\n",
    "sns.palplot(palette)"
   ]
  },
  {
   "cell_type": "markdown",
   "metadata": {},
   "source": [
    "Here's the color dictionary."
   ]
  },
  {
   "cell_type": "code",
   "execution_count": 28,
   "metadata": {},
   "outputs": [],
   "source": [
    "colors = dict(zip(columns, palette))"
   ]
  },
  {
   "cell_type": "markdown",
   "metadata": {},
   "source": [
    "The following function sets the position of the figure legend."
   ]
  },
  {
   "cell_type": "code",
   "execution_count": 29,
   "metadata": {},
   "outputs": [],
   "source": [
    "def anchor_legend(x, y):\n",
    "    plt.legend(bbox_to_anchor=(x, y), loc='upper left', ncol=1)"
   ]
  },
  {
   "cell_type": "markdown",
   "metadata": {},
   "source": [
    "Here are the 7 categories plotted as a function of time."
   ]
  },
  {
   "cell_type": "code",
   "execution_count": 30,
   "metadata": {
    "scrolled": true
   },
   "outputs": [
    {
     "data": {
      "image/png": "[encoded data removed]",
      "text/plain": [
       "<Figure size 432x288 with 1 Axes>"
      ]
     },
     "metadata": {
      "needs_background": "light"
     },
     "output_type": "display_data"
    }
   ],
   "source": [
    "plot_columns_lowess(polviews7_norm, columns, colors)\n",
    "decorate(xlabel='Year',\n",
    "         ylabel='Proportion',\n",
    "         title='Fraction of people with each political view',\n",
    "         xlim=[1970, 2020])\n",
    "\n",
    "anchor_legend(1.02, 1.02)"
   ]
  },
  {
   "cell_type": "markdown",
   "metadata": {},
   "source": [
    "Here's a close look at the extremes."
   ]
  },
  {
   "cell_type": "code",
   "execution_count": 31,
   "metadata": {},
   "outputs": [
    {
     "data": {
      "image/png": "[encoded data removed]",
      "text/plain": [
       "<Figure size 432x288 with 1 Axes>"
      ]
     },
     "metadata": {
      "needs_background": "light"
     },
     "output_type": "display_data"
    }
   ],
   "source": [
    "columns2 = ['Extremely liberal', 'Extremely conservative']\n",
    "\n",
    "plot_columns_lowess(polviews7_norm, columns2, colors)\n",
    "decorate(xlabel='Year',\n",
    "         ylabel='Proportion',\n",
    "         title='Fraction of people with each political view',\n",
    "         xlim=[1970, 2020])"
   ]
  },
  {
   "cell_type": "markdown",
   "metadata": {},
   "source": [
    "### 3-point scale\n",
    "\n",
    "To make it easier to visualize groups, I'm going to lump the 7-point scale into a 3-point scale.\n",
    "\n",
    "With this scale, there are roughly the same number of people in each group."
   ]
  },
  {
   "cell_type": "code",
   "execution_count": 32,
   "metadata": {},
   "outputs": [
    {
     "data": {
      "text/plain": [
       "Conservative (all)    19129\n",
       "Liberal (all)         14979\n",
       "Moderate              21444\n",
       "Name: polviews3, dtype: int64"
      ]
     },
     "execution_count": 32,
     "metadata": {},
     "output_type": "execute_result"
    }
   ],
   "source": [
    "# replace 7 point scale with 3 point scale\n",
    "d = {1:'Liberal (all)', \n",
    "     2:'Liberal (all)', \n",
    "     3:'Liberal (all)', \n",
    "     4:'Moderate', \n",
    "     5:'Conservative (all)', \n",
    "     6:'Conservative (all)', \n",
    "     7:'Conservative (all)'}\n",
    "\n",
    "gss['polviews3'] = gss.polviews.replace(d)\n",
    "values(gss['polviews3'])"
   ]
  },
  {
   "cell_type": "markdown",
   "metadata": {},
   "source": [
    "Here's the number of people in each category, over time."
   ]
  },
  {
   "cell_type": "code",
   "execution_count": 33,
   "metadata": {},
   "outputs": [
    {
     "data": {
      "text/html": [
       "<div>\n",
       "<style scoped>\n",
       "    .dataframe tbody tr th:only-of-type {\n",
       "        vertical-align: middle;\n",
       "    }\n",
       "\n",
       "    .dataframe tbody tr th {\n",
       "        vertical-align: top;\n",
       "    }\n",
       "\n",
       "    .dataframe thead th {\n",
       "        text-align: right;\n",
       "    }\n",
       "</style>\n",
       "<table border=\"1\" class=\"dataframe\">\n",
       "  <thead>\n",
       "    <tr style=\"text-align: right;\">\n",
       "      <th>polviews3</th>\n",
       "      <th>Conservative (all)</th>\n",
       "      <th>Liberal (all)</th>\n",
       "      <th>Moderate</th>\n",
       "    </tr>\n",
       "    <tr>\n",
       "      <th>year</th>\n",
       "      <th></th>\n",
       "      <th></th>\n",
       "      <th></th>\n",
       "    </tr>\n",
       "  </thead>\n",
       "  <tbody>\n",
       "    <tr>\n",
       "      <th>1974</th>\n",
       "      <td>434</td>\n",
       "      <td>443</td>\n",
       "      <td>538</td>\n",
       "    </tr>\n",
       "    <tr>\n",
       "      <th>1975</th>\n",
       "      <td>411</td>\n",
       "      <td>447</td>\n",
       "      <td>540</td>\n",
       "    </tr>\n",
       "    <tr>\n",
       "      <th>1976</th>\n",
       "      <td>449</td>\n",
       "      <td>404</td>\n",
       "      <td>564</td>\n",
       "    </tr>\n",
       "    <tr>\n",
       "      <th>1977</th>\n",
       "      <td>449</td>\n",
       "      <td>432</td>\n",
       "      <td>594</td>\n",
       "    </tr>\n",
       "    <tr>\n",
       "      <th>1978</th>\n",
       "      <td>477</td>\n",
       "      <td>416</td>\n",
       "      <td>559</td>\n",
       "    </tr>\n",
       "  </tbody>\n",
       "</table>\n",
       "</div>"
      ],
      "text/plain": [
       "polviews3  Conservative (all)  Liberal (all)  Moderate\n",
       "year                                                  \n",
       "1974                      434            443       538\n",
       "1975                      411            447       540\n",
       "1976                      449            404       564\n",
       "1977                      449            432       594\n",
       "1978                      477            416       559"
      ]
     },
     "execution_count": 33,
     "metadata": {},
     "output_type": "execute_result"
    }
   ],
   "source": [
    "polviews3_count = count_by_year(gss, 'polviews3')\n",
    "polviews3_count.head()"
   ]
  },
  {
   "cell_type": "markdown",
   "metadata": {},
   "source": [
    "And here are the normalize counts."
   ]
  },
  {
   "cell_type": "code",
   "execution_count": 34,
   "metadata": {},
   "outputs": [
    {
     "data": {
      "text/html": [
       "<div>\n",
       "<style scoped>\n",
       "    .dataframe tbody tr th:only-of-type {\n",
       "        vertical-align: middle;\n",
       "    }\n",
       "\n",
       "    .dataframe tbody tr th {\n",
       "        vertical-align: top;\n",
       "    }\n",
       "\n",
       "    .dataframe thead th {\n",
       "        text-align: right;\n",
       "    }\n",
       "</style>\n",
       "<table border=\"1\" class=\"dataframe\">\n",
       "  <thead>\n",
       "    <tr style=\"text-align: right;\">\n",
       "      <th>polviews3</th>\n",
       "      <th>Conservative (all)</th>\n",
       "      <th>Liberal (all)</th>\n",
       "      <th>Moderate</th>\n",
       "    </tr>\n",
       "    <tr>\n",
       "      <th>year</th>\n",
       "      <th></th>\n",
       "      <th></th>\n",
       "      <th></th>\n",
       "    </tr>\n",
       "  </thead>\n",
       "  <tbody>\n",
       "    <tr>\n",
       "      <th>1974</th>\n",
       "      <td>0.306714</td>\n",
       "      <td>0.313074</td>\n",
       "      <td>0.380212</td>\n",
       "    </tr>\n",
       "    <tr>\n",
       "      <th>1975</th>\n",
       "      <td>0.293991</td>\n",
       "      <td>0.319742</td>\n",
       "      <td>0.386266</td>\n",
       "    </tr>\n",
       "    <tr>\n",
       "      <th>1976</th>\n",
       "      <td>0.316867</td>\n",
       "      <td>0.285109</td>\n",
       "      <td>0.398024</td>\n",
       "    </tr>\n",
       "    <tr>\n",
       "      <th>1977</th>\n",
       "      <td>0.304407</td>\n",
       "      <td>0.292881</td>\n",
       "      <td>0.402712</td>\n",
       "    </tr>\n",
       "    <tr>\n",
       "      <th>1978</th>\n",
       "      <td>0.328512</td>\n",
       "      <td>0.286501</td>\n",
       "      <td>0.384986</td>\n",
       "    </tr>\n",
       "  </tbody>\n",
       "</table>\n",
       "</div>"
      ],
      "text/plain": [
       "polviews3  Conservative (all)  Liberal (all)  Moderate\n",
       "year                                                  \n",
       "1974                 0.306714       0.313074  0.380212\n",
       "1975                 0.293991       0.319742  0.386266\n",
       "1976                 0.316867       0.285109  0.398024\n",
       "1977                 0.304407       0.292881  0.402712\n",
       "1978                 0.328512       0.286501  0.384986"
      ]
     },
     "execution_count": 34,
     "metadata": {},
     "output_type": "execute_result"
    }
   ],
   "source": [
    "polviews3_norm = normalize_by_year(polviews3_count)\n",
    "polviews3_norm.head()"
   ]
  },
  {
   "cell_type": "code",
   "execution_count": 35,
   "metadata": {},
   "outputs": [
    {
     "data": {
      "text/html": [
       "<div>\n",
       "<style scoped>\n",
       "    .dataframe tbody tr th:only-of-type {\n",
       "        vertical-align: middle;\n",
       "    }\n",
       "\n",
       "    .dataframe tbody tr th {\n",
       "        vertical-align: top;\n",
       "    }\n",
       "\n",
       "    .dataframe thead th {\n",
       "        text-align: right;\n",
       "    }\n",
       "</style>\n",
       "<table border=\"1\" class=\"dataframe\">\n",
       "  <thead>\n",
       "    <tr style=\"text-align: right;\">\n",
       "      <th>polviews3</th>\n",
       "      <th>Conservative (all)</th>\n",
       "      <th>Liberal (all)</th>\n",
       "      <th>Moderate</th>\n",
       "    </tr>\n",
       "    <tr>\n",
       "      <th>year</th>\n",
       "      <th></th>\n",
       "      <th></th>\n",
       "      <th></th>\n",
       "    </tr>\n",
       "  </thead>\n",
       "  <tbody>\n",
       "    <tr>\n",
       "      <th>2010</th>\n",
       "      <td>0.317468</td>\n",
       "      <td>0.284051</td>\n",
       "      <td>0.398481</td>\n",
       "    </tr>\n",
       "    <tr>\n",
       "      <th>2012</th>\n",
       "      <td>0.324109</td>\n",
       "      <td>0.294305</td>\n",
       "      <td>0.381586</td>\n",
       "    </tr>\n",
       "    <tr>\n",
       "      <th>2014</th>\n",
       "      <td>0.351351</td>\n",
       "      <td>0.255119</td>\n",
       "      <td>0.393530</td>\n",
       "    </tr>\n",
       "    <tr>\n",
       "      <th>2016</th>\n",
       "      <td>0.339376</td>\n",
       "      <td>0.290428</td>\n",
       "      <td>0.370196</td>\n",
       "    </tr>\n",
       "    <tr>\n",
       "      <th>2018</th>\n",
       "      <td>0.329495</td>\n",
       "      <td>0.275908</td>\n",
       "      <td>0.394597</td>\n",
       "    </tr>\n",
       "  </tbody>\n",
       "</table>\n",
       "</div>"
      ],
      "text/plain": [
       "polviews3  Conservative (all)  Liberal (all)  Moderate\n",
       "year                                                  \n",
       "2010                 0.317468       0.284051  0.398481\n",
       "2012                 0.324109       0.294305  0.381586\n",
       "2014                 0.351351       0.255119  0.393530\n",
       "2016                 0.339376       0.290428  0.370196\n",
       "2018                 0.329495       0.275908  0.394597"
      ]
     },
     "execution_count": 35,
     "metadata": {},
     "output_type": "execute_result"
    }
   ],
   "source": [
    "polviews3_norm.tail()"
   ]
  },
  {
   "cell_type": "markdown",
   "metadata": {},
   "source": [
    "Here's the color dictionary."
   ]
  },
  {
   "cell_type": "code",
   "execution_count": 36,
   "metadata": {},
   "outputs": [],
   "source": [
    "colors = {'Conservative (all)': muted[3], \n",
    "          'Moderate': muted[4], \n",
    "          'Liberal (all)': muted[0]}"
   ]
  },
  {
   "cell_type": "markdown",
   "metadata": {},
   "source": [
    "The following plot shows the fraction of respondents in each category over time."
   ]
  },
  {
   "cell_type": "code",
   "execution_count": 37,
   "metadata": {
    "scrolled": true
   },
   "outputs": [
    {
     "data": {
      "image/png": "[encoded data removed]",
      "text/plain": [
       "<Figure size 432x288 with 1 Axes>"
      ]
     },
     "metadata": {
      "needs_background": "light"
     },
     "output_type": "display_data"
    }
   ],
   "source": [
    "columns = ['Moderate', 'Conservative (all)', 'Liberal (all)']\n",
    "plot_columns_lowess(polviews3_norm, columns, colors)\n",
    "decorate(xlabel='Year',\n",
    "         ylabel='Proportion',\n",
    "         title='Fraction of people with each political view',\n",
    "         xlim=[1970, 2020])\n",
    "\n",
    "anchor_legend(1.02, 1.02)"
   ]
  },
  {
   "cell_type": "code",
   "execution_count": null,
   "metadata": {},
   "outputs": [],
   "source": []
  },
  {
   "cell_type": "code",
   "execution_count": null,
   "metadata": {},
   "outputs": [],
   "source": []
  }
 ],
 "metadata": {
  "kernelspec": {
   "display_name": "Python 3",
   "language": "python",
   "name": "python3"
  },
  "language_info": {
   "codemirror_mode": {
    "name": "ipython",
    "version": 3
   },
   "file_extension": ".py",
   "mimetype": "text/x-python",
   "name": "python",
   "nbconvert_exporter": "python",
   "pygments_lexer": "ipython3",
   "version": "3.7.3"
  }
 },
 "nbformat": 4,
 "nbformat_minor": 1
}
