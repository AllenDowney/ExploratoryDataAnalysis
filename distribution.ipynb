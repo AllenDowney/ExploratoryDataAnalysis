{
 "cells": [
  {
   "cell_type": "markdown",
   "metadata": {},
   "source": [
    "## Exploratory Data Analysis in Python\n",
    "\n",
    "### Supplementary material: Explaining the `Pmf` and `Cdf` objects.  \n",
    "\n",
    "To support my class, I define classes to represent probability mass functions (PMFs) and cumulative distribution functions (CDFs).  These classes are based on Pandas Series, and use method defined by Pandas and NumPy.\n",
    "\n",
    "The primary interface they provide is:\n",
    "\n",
    "* PMF forward lookup: for a given value, return the corresponding probability mass.\n",
    "\n",
    "* CDF forward lookup: for a given value, return the cumulative probability.\n",
    "\n",
    "* CDF inverse lookup: for a given probability, return the corresponding value.\n",
    "\n",
    "This notebook explains my implementation of these methods.\n",
    "\n",
    "Allen B. Downey\n",
    "\n",
    "[MIT License](https://en.wikipedia.org/wiki/MIT_License)"
   ]
  },
  {
   "cell_type": "code",
   "execution_count": 1,
   "metadata": {},
   "outputs": [],
   "source": [
    "# Configure Jupyter so figures appear in the notebook\n",
    "%matplotlib inline\n",
    "\n",
    "# Configure Jupyter to display the assigned value after an assignment\n",
    "%config InteractiveShell.ast_node_interactivity='last_expr_or_assign'\n",
    "\n",
    "import unittest\n",
    "\n",
    "import pandas as pd\n",
    "import numpy as np\n",
    "\n",
    "import matplotlib.pyplot as plt\n",
    "import seaborn as sns\n",
    "sns.set(style='white')"
   ]
  },
  {
   "cell_type": "code",
   "execution_count": 2,
   "metadata": {},
   "outputs": [],
   "source": [
    "def underride(d, **options):\n",
    "    \"\"\"Add key-value pairs to d only if key is not in d.\n",
    "\n",
    "    d: dictionary\n",
    "    options: keyword args to add to d\n",
    "    \"\"\"\n",
    "    for key, val in options.items():\n",
    "        d.setdefault(key, val)\n",
    "\n",
    "    return d"
   ]
  },
  {
   "cell_type": "markdown",
   "metadata": {},
   "source": [
    "## PMF\n",
    "\n",
    "The `Pmf` class inherits from a Pandas `Series`, so all `Series` methods also work on `Pmf` objects.\n",
    "\n",
    "I override the constructor so it takes a sequence of any kind and computes the \"value counts\", which is map from each unique value to the number of times it appears (if the `Pmf` is not normalized) or a probability mass (if the `Pmf` is normalized)."
   ]
  },
  {
   "cell_type": "code",
   "execution_count": 3,
   "metadata": {},
   "outputs": [],
   "source": [
    "class Pmf(pd.Series):\n",
    "    \n",
    "    def __init__(self, seq, name='Pmf', **options):\n",
    "        \"\"\"Make a PMF from a sequence.\n",
    "        \n",
    "        seq: sequence of values\n",
    "        name: string\n",
    "        sort: boolean, whether to sort the values, default True\n",
    "        normalize: boolean, whether to normalize the Pmf, default True\n",
    "        dropna: boolean, whether to drop NaN, default True\n",
    "        \"\"\"\n",
    "        # get the sort flag\n",
    "        sort = options.pop('sort', True)\n",
    "\n",
    "        # normalize unless the caller said not to\n",
    "        underride(options, normalize=True)\n",
    "        \n",
    "        # put the seq in a Series so we can use value_counts\n",
    "        series = pd.Series(seq, copy=False)\n",
    "        \n",
    "        # make the counts\n",
    "        # by default value_counts sorts by frequency, which\n",
    "        # is not what we want\n",
    "        options['sort'] = False\n",
    "        counts = series.value_counts(**options)\n",
    "        \n",
    "        # sort by value\n",
    "        if sort:\n",
    "            counts.sort_index(inplace=True)\n",
    "            \n",
    "        # call Series.__init__\n",
    "        super().__init__(counts, name=name)\n",
    "\n",
    "    @property\n",
    "    def qs(self):\n",
    "        return self.index.values\n",
    "\n",
    "    @property\n",
    "    def ps(self):\n",
    "        return self.values\n",
    "\n",
    "    def __call__(self, qs):\n",
    "        \"\"\"Look up a value in the PMF.\"\"\"\n",
    "        return self.get(qs, 0)\n",
    "\n",
    "    def normalize(self):\n",
    "        \"\"\"Normalize the PMF.\"\"\"\n",
    "        self /= self.sum()\n",
    "\n",
    "    def bar(self, **options):\n",
    "        \"\"\"Plot the PMF as a bar plot.\"\"\"\n",
    "        underride(options, label=self.name)\n",
    "        plt.bar(self.index, self.values, **options)\n",
    "\n",
    "    def plot(self, **options):\n",
    "        \"\"\"Plot the PMF with lines.\"\"\"\n",
    "        underride(options, label=self.name)\n",
    "        plt.plot(self.index, self.values, **options)"
   ]
  },
  {
   "cell_type": "markdown",
   "metadata": {},
   "source": [
    "Here's an example that makes a normalized `Pmf`, which is the default."
   ]
  },
  {
   "cell_type": "code",
   "execution_count": 4,
   "metadata": {},
   "outputs": [
    {
     "data": {
      "text/plain": [
       "1    0.2\n",
       "2    0.4\n",
       "3    0.2\n",
       "5    0.2\n",
       "Name: Pmf, dtype: float64"
      ]
     },
     "execution_count": 4,
     "metadata": {},
     "output_type": "execute_result"
    }
   ],
   "source": [
    "seq = [5, 3, 2, 2, 1]\n",
    "pmf = Pmf(seq)"
   ]
  },
  {
   "cell_type": "markdown",
   "metadata": {},
   "source": [
    "Forward lookup uses function call syntax, since the `Pmf` represents a mathematical function."
   ]
  },
  {
   "cell_type": "code",
   "execution_count": 5,
   "metadata": {},
   "outputs": [
    {
     "data": {
      "text/plain": [
       "0.2"
      ]
     },
     "execution_count": 5,
     "metadata": {},
     "output_type": "execute_result"
    }
   ],
   "source": [
    "pmf(1)"
   ]
  },
  {
   "cell_type": "code",
   "execution_count": 6,
   "metadata": {},
   "outputs": [
    {
     "data": {
      "text/plain": [
       "0.4"
      ]
     },
     "execution_count": 6,
     "metadata": {},
     "output_type": "execute_result"
    }
   ],
   "source": [
    "pmf(2)"
   ]
  },
  {
   "cell_type": "markdown",
   "metadata": {},
   "source": [
    "The PMF of a value that does not appear in the sequence is 0."
   ]
  },
  {
   "cell_type": "code",
   "execution_count": 7,
   "metadata": {},
   "outputs": [
    {
     "data": {
      "text/plain": [
       "0"
      ]
     },
     "execution_count": 7,
     "metadata": {},
     "output_type": "execute_result"
    }
   ],
   "source": [
    "pmf(4)"
   ]
  },
  {
   "cell_type": "markdown",
   "metadata": {},
   "source": [
    "`Pmf` provides a plot method that displays the `Pmf` as a line plot."
   ]
  },
  {
   "cell_type": "code",
   "execution_count": 8,
   "metadata": {},
   "outputs": [
    {
     "data": {
      "image/png": "[encoded data removed]",
      "text/plain": [
       "<Figure size 432x288 with 1 Axes>"
      ]
     },
     "metadata": {
      "needs_background": "light"
     },
     "output_type": "display_data"
    }
   ],
   "source": [
    "pmf.plot()"
   ]
  },
  {
   "cell_type": "markdown",
   "metadata": {},
   "source": [
    "And a bar method that displays the `Pmf` as a bar plot."
   ]
  },
  {
   "cell_type": "code",
   "execution_count": 9,
   "metadata": {},
   "outputs": [
    {
     "data": {
      "image/png": "[encoded data removed]",
      "text/plain": [
       "<Figure size 432x288 with 1 Axes>"
      ]
     },
     "metadata": {
      "needs_background": "light"
     },
     "output_type": "display_data"
    }
   ],
   "source": [
    "pmf.bar()"
   ]
  },
  {
   "cell_type": "markdown",
   "metadata": {},
   "source": [
    "`Pmf` makes the quantities available as a property, `qs`."
   ]
  },
  {
   "cell_type": "code",
   "execution_count": 10,
   "metadata": {},
   "outputs": [
    {
     "data": {
      "text/plain": [
       "array([1, 2, 3, 5])"
      ]
     },
     "execution_count": 10,
     "metadata": {},
     "output_type": "execute_result"
    }
   ],
   "source": [
    "pmf.qs"
   ]
  },
  {
   "cell_type": "markdown",
   "metadata": {},
   "source": [
    "And the probabilities available as a property, `ps`.  Both return NumPy arrays."
   ]
  },
  {
   "cell_type": "code",
   "execution_count": 11,
   "metadata": {},
   "outputs": [
    {
     "data": {
      "text/plain": [
       "array([0.2, 0.4, 0.2, 0.2])"
      ]
     },
     "execution_count": 11,
     "metadata": {},
     "output_type": "execute_result"
    }
   ],
   "source": [
    "pmf.ps"
   ]
  },
  {
   "cell_type": "markdown",
   "metadata": {},
   "source": [
    "The following are unit tests for `Pmf` objects:"
   ]
  },
  {
   "cell_type": "code",
   "execution_count": 12,
   "metadata": {},
   "outputs": [
    {
     "name": "stderr",
     "output_type": "stream",
     "text": [
      "..\n",
      "----------------------------------------------------------------------\n",
      "Ran 2 tests in 0.007s\n",
      "\n",
      "OK\n"
     ]
    }
   ],
   "source": [
    "def run_tests():\n",
    "    unittest.main(argv=['first-arg-is-ignored'], exit=False)\n",
    "\n",
    "class TestPmf(unittest.TestCase):\n",
    "\n",
    "    def test_pmf(self):\n",
    "        seq = [5, 3, 2, 2, 1]\n",
    "        pmf = Pmf(seq)\n",
    "        self.assertEqual(pmf(1), 0.2)\n",
    "        self.assertEqual(pmf(2), 0.4)\n",
    "        self.assertEqual(pmf(4), 0.0)\n",
    "\n",
    "    def test_pmf_normalize_false(self):\n",
    "        seq = [5, 3, 2, 2, 1]\n",
    "        pmf = Pmf(seq, normalize=False)\n",
    "        self.assertEqual(pmf(1), 1)\n",
    "        self.assertEqual(pmf(2), 2)\n",
    "        self.assertEqual(pmf(4), 0)\n",
    "    \n",
    "run_tests()"
   ]
  },
  {
   "cell_type": "markdown",
   "metadata": {},
   "source": [
    "## CDF\n",
    "\n",
    "The `Cdf` class also inherits from `Series`.\n",
    "\n",
    "The constructor takes a sequence of values.  First it makes a sorted `Pmf`, then it computes the cumulative sum of the probabilities.  If normalized, it divides the cumulative probabilities by the last cumulative probability, which is the total."
   ]
  },
  {
   "cell_type": "code",
   "execution_count": 13,
   "metadata": {},
   "outputs": [],
   "source": [
    "from scipy.interpolate import interp1d\n",
    "\n",
    "class Cdf(pd.Series):\n",
    "\n",
    "    def __init__(self, seq, name='Cdf', **options):\n",
    "        \"\"\"Make a CDF from a sequence.\n",
    "        \n",
    "        seq: sequence of values\n",
    "        name: string\n",
    "        sort: boolean, whether to sort the values, default True\n",
    "        normalize: boolean, whether to normalize the Cdf, default True\n",
    "        dropna: boolean, whether to drop NaN, default True\n",
    "        \"\"\"\n",
    "        # get the normalize option\n",
    "        normalize = options.pop('normalize', True)\n",
    "        \n",
    "        # make the PMF and CDF\n",
    "        pmf = Pmf(seq, normalize=False, **options)\n",
    "        cdf = pmf.cumsum()\n",
    "        \n",
    "        # normalizing the CDF, rather than the PMF,\n",
    "        # avoids floating-point errors and guarantees\n",
    "        # that the last proability is 1.0\n",
    "        if normalize:\n",
    "            cdf /= cdf.values[-1]\n",
    "        super().__init__(cdf, name=name, copy=False)\n",
    "        \n",
    "    @property\n",
    "    def qs(self):\n",
    "        return self.index.values\n",
    "\n",
    "    @property\n",
    "    def ps(self):\n",
    "        return self.values\n",
    "\n",
    "    @property\n",
    "    def forward(self):\n",
    "        return interp1d(self.qs, self.ps,\n",
    "                        kind='previous',\n",
    "                        assume_sorted=True,\n",
    "                        bounds_error=False,\n",
    "                        fill_value=(0,1))\n",
    "\n",
    "    @property\n",
    "    def inverse(self):\n",
    "        return interp1d(self.ps, self.qs,\n",
    "                        kind='next',\n",
    "                        assume_sorted=True,\n",
    "                        bounds_error=False,\n",
    "                        fill_value=(self.qs[0], np.nan))\n",
    "\n",
    "    def __call__(self, qs):\n",
    "        return self.forward(qs)\n",
    "\n",
    "    def percentile_rank(self, qs):\n",
    "        return self.forward(qs) * 100\n",
    "\n",
    "    def percentile(self, percentile_ranks):\n",
    "        return self.inverse(percentile_ranks / 100)\n",
    "\n",
    "    def step(self, **options):\n",
    "        \"\"\"Plot the CDF as a step function.\"\"\"\n",
    "        underride(options, label=self.name, where='post')\n",
    "        plt.step(self.index, self.values, **options)\n",
    "\n",
    "    def plot(self, **options):\n",
    "        \"\"\"Plot the CDF as a line.\"\"\"\n",
    "        underride(options, label=self.name)\n",
    "        plt.plot(self.index, self.values, **options)"
   ]
  },
  {
   "cell_type": "markdown",
   "metadata": {},
   "source": [
    "Here's an example."
   ]
  },
  {
   "cell_type": "code",
   "execution_count": 14,
   "metadata": {},
   "outputs": [
    {
     "data": {
      "text/plain": [
       "1    0.2\n",
       "2    0.6\n",
       "3    0.8\n",
       "5    1.0\n",
       "Name: Cdf, dtype: float64"
      ]
     },
     "execution_count": 14,
     "metadata": {},
     "output_type": "execute_result"
    }
   ],
   "source": [
    "cdf = Cdf([5, 3, 2, 2, 1])"
   ]
  },
  {
   "cell_type": "markdown",
   "metadata": {},
   "source": [
    "The quantities are available as a property, `qs`:"
   ]
  },
  {
   "cell_type": "code",
   "execution_count": 15,
   "metadata": {},
   "outputs": [
    {
     "data": {
      "text/plain": [
       "array([1, 2, 3, 5])"
      ]
     },
     "execution_count": 15,
     "metadata": {},
     "output_type": "execute_result"
    }
   ],
   "source": [
    "cdf.qs"
   ]
  },
  {
   "cell_type": "markdown",
   "metadata": {},
   "source": [
    "The cumulative probabilities are available as a property, `ps`:"
   ]
  },
  {
   "cell_type": "code",
   "execution_count": 16,
   "metadata": {},
   "outputs": [
    {
     "data": {
      "text/plain": [
       "array([0.2, 0.6, 0.8, 1. ])"
      ]
     },
     "execution_count": 16,
     "metadata": {},
     "output_type": "execute_result"
    }
   ],
   "source": [
    "cdf.ps"
   ]
  },
  {
   "cell_type": "markdown",
   "metadata": {},
   "source": [
    "Cdf provides a method, `step`, that plots the CDF as a step function (which is technically what it is)."
   ]
  },
  {
   "cell_type": "code",
   "execution_count": 17,
   "metadata": {},
   "outputs": [
    {
     "data": {
      "image/png": "[encoded data removed]",
      "text/plain": [
       "<Figure size 432x288 with 1 Axes>"
      ]
     },
     "metadata": {
      "needs_background": "light"
     },
     "output_type": "display_data"
    }
   ],
   "source": [
    "cdf.step()"
   ]
  },
  {
   "cell_type": "markdown",
   "metadata": {},
   "source": [
    "It also provides `plot`, which plots the CDF as a line plot."
   ]
  },
  {
   "cell_type": "code",
   "execution_count": 18,
   "metadata": {},
   "outputs": [
    {
     "data": {
      "image/png": "[encoded data removed]",
      "text/plain": [
       "<Figure size 432x288 with 1 Axes>"
      ]
     },
     "metadata": {
      "needs_background": "light"
     },
     "output_type": "display_data"
    }
   ],
   "source": [
    "cdf.plot()"
   ]
  },
  {
   "cell_type": "markdown",
   "metadata": {},
   "source": [
    "Here's an example that uses forward lookup to get the cumulative probabilities for a sequence of quantities."
   ]
  },
  {
   "cell_type": "code",
   "execution_count": 19,
   "metadata": {},
   "outputs": [
    {
     "data": {
      "text/plain": [
       "array([0. , 0.2, 0.2, 0.6, 0.6, 0.8, 0.8, 1. , 1. ])"
      ]
     },
     "execution_count": 19,
     "metadata": {},
     "output_type": "execute_result"
    }
   ],
   "source": [
    "qs = [0, 1, 1.5, 2, 2.5, 3, 4, 5, 6]\n",
    "cdf(qs)"
   ]
  },
  {
   "cell_type": "markdown",
   "metadata": {},
   "source": [
    "The function call syntax is equivalent to calling the `forward` method."
   ]
  },
  {
   "cell_type": "code",
   "execution_count": 20,
   "metadata": {},
   "outputs": [
    {
     "data": {
      "text/plain": [
       "array([0. , 0.2, 0.2, 0.6, 0.6, 0.8, 0.8, 1. , 1. ])"
      ]
     },
     "execution_count": 20,
     "metadata": {},
     "output_type": "execute_result"
    }
   ],
   "source": [
    "qs = [0, 1, 1.5, 2, 2.5, 3, 4, 5, 6]\n",
    "cdf.forward(qs)"
   ]
  },
  {
   "cell_type": "markdown",
   "metadata": {},
   "source": [
    "Here's an example that uses `inverse` to compute the quantities for range of probabilities."
   ]
  },
  {
   "cell_type": "code",
   "execution_count": 21,
   "metadata": {},
   "outputs": [
    {
     "data": {
      "text/plain": [
       "array([0. , 0.2, 0.4, 0.6, 0.8, 1. ])"
      ]
     },
     "execution_count": 21,
     "metadata": {},
     "output_type": "execute_result"
    }
   ],
   "source": [
    "ps = np.linspace(0, 1, 6)"
   ]
  },
  {
   "cell_type": "code",
   "execution_count": 22,
   "metadata": {},
   "outputs": [
    {
     "data": {
      "text/plain": [
       "array([1., 1., 2., 3., 3., 5.])"
      ]
     },
     "execution_count": 22,
     "metadata": {},
     "output_type": "execute_result"
    }
   ],
   "source": [
    "cdf.inverse(ps)"
   ]
  },
  {
   "cell_type": "markdown",
   "metadata": {},
   "source": [
    "And here are some unit tests for `Cdf`."
   ]
  },
  {
   "cell_type": "code",
   "execution_count": 23,
   "metadata": {},
   "outputs": [
    {
     "name": "stderr",
     "output_type": "stream",
     "text": [
      "....\n",
      "----------------------------------------------------------------------\n",
      "Ran 4 tests in 0.007s\n",
      "\n",
      "OK\n"
     ]
    }
   ],
   "source": [
    "class TestCdf(unittest.TestCase):\n",
    "\n",
    "    def test_cdf(self):\n",
    "        seq = [5, 3, 2, 2, 1]\n",
    "        cdf = Cdf(seq)\n",
    "        self.assertAlmostEqual(cdf(0), 0)\n",
    "        self.assertAlmostEqual(cdf(1), 0.2)\n",
    "        self.assertAlmostEqual(cdf(2), 0.6)\n",
    "        self.assertAlmostEqual(cdf(3), 0.8)\n",
    "        self.assertAlmostEqual(cdf(4), 0.8)\n",
    "        self.assertAlmostEqual(cdf(5), 1)\n",
    "        self.assertAlmostEqual(cdf(6), 1)\n",
    "        \n",
    "    def test_cdf_inverse(self):\n",
    "        seq = [5, 3, 2, 2, 1]\n",
    "        cdf = Cdf(seq)\n",
    "        self.assertAlmostEqual(cdf.inverse(0), 1)\n",
    "        self.assertAlmostEqual(cdf.inverse(0.2), 1)\n",
    "        self.assertAlmostEqual(cdf.inverse(0.3), 2)\n",
    "        self.assertAlmostEqual(cdf.inverse(0.4), 2)\n",
    "        self.assertAlmostEqual(cdf.inverse(0.41), 2)\n",
    "        self.assertAlmostEqual(cdf.inverse(0.6), 2)\n",
    "        self.assertAlmostEqual(cdf.inverse(0.8), 3)\n",
    "        self.assertAlmostEqual(cdf.inverse(1), 5)\n",
    "    \n",
    "run_tests()"
   ]
  }
 ],
 "metadata": {
  "kernelspec": {
   "display_name": "Python 3",
   "language": "python",
   "name": "python3"
  },
  "language_info": {
   "codemirror_mode": {
    "name": "ipython",
    "version": 3
   },
   "file_extension": ".py",
   "mimetype": "text/x-python",
   "name": "python",
   "nbconvert_exporter": "python",
   "pygments_lexer": "ipython3",
   "version": "3.6.7"
  }
 },
 "nbformat": 4,
 "nbformat_minor": 2
}
