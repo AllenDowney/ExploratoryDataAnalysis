{
 "cells": [
  {
   "cell_type": "code",
   "execution_count": 15,
   "metadata": {},
   "outputs": [],
   "source": [
    "# Configure Jupyter so figures appear in the notebook\n",
    "%matplotlib inline\n",
    "\n",
    "# Configure Jupyter to display the assigned value after an assignment\n",
    "%config InteractiveShell.ast_node_interactivity='last_expr_or_assign'\n",
    "\n",
    "import unittest\n",
    "from collections import Counter\n",
    "\n",
    "import pandas as pd\n",
    "import numpy as np\n",
    "\n",
    "import matplotlib.pyplot as plt\n",
    "import seaborn as sns\n",
    "sns.set(style='white', font_scale=1.5, context='talk')\n",
    "\n",
    "import utils"
   ]
  },
  {
   "cell_type": "code",
   "execution_count": 256,
   "metadata": {},
   "outputs": [],
   "source": [
    "def underride(d, **options):\n",
    "    \"\"\"Add key-value pairs to d only if key is not in d.\n",
    "\n",
    "    d: dictionary\n",
    "    options: keyword args to add to d\n",
    "    \"\"\"\n",
    "    for key, val in options.items():\n",
    "        d.setdefault(key, val)\n",
    "\n",
    "    return d"
   ]
  },
  {
   "cell_type": "code",
   "execution_count": 257,
   "metadata": {},
   "outputs": [],
   "source": [
    "class Pmf(pd.Series):\n",
    "    \n",
    "    @staticmethod\n",
    "    def from_seq(seq):\n",
    "        xs, ps = np.unique(seq, return_counts=True)\n",
    "        ps = ps / np.sum(ps)\n",
    "        return Pmf(ps, index=xs)\n",
    "    \n",
    "    @staticmethod\n",
    "    def from_map(d):\n",
    "        pmf = Pmf(d)\n",
    "        pmf.sort()\n",
    "        pmf.normalize()\n",
    "        return pmf\n",
    "    \n",
    "    @property\n",
    "    def xs(self):\n",
    "        return self.index\n",
    "    \n",
    "    @property\n",
    "    def ps(self):\n",
    "        return self.values\n",
    "    \n",
    "    def __call__(self, qs):\n",
    "        return self.get(qs, 0)\n",
    "    \n",
    "    def normalize(self):\n",
    "        self /= self.sum()\n",
    "        \n",
    "    def sort(self):\n",
    "        self.sort_index(inplace=True)\n",
    "    \n",
    "    def bar(self, **options):\n",
    "        plt.bar(self.index, self.values, **options)\n",
    "        \n",
    "    def plot(self, **options):\n",
    "        plt.plot(self.index, self.values, **options)"
   ]
  },
  {
   "cell_type": "code",
   "execution_count": 258,
   "metadata": {},
   "outputs": [
    {
     "data": {
      "text/plain": [
       "1    0.2\n",
       "2    0.4\n",
       "3    0.2\n",
       "5    0.2\n",
       "dtype: float64"
      ]
     },
     "execution_count": 258,
     "metadata": {},
     "output_type": "execute_result"
    }
   ],
   "source": [
    "seq = [5, 3, 2, 2, 1]\n",
    "pmf = Pmf.from_seq(seq)"
   ]
  },
  {
   "cell_type": "code",
   "execution_count": 259,
   "metadata": {},
   "outputs": [
    {
     "data": {
      "text/plain": [
       "0.2"
      ]
     },
     "execution_count": 259,
     "metadata": {},
     "output_type": "execute_result"
    }
   ],
   "source": [
    "pmf(1)"
   ]
  },
  {
   "cell_type": "code",
   "execution_count": 260,
   "metadata": {},
   "outputs": [
    {
     "data": {
      "text/plain": [
       "0.4"
      ]
     },
     "execution_count": 260,
     "metadata": {},
     "output_type": "execute_result"
    }
   ],
   "source": [
    "pmf(2)"
   ]
  },
  {
   "cell_type": "code",
   "execution_count": 261,
   "metadata": {},
   "outputs": [
    {
     "data": {
      "text/plain": [
       "0"
      ]
     },
     "execution_count": 261,
     "metadata": {},
     "output_type": "execute_result"
    }
   ],
   "source": [
    "pmf(4)"
   ]
  },
  {
   "cell_type": "code",
   "execution_count": 262,
   "metadata": {},
   "outputs": [
    {
     "data": {
      "text/plain": [
       "Counter({5: 1, 3: 1, 2: 2, 1: 1})"
      ]
     },
     "execution_count": 262,
     "metadata": {},
     "output_type": "execute_result"
    }
   ],
   "source": [
    "c = Counter(seq)"
   ]
  },
  {
   "cell_type": "code",
   "execution_count": 263,
   "metadata": {},
   "outputs": [
    {
     "data": {
      "text/plain": [
       "1    0.2\n",
       "2    0.4\n",
       "3    0.2\n",
       "5    0.2\n",
       "dtype: float64"
      ]
     },
     "execution_count": 263,
     "metadata": {},
     "output_type": "execute_result"
    }
   ],
   "source": [
    "pmf = Pmf.from_map(c)"
   ]
  },
  {
   "cell_type": "code",
   "execution_count": 264,
   "metadata": {},
   "outputs": [
    {
     "data": {
      "image/png": "[encoded data removed]",
      "text/plain": [
       "<Figure size 432x288 with 1 Axes>"
      ]
     },
     "metadata": {},
     "output_type": "display_data"
    }
   ],
   "source": [
    "pmf.bar()"
   ]
  },
  {
   "cell_type": "code",
   "execution_count": 266,
   "metadata": {},
   "outputs": [
    {
     "data": {
      "image/png": "[encoded data removed]",
      "text/plain": [
       "<Figure size 432x288 with 1 Axes>"
      ]
     },
     "metadata": {},
     "output_type": "display_data"
    }
   ],
   "source": [
    "pmf.plot()"
   ]
  },
  {
   "cell_type": "code",
   "execution_count": 132,
   "metadata": {},
   "outputs": [
    {
     "data": {
      "text/plain": [
       "Int64Index([1, 2, 3, 5], dtype='int64')"
      ]
     },
     "execution_count": 132,
     "metadata": {},
     "output_type": "execute_result"
    }
   ],
   "source": [
    "pmf.xs"
   ]
  },
  {
   "cell_type": "code",
   "execution_count": 133,
   "metadata": {},
   "outputs": [
    {
     "data": {
      "text/plain": [
       "array([0.2, 0.4, 0.2, 0.2])"
      ]
     },
     "execution_count": 133,
     "metadata": {},
     "output_type": "execute_result"
    }
   ],
   "source": [
    "pmf.ps"
   ]
  },
  {
   "cell_type": "code",
   "execution_count": 277,
   "metadata": {},
   "outputs": [
    {
     "name": "stderr",
     "output_type": "stream",
     "text": [
      "...\n",
      "----------------------------------------------------------------------\n",
      "Ran 3 tests in 0.005s\n",
      "\n",
      "OK\n"
     ]
    }
   ],
   "source": [
    "\n",
    "\n",
    "def run_tests():\n",
    "    unittest.main(argv=['first-arg-is-ignored'], exit=False)\n",
    "\n",
    "class TestPmf(unittest.TestCase):\n",
    "\n",
    "    def test_pmf_from_seq(self):\n",
    "        seq = [5, 3, 2, 2, 1]\n",
    "        pmf = Pmf.from_seq(seq)\n",
    "        self.assertEqual(pmf(1), 0.2)\n",
    "        self.assertEqual(pmf(2), 0.4)\n",
    "        self.assertEqual(pmf(4), 0.0)\n",
    "\n",
    "    def test_pmf_from_map(self):\n",
    "        seq = [5, 3, 2, 2, 1]\n",
    "        c = Counter(seq)\n",
    "        pmf = Pmf.from_map(c)\n",
    "        self.assertEqual(pmf(1), 0.2)\n",
    "        self.assertEqual(pmf(2), 0.4)\n",
    "        self.assertEqual(pmf(4), 0.0)\n",
    "\n",
    "    def test_pmf_from_series(self):\n",
    "        qs = [5, 3, 2, 1]\n",
    "        ps = [1, 1, 2, 1]\n",
    "        pmf = Pmf(ps, index=qs)\n",
    "        pmf.normalize()\n",
    "        pmf.sort()\n",
    "        self.assertEqual(pmf(1), 0.2)\n",
    "        self.assertEqual(pmf(2), 0.4)\n",
    "        self.assertEqual(pmf(4), 0.0)\n",
    "\n",
    "    \n",
    "run_tests()"
   ]
  },
  {
   "cell_type": "code",
   "execution_count": 299,
   "metadata": {},
   "outputs": [],
   "source": [
    "from scipy.interpolate import interp1d\n",
    "\n",
    "class Cdf(pd.Series):\n",
    "    \n",
    "    @staticmethod\n",
    "    def from_seq(seq):\n",
    "        pmf = Pmf.from_seq(seq)\n",
    "        return Cdf(pmf.cumsum())\n",
    "    \n",
    "    @staticmethod\n",
    "    def from_map(d):\n",
    "        pmf = Pmf.from_map(d)\n",
    "        return Cdf(pmf.cumsum())\n",
    "    \n",
    "    @property\n",
    "    def qs(self):\n",
    "        return self.index\n",
    "    \n",
    "    @property\n",
    "    def ps(self):\n",
    "        return self.values\n",
    "    \n",
    "    @property\n",
    "    def forward(self):\n",
    "        return interp1d(cdf.qs, cdf.ps,\n",
    "                          kind='previous',\n",
    "                          assume_sorted=True,\n",
    "                          bounds_error=False,\n",
    "                          fill_value=(0,1))\n",
    "    \n",
    "    @property\n",
    "    def inverse(self):\n",
    "        return interp1d(cdf.ps, cdf.qs, \n",
    "                          kind='next',\n",
    "                          assume_sorted=True,\n",
    "                          bounds_error=False,\n",
    "                          fill_value=(cdf.qs[0], np.nan))\n",
    "    \n",
    "    def __call__(self, qs):\n",
    "        return self.forward(qs)\n",
    "    \n",
    "    def percentile_rank(self, qs):\n",
    "        return self.forward(qs) * 100\n",
    "    \n",
    "    def percentile(self, percentile_ranks):\n",
    "        return self.inverse(percentile_ranks / 100)\n",
    "    \n",
    "    def step(self, **options):\n",
    "        underride(options, where='post')\n",
    "        plt.step(self.index, self.values, **options)\n",
    "    \n",
    "    def plot(self, **options):\n",
    "        plt.plot(self.index, self.values, **options)"
   ]
  },
  {
   "cell_type": "code",
   "execution_count": 300,
   "metadata": {},
   "outputs": [
    {
     "data": {
      "text/plain": [
       "1    0.2\n",
       "2    0.6\n",
       "3    0.8\n",
       "5    1.0\n",
       "dtype: float64"
      ]
     },
     "execution_count": 300,
     "metadata": {},
     "output_type": "execute_result"
    }
   ],
   "source": [
    "cdf = Cdf.from_seq([5, 3, 2, 2, 1])"
   ]
  },
  {
   "cell_type": "code",
   "execution_count": 301,
   "metadata": {},
   "outputs": [
    {
     "data": {
      "text/plain": [
       "Int64Index([1, 2, 3, 5], dtype='int64')"
      ]
     },
     "execution_count": 301,
     "metadata": {},
     "output_type": "execute_result"
    }
   ],
   "source": [
    "cdf.qs"
   ]
  },
  {
   "cell_type": "code",
   "execution_count": 302,
   "metadata": {},
   "outputs": [
    {
     "data": {
      "text/plain": [
       "array([0.2, 0.6, 0.8, 1. ])"
      ]
     },
     "execution_count": 302,
     "metadata": {},
     "output_type": "execute_result"
    }
   ],
   "source": [
    "cdf.ps"
   ]
  },
  {
   "cell_type": "code",
   "execution_count": 303,
   "metadata": {},
   "outputs": [
    {
     "data": {
      "image/png": "[encoded data removed]",
      "text/plain": [
       "<Figure size 432x288 with 1 Axes>"
      ]
     },
     "metadata": {},
     "output_type": "display_data"
    }
   ],
   "source": [
    "cdf.step()"
   ]
  },
  {
   "cell_type": "code",
   "execution_count": 304,
   "metadata": {},
   "outputs": [
    {
     "data": {
      "image/png": "[encoded data removed]",
      "text/plain": [
       "<Figure size 432x288 with 1 Axes>"
      ]
     },
     "metadata": {},
     "output_type": "display_data"
    }
   ],
   "source": [
    "cdf.plot()"
   ]
  },
  {
   "cell_type": "code",
   "execution_count": 313,
   "metadata": {},
   "outputs": [
    {
     "data": {
      "text/plain": [
       "array([0. , 0.2, 0.2, 0.6, 0.6, 0.8, 0.8, 1. , 1. ])"
      ]
     },
     "execution_count": 313,
     "metadata": {},
     "output_type": "execute_result"
    }
   ],
   "source": [
    "qs = [0, 1, 1.5, 2, 2.5, 3, 4, 5, 6]\n",
    "cdf(qs)"
   ]
  },
  {
   "cell_type": "code",
   "execution_count": 314,
   "metadata": {},
   "outputs": [
    {
     "data": {
      "text/plain": [
       "array([0. , 0.2, 0.4, 0.6, 0.8, 1. ])"
      ]
     },
     "execution_count": 314,
     "metadata": {},
     "output_type": "execute_result"
    }
   ],
   "source": [
    "ps = np.linspace(0, 1, 6)\n"
   ]
  },
  {
   "cell_type": "code",
   "execution_count": 315,
   "metadata": {},
   "outputs": [
    {
     "data": {
      "text/plain": [
       "array([1., 1., 2., 2., 3., 5.])"
      ]
     },
     "execution_count": 315,
     "metadata": {},
     "output_type": "execute_result"
    }
   ],
   "source": [
    "cdf.inverse(ps)"
   ]
  },
  {
   "cell_type": "code",
   "execution_count": 311,
   "metadata": {},
   "outputs": [
    {
     "name": "stderr",
     "output_type": "stream",
     "text": [
      "...\n",
      "----------------------------------------------------------------------\n",
      "Ran 3 tests in 0.005s\n",
      "\n",
      "OK\n"
     ]
    }
   ],
   "source": [
    "class TestPmf(unittest.TestCase):\n",
    "\n",
    "    def test_pmf_from_seq(self):\n",
    "        seq = [5, 3, 2, 2, 1]\n",
    "        cdf = Cdf.from_seq(seq)\n",
    "        self.assertAlmostEqual(cdf(0), 0)\n",
    "        self.assertAlmostEqual(cdf(1), 0.2)\n",
    "        self.assertAlmostEqual(cdf(2), 0.6)\n",
    "        self.assertAlmostEqual(cdf(3), 0.8)\n",
    "        self.assertAlmostEqual(cdf(4), 0.8)\n",
    "        self.assertAlmostEqual(cdf(5), 1)\n",
    "        self.assertAlmostEqual(cdf(6), 1)\n",
    "\n",
    "    def test_pmf_from_map(self):\n",
    "        seq = [5, 3, 2, 2, 1]\n",
    "        c = Counter(seq)\n",
    "        cdf = Cdf.from_map(c)\n",
    "        res = cdf([0, 1, 2, 3, 4, 5, 6])\n",
    "        expected = [0, 0.2, 0.6, 0.8, 0.8, 1, 1]\n",
    "        self.assertTrue(np.abs(res-expected).max() < 1e12)\n",
    "        \n",
    "    def test_inverse(self):\n",
    "        seq = [5, 3, 2, 2, 1]\n",
    "        cdf = Cdf.from_seq(seq)\n",
    "        self.assertAlmostEqual(cdf.inverse(0), 1)\n",
    "        self.assertAlmostEqual(cdf.inverse(0.2), 1)\n",
    "        self.assertAlmostEqual(cdf.inverse(0.3), 2)\n",
    "        self.assertAlmostEqual(cdf.inverse(0.4), 2)\n",
    "        self.assertAlmostEqual(cdf.inverse(0.41), 2)\n",
    "        self.assertAlmostEqual(cdf.inverse(0.6), 2)\n",
    "        self.assertAlmostEqual(cdf.inverse(0.8), 3)\n",
    "        self.assertAlmostEqual(cdf.inverse(1), 5)\n",
    "    \n",
    "run_tests()"
   ]
  },
  {
   "cell_type": "code",
   "execution_count": null,
   "metadata": {},
   "outputs": [],
   "source": []
  }
 ],
 "metadata": {
  "kernelspec": {
   "display_name": "Python 3",
   "language": "python",
   "name": "python3"
  },
  "language_info": {
   "codemirror_mode": {
    "name": "ipython",
    "version": 3
   },
   "file_extension": ".py",
   "mimetype": "text/x-python",
   "name": "python",
   "nbconvert_exporter": "python",
   "pygments_lexer": "ipython3",
   "version": "3.6.5"
  }
 },
 "nbformat": 4,
 "nbformat_minor": 2
}
