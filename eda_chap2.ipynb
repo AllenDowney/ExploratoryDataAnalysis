{
 "cells": [
  {
   "cell_type": "markdown",
   "metadata": {},
   "source": [
    "# Exploratory Data Analysis\n",
    "\n",
    "Chapter 2\n",
    "\n",
    "Allen Downey\n",
    "\n",
    "[MIT License](https://en.wikipedia.org/wiki/MIT_License)"
   ]
  },
  {
   "cell_type": "code",
   "execution_count": 1,
   "metadata": {},
   "outputs": [],
   "source": [
    "%matplotlib inline\n",
    "\n",
    "import pandas as pd\n",
    "import numpy as np\n",
    "\n",
    "import matplotlib.pyplot as plt\n",
    "import seaborn as sns\n",
    "sns.set(style='white')\n",
    "\n",
    "import utils\n",
    "from utils import decorate\n",
    "from distribution import Pmf, Cdf"
   ]
  },
  {
   "cell_type": "markdown",
   "metadata": {},
   "source": [
    "## Loading and validation\n"
   ]
  },
  {
   "cell_type": "code",
   "execution_count": 57,
   "metadata": {},
   "outputs": [],
   "source": [
    "import re\n",
    "\n",
    "class FixedWidthVariables(object):\n",
    "    \"\"\"Represents a set of variables in a fixed width file.\"\"\"\n",
    "\n",
    "    def __init__(self, variables, index_base=0):\n",
    "        \"\"\"Initializes.\n",
    "\n",
    "        variables: DataFrame\n",
    "        index_base: are the indices 0 or 1 based?\n",
    "\n",
    "        Attributes:\n",
    "        colspecs: list of (start, end) index tuples\n",
    "        names: list of string variable names\n",
    "        \"\"\"\n",
    "        self.variables = variables\n",
    "\n",
    "        # note: by default, subtract 1 from colspecs\n",
    "        self.colspecs = variables[['start', 'end']] - index_base\n",
    "\n",
    "        # convert colspecs to a list of pair of int\n",
    "        self.colspecs = self.colspecs.astype(np.int).values.tolist()\n",
    "        self.names = variables['name']\n",
    "\n",
    "    def ReadFixedWidth(self, filename, **options):\n",
    "        \"\"\"Reads a fixed width ASCII file.\n",
    "\n",
    "        filename: string filename\n",
    "\n",
    "        returns: DataFrame\n",
    "        \"\"\"\n",
    "        df = pd.read_fwf(filename,\n",
    "                         colspecs=self.colspecs, \n",
    "                         names=self.names,\n",
    "                         **options)\n",
    "        return df\n",
    "\n",
    "\n",
    "def ReadStataDct(dct_file, **options):\n",
    "    \"\"\"Reads a Stata dictionary file.\n",
    "\n",
    "    dct_file: string filename\n",
    "    options: dict of options passed to open()\n",
    "\n",
    "    returns: FixedWidthVariables object\n",
    "    \"\"\"\n",
    "    type_map = dict(byte=int, int=int, long=int, float=float, \n",
    "                    double=float, numeric=float)\n",
    "\n",
    "    var_info = []\n",
    "    with open(dct_file, **options) as f:\n",
    "        for line in f:\n",
    "            match = re.search( r'_column\\(([^)]*)\\)', line)\n",
    "            if not match:\n",
    "                continue\n",
    "            start = int(match.group(1))\n",
    "            t = line.split()\n",
    "            vtype, name, fstring = t[1:4]\n",
    "            name = name.lower()\n",
    "            if vtype.startswith('str'):\n",
    "                vtype = str\n",
    "            else:\n",
    "                vtype = type_map[vtype]\n",
    "            long_desc = ' '.join(t[4:]).strip('\"')\n",
    "            var_info.append((start, vtype, name, fstring, long_desc))\n",
    "            \n",
    "    columns = ['start', 'type', 'name', 'fstring', 'desc']\n",
    "    variables = pd.DataFrame(var_info, columns=columns)\n",
    "\n",
    "    # fill in the end column by shifting the start column\n",
    "    variables['end'] = variables.start.shift(-1)\n",
    "    variables.loc[len(variables)-1, 'end'] = 0\n",
    "\n",
    "    dct = FixedWidthVariables(variables, index_base=1)\n",
    "    return dct\n",
    "\n",
    "def read_gss(dirname):\n",
    "    \"\"\"Reads GSS files from the given directory.\n",
    "    \n",
    "    dirname: string\n",
    "    \n",
    "    returns: DataFrame\n",
    "    \"\"\"\n",
    "    dct = ReadStataDct(dirname + '/GSS.dct')\n",
    "    gss = dct.ReadFixedWidth(dirname + '/GSS.dat.gz',\n",
    "                             compression='gzip')\n",
    "    return gss"
   ]
  },
  {
   "cell_type": "code",
   "execution_count": 58,
   "metadata": {},
   "outputs": [
    {
     "name": "stdout",
     "output_type": "stream",
     "text": [
      "(62466, 97)\n"
     ]
    },
    {
     "data": {
      "text/html": [
       "<div>\n",
       "<style scoped>\n",
       "    .dataframe tbody tr th:only-of-type {\n",
       "        vertical-align: middle;\n",
       "    }\n",
       "\n",
       "    .dataframe tbody tr th {\n",
       "        vertical-align: top;\n",
       "    }\n",
       "\n",
       "    .dataframe thead th {\n",
       "        text-align: right;\n",
       "    }\n",
       "</style>\n",
       "<table border=\"1\" class=\"dataframe\">\n",
       "  <thead>\n",
       "    <tr style=\"text-align: right;\">\n",
       "      <th></th>\n",
       "      <th>postlife</th>\n",
       "      <th>life</th>\n",
       "      <th>helpful</th>\n",
       "      <th>fair</th>\n",
       "      <th>trust</th>\n",
       "      <th>conclerg</th>\n",
       "      <th>coneduc</th>\n",
       "      <th>confed</th>\n",
       "      <th>conpress</th>\n",
       "      <th>conjudge</th>\n",
       "      <th>...</th>\n",
       "      <th>natenvir</th>\n",
       "      <th>natheal</th>\n",
       "      <th>natcity</th>\n",
       "      <th>natcrime</th>\n",
       "      <th>natdrug</th>\n",
       "      <th>nateduc</th>\n",
       "      <th>natrace</th>\n",
       "      <th>natarms</th>\n",
       "      <th>nataid</th>\n",
       "      <th>attend</th>\n",
       "    </tr>\n",
       "  </thead>\n",
       "  <tbody>\n",
       "    <tr>\n",
       "      <th>0</th>\n",
       "      <td>0</td>\n",
       "      <td>0</td>\n",
       "      <td>2</td>\n",
       "      <td>2</td>\n",
       "      <td>3</td>\n",
       "      <td>0</td>\n",
       "      <td>0</td>\n",
       "      <td>0</td>\n",
       "      <td>0</td>\n",
       "      <td>0</td>\n",
       "      <td>...</td>\n",
       "      <td>0</td>\n",
       "      <td>0</td>\n",
       "      <td>0</td>\n",
       "      <td>0</td>\n",
       "      <td>0</td>\n",
       "      <td>0</td>\n",
       "      <td>0</td>\n",
       "      <td>0</td>\n",
       "      <td>0</td>\n",
       "      <td>2</td>\n",
       "    </tr>\n",
       "    <tr>\n",
       "      <th>1</th>\n",
       "      <td>0</td>\n",
       "      <td>0</td>\n",
       "      <td>1</td>\n",
       "      <td>2</td>\n",
       "      <td>1</td>\n",
       "      <td>0</td>\n",
       "      <td>0</td>\n",
       "      <td>0</td>\n",
       "      <td>0</td>\n",
       "      <td>0</td>\n",
       "      <td>...</td>\n",
       "      <td>0</td>\n",
       "      <td>0</td>\n",
       "      <td>0</td>\n",
       "      <td>0</td>\n",
       "      <td>0</td>\n",
       "      <td>0</td>\n",
       "      <td>0</td>\n",
       "      <td>0</td>\n",
       "      <td>0</td>\n",
       "      <td>7</td>\n",
       "    </tr>\n",
       "    <tr>\n",
       "      <th>2</th>\n",
       "      <td>0</td>\n",
       "      <td>0</td>\n",
       "      <td>2</td>\n",
       "      <td>1</td>\n",
       "      <td>2</td>\n",
       "      <td>0</td>\n",
       "      <td>0</td>\n",
       "      <td>0</td>\n",
       "      <td>0</td>\n",
       "      <td>0</td>\n",
       "      <td>...</td>\n",
       "      <td>0</td>\n",
       "      <td>0</td>\n",
       "      <td>0</td>\n",
       "      <td>0</td>\n",
       "      <td>0</td>\n",
       "      <td>0</td>\n",
       "      <td>0</td>\n",
       "      <td>0</td>\n",
       "      <td>0</td>\n",
       "      <td>4</td>\n",
       "    </tr>\n",
       "    <tr>\n",
       "      <th>3</th>\n",
       "      <td>0</td>\n",
       "      <td>0</td>\n",
       "      <td>2</td>\n",
       "      <td>2</td>\n",
       "      <td>2</td>\n",
       "      <td>0</td>\n",
       "      <td>0</td>\n",
       "      <td>0</td>\n",
       "      <td>0</td>\n",
       "      <td>0</td>\n",
       "      <td>...</td>\n",
       "      <td>0</td>\n",
       "      <td>0</td>\n",
       "      <td>0</td>\n",
       "      <td>0</td>\n",
       "      <td>0</td>\n",
       "      <td>0</td>\n",
       "      <td>0</td>\n",
       "      <td>0</td>\n",
       "      <td>0</td>\n",
       "      <td>0</td>\n",
       "    </tr>\n",
       "    <tr>\n",
       "      <th>4</th>\n",
       "      <td>0</td>\n",
       "      <td>0</td>\n",
       "      <td>2</td>\n",
       "      <td>2</td>\n",
       "      <td>2</td>\n",
       "      <td>0</td>\n",
       "      <td>0</td>\n",
       "      <td>0</td>\n",
       "      <td>0</td>\n",
       "      <td>0</td>\n",
       "      <td>...</td>\n",
       "      <td>0</td>\n",
       "      <td>0</td>\n",
       "      <td>0</td>\n",
       "      <td>0</td>\n",
       "      <td>0</td>\n",
       "      <td>0</td>\n",
       "      <td>0</td>\n",
       "      <td>0</td>\n",
       "      <td>0</td>\n",
       "      <td>0</td>\n",
       "    </tr>\n",
       "  </tbody>\n",
       "</table>\n",
       "<p>5 rows × 97 columns</p>\n",
       "</div>"
      ],
      "text/plain": [
       "   postlife  life  helpful  fair  trust  conclerg  coneduc  confed  conpress  \\\n",
       "0         0     0        2     2      3         0        0       0         0   \n",
       "1         0     0        1     2      1         0        0       0         0   \n",
       "2         0     0        2     1      2         0        0       0         0   \n",
       "3         0     0        2     2      2         0        0       0         0   \n",
       "4         0     0        2     2      2         0        0       0         0   \n",
       "\n",
       "   conjudge   ...    natenvir  natheal  natcity  natcrime  natdrug  nateduc  \\\n",
       "0         0   ...           0        0        0         0        0        0   \n",
       "1         0   ...           0        0        0         0        0        0   \n",
       "2         0   ...           0        0        0         0        0        0   \n",
       "3         0   ...           0        0        0         0        0        0   \n",
       "4         0   ...           0        0        0         0        0        0   \n",
       "\n",
       "   natrace  natarms  nataid  attend  \n",
       "0        0        0       0       2  \n",
       "1        0        0       0       7  \n",
       "2        0        0       0       4  \n",
       "3        0        0       0       0  \n",
       "4        0        0       0       0  \n",
       "\n",
       "[5 rows x 97 columns]"
      ]
     },
     "execution_count": 58,
     "metadata": {},
     "output_type": "execute_result"
    }
   ],
   "source": [
    "gss = read_gss('gss_eda')\n",
    "print(gss.shape)\n",
    "gss.head()"
   ]
  },
  {
   "cell_type": "code",
   "execution_count": 59,
   "metadata": {},
   "outputs": [],
   "source": [
    "def replace_invalid(df):\n",
    "    df.realinc.replace([0], np.nan, inplace=True)                  \n",
    "    df.educ.replace([98,99], np.nan, inplace=True)\n",
    "    df.age.replace([98, 99], np.nan, inplace=True)               # 89 means 89 or older\n",
    "    df.cohort.replace([9999], np.nan, inplace=True)\n",
    "\n",
    "replace_invalid(gss)"
   ]
  },
  {
   "cell_type": "code",
   "execution_count": 60,
   "metadata": {},
   "outputs": [
    {
     "data": {
      "text/html": [
       "<div>\n",
       "<style scoped>\n",
       "    .dataframe tbody tr th:only-of-type {\n",
       "        vertical-align: middle;\n",
       "    }\n",
       "\n",
       "    .dataframe tbody tr th {\n",
       "        vertical-align: top;\n",
       "    }\n",
       "\n",
       "    .dataframe thead th {\n",
       "        text-align: right;\n",
       "    }\n",
       "</style>\n",
       "<table border=\"1\" class=\"dataframe\">\n",
       "  <thead>\n",
       "    <tr style=\"text-align: right;\">\n",
       "      <th></th>\n",
       "      <th>id_</th>\n",
       "      <th>year</th>\n",
       "      <th>sex</th>\n",
       "      <th>age</th>\n",
       "      <th>cohort</th>\n",
       "      <th>race</th>\n",
       "      <th>educ</th>\n",
       "      <th>realinc</th>\n",
       "      <th>wtssall</th>\n",
       "    </tr>\n",
       "  </thead>\n",
       "  <tbody>\n",
       "    <tr>\n",
       "      <th>0</th>\n",
       "      <td>1</td>\n",
       "      <td>1972</td>\n",
       "      <td>2</td>\n",
       "      <td>23.0</td>\n",
       "      <td>1949.0</td>\n",
       "      <td>1</td>\n",
       "      <td>16.0</td>\n",
       "      <td>18951.0</td>\n",
       "      <td>0.4446</td>\n",
       "    </tr>\n",
       "    <tr>\n",
       "      <th>1</th>\n",
       "      <td>2</td>\n",
       "      <td>1972</td>\n",
       "      <td>1</td>\n",
       "      <td>70.0</td>\n",
       "      <td>1902.0</td>\n",
       "      <td>1</td>\n",
       "      <td>10.0</td>\n",
       "      <td>24366.0</td>\n",
       "      <td>0.8893</td>\n",
       "    </tr>\n",
       "    <tr>\n",
       "      <th>2</th>\n",
       "      <td>3</td>\n",
       "      <td>1972</td>\n",
       "      <td>2</td>\n",
       "      <td>48.0</td>\n",
       "      <td>1924.0</td>\n",
       "      <td>1</td>\n",
       "      <td>12.0</td>\n",
       "      <td>24366.0</td>\n",
       "      <td>0.8893</td>\n",
       "    </tr>\n",
       "    <tr>\n",
       "      <th>3</th>\n",
       "      <td>4</td>\n",
       "      <td>1972</td>\n",
       "      <td>2</td>\n",
       "      <td>27.0</td>\n",
       "      <td>1945.0</td>\n",
       "      <td>1</td>\n",
       "      <td>17.0</td>\n",
       "      <td>30458.0</td>\n",
       "      <td>0.8893</td>\n",
       "    </tr>\n",
       "    <tr>\n",
       "      <th>4</th>\n",
       "      <td>5</td>\n",
       "      <td>1972</td>\n",
       "      <td>2</td>\n",
       "      <td>61.0</td>\n",
       "      <td>1911.0</td>\n",
       "      <td>1</td>\n",
       "      <td>12.0</td>\n",
       "      <td>50763.0</td>\n",
       "      <td>0.8893</td>\n",
       "    </tr>\n",
       "  </tbody>\n",
       "</table>\n",
       "</div>"
      ],
      "text/plain": [
       "   id_  year  sex   age  cohort  race  educ  realinc  wtssall\n",
       "0    1  1972    2  23.0  1949.0     1  16.0  18951.0   0.4446\n",
       "1    2  1972    1  70.0  1902.0     1  10.0  24366.0   0.8893\n",
       "2    3  1972    2  48.0  1924.0     1  12.0  24366.0   0.8893\n",
       "3    4  1972    2  27.0  1945.0     1  17.0  30458.0   0.8893\n",
       "4    5  1972    2  61.0  1911.0     1  12.0  50763.0   0.8893"
      ]
     },
     "execution_count": 60,
     "metadata": {},
     "output_type": "execute_result"
    }
   ],
   "source": [
    "variables = ['id_', 'year', 'sex', 'age', 'cohort', 'race', 'educ', 'realinc', 'wtssall', ]\n",
    "\n",
    "subset = gss[variables]\n",
    "subset.head()"
   ]
  },
  {
   "cell_type": "code",
   "execution_count": 61,
   "metadata": {},
   "outputs": [],
   "source": [
    "subset.to_hdf('gss.hdf5', 'gss')"
   ]
  },
  {
   "cell_type": "code",
   "execution_count": 62,
   "metadata": {},
   "outputs": [
    {
     "name": "stdout",
     "output_type": "stream",
     "text": [
      "CPU times: user 16 ms, sys: 16 ms, total: 32 ms\n",
      "Wall time: 26.9 ms\n"
     ]
    }
   ],
   "source": [
    "%time gss = pd.read_hdf('gss.hdf5', 'gss')"
   ]
  },
  {
   "cell_type": "code",
   "execution_count": 63,
   "metadata": {},
   "outputs": [],
   "source": [
    "np.random.seed(19)\n",
    "gss = utils.resample_rows_weighted(gss, 'wtssall')"
   ]
  },
  {
   "cell_type": "code",
   "execution_count": 64,
   "metadata": {},
   "outputs": [
    {
     "data": {
      "text/plain": [
       "count    62466.000000\n",
       "mean      1994.044232\n",
       "std         12.950645\n",
       "min       1972.000000\n",
       "25%       1983.000000\n",
       "50%       1994.000000\n",
       "75%       2006.000000\n",
       "max       2016.000000\n",
       "Name: year, dtype: float64"
      ]
     },
     "execution_count": 64,
     "metadata": {},
     "output_type": "execute_result"
    }
   ],
   "source": [
    "gss['year'].describe()"
   ]
  },
  {
   "cell_type": "code",
   "execution_count": 65,
   "metadata": {},
   "outputs": [
    {
     "data": {
      "text/plain": [
       "count    62466.000000\n",
       "mean         1.546041\n",
       "std          0.497880\n",
       "min          1.000000\n",
       "25%          1.000000\n",
       "50%          2.000000\n",
       "75%          2.000000\n",
       "max          2.000000\n",
       "Name: sex, dtype: float64"
      ]
     },
     "execution_count": 65,
     "metadata": {},
     "output_type": "execute_result"
    }
   ],
   "source": [
    "gss['sex'].describe()"
   ]
  },
  {
   "cell_type": "code",
   "execution_count": 11,
   "metadata": {},
   "outputs": [
    {
     "data": {
      "text/plain": [
       "count    62270.000000\n",
       "mean        44.594347\n",
       "std         17.070142\n",
       "min         18.000000\n",
       "25%         30.000000\n",
       "50%         43.000000\n",
       "75%         57.000000\n",
       "max         89.000000\n",
       "Name: age, dtype: float64"
      ]
     },
     "execution_count": 11,
     "metadata": {},
     "output_type": "execute_result"
    }
   ],
   "source": [
    "gss['age'].describe()"
   ]
  },
  {
   "cell_type": "code",
   "execution_count": 12,
   "metadata": {},
   "outputs": [
    {
     "data": {
      "text/plain": [
       "count    62270.000000\n",
       "mean      1949.387169\n",
       "std         20.810783\n",
       "min       1883.000000\n",
       "25%       1935.000000\n",
       "50%       1951.000000\n",
       "75%       1964.000000\n",
       "max       1998.000000\n",
       "Name: cohort, dtype: float64"
      ]
     },
     "execution_count": 12,
     "metadata": {},
     "output_type": "execute_result"
    }
   ],
   "source": [
    "gss['cohort'].describe()"
   ]
  },
  {
   "cell_type": "code",
   "execution_count": 13,
   "metadata": {},
   "outputs": [
    {
     "data": {
      "text/plain": [
       "count    62466.000000\n",
       "mean         1.251145\n",
       "std          0.553372\n",
       "min          1.000000\n",
       "25%          1.000000\n",
       "50%          1.000000\n",
       "75%          1.000000\n",
       "max          3.000000\n",
       "Name: race, dtype: float64"
      ]
     },
     "execution_count": 13,
     "metadata": {},
     "output_type": "execute_result"
    }
   ],
   "source": [
    "gss['race'].describe()"
   ]
  },
  {
   "cell_type": "code",
   "execution_count": 14,
   "metadata": {},
   "outputs": [
    {
     "data": {
      "text/plain": [
       "count    62327.000000\n",
       "mean        12.827202\n",
       "std          3.128491\n",
       "min          0.000000\n",
       "25%         12.000000\n",
       "50%         12.000000\n",
       "75%         15.000000\n",
       "max         20.000000\n",
       "Name: educ, dtype: float64"
      ]
     },
     "execution_count": 14,
     "metadata": {},
     "output_type": "execute_result"
    }
   ],
   "source": [
    "gss['educ'].describe()"
   ]
  },
  {
   "cell_type": "code",
   "execution_count": 15,
   "metadata": {},
   "outputs": [
    {
     "data": {
      "text/plain": [
       "count     55636.000000\n",
       "mean      34829.210636\n",
       "std       30826.747119\n",
       "min         234.000000\n",
       "25%       13750.000000\n",
       "50%       26411.000000\n",
       "75%       43426.000000\n",
       "max      162607.000000\n",
       "Name: realinc, dtype: float64"
      ]
     },
     "execution_count": 15,
     "metadata": {},
     "output_type": "execute_result"
    }
   ],
   "source": [
    "gss['realinc'].describe()"
   ]
  },
  {
   "cell_type": "code",
   "execution_count": 16,
   "metadata": {},
   "outputs": [
    {
     "data": {
      "text/plain": [
       "count    62466.000000\n",
       "mean         1.211513\n",
       "std          0.580101\n",
       "min          0.391825\n",
       "25%          0.918400\n",
       "50%          1.062100\n",
       "75%          1.515500\n",
       "max          8.739876\n",
       "Name: wtssall, dtype: float64"
      ]
     },
     "execution_count": 16,
     "metadata": {},
     "output_type": "execute_result"
    }
   ],
   "source": [
    "gss['wtssall'].describe()"
   ]
  },
  {
   "cell_type": "code",
   "execution_count": 17,
   "metadata": {},
   "outputs": [],
   "source": [
    "class Pmf(pd.Series):\n",
    "    \n",
    "    def __init__(self, seq, name='Pmf', normalize=True):\n",
    "        series = pd.Series(seq).value_counts().sort_index()\n",
    "        super().__init__(series, name=name)\n",
    "        if normalize:\n",
    "            self.normalize()\n",
    "\n",
    "    @property\n",
    "    def qs(self):\n",
    "        return self.index\n",
    "\n",
    "    @property\n",
    "    def ps(self):\n",
    "        return self.values\n",
    "\n",
    "    def __call__(self, qs):\n",
    "        return self.get(qs, 0)\n",
    "\n",
    "    def normalize(self):\n",
    "        self /= self.sum()\n",
    "\n",
    "    def bar(self, **options):\n",
    "        plt.bar(self.index, self.values, label=self.name, **options)\n",
    "\n",
    "    def plot(self, **options):\n",
    "        plt.plot(self.index, self.values, label=self.name, **options)\n"
   ]
  },
  {
   "cell_type": "code",
   "execution_count": 18,
   "metadata": {},
   "outputs": [],
   "source": [
    "from scipy.interpolate import interp1d\n",
    "\n",
    "class Cdf(pd.Series):\n",
    "\n",
    "    def __init__(self, seq, name='Cdf'):\n",
    "        pmf = Pmf(seq)\n",
    "        super().__init__(pmf.cumsum(), name=name)\n",
    "\n",
    "    @property\n",
    "    def qs(self):\n",
    "        return self.index\n",
    "\n",
    "    @property\n",
    "    def ps(self):\n",
    "        return self.values\n",
    "\n",
    "    @property\n",
    "    def forward(self):\n",
    "        return interp1d(self.qs, self.ps,\n",
    "                        kind='previous',\n",
    "                        assume_sorted=True,\n",
    "                        bounds_error=False,\n",
    "                        fill_value=(0,1))\n",
    "\n",
    "    @property\n",
    "    def inverse(self):\n",
    "        return interp1d(self.ps, self.qs,\n",
    "                        kind='next',\n",
    "                        assume_sorted=True,\n",
    "                        bounds_error=False,\n",
    "                        fill_value=(self.qs[0], np.nan))\n",
    "\n",
    "    def __call__(self, qs):\n",
    "        return self.forward(qs)\n",
    "\n",
    "    def percentile_rank(self, qs):\n",
    "        return self.forward(qs) * 100\n",
    "\n",
    "    def percentile(self, percentile_ranks):\n",
    "        return self.inverse(percentile_ranks / 100)\n",
    "\n",
    "    def step(self, **options):\n",
    "        underride(options, where='post')\n",
    "        plt.step(self.index, self.values, label=self.name, **options)\n",
    "\n",
    "    def plot(self, **options):\n",
    "        plt.plot(self.index, self.values, label=self.name, **options)"
   ]
  },
  {
   "cell_type": "code",
   "execution_count": 19,
   "metadata": {},
   "outputs": [
    {
     "data": {
      "text/plain": [
       "1    50468\n",
       "2     8308\n",
       "3     3690\n",
       "Name: race, dtype: int64"
      ]
     },
     "execution_count": 19,
     "metadata": {},
     "output_type": "execute_result"
    }
   ],
   "source": [
    "race = gss['race']\n",
    "\n",
    "race.value_counts().sort_index()"
   ]
  },
  {
   "cell_type": "code",
   "execution_count": 20,
   "metadata": {},
   "outputs": [
    {
     "data": {
      "text/plain": [
       "1    50468\n",
       "2     8308\n",
       "3     3690\n",
       "Name: race, dtype: int64"
      ]
     },
     "execution_count": 20,
     "metadata": {},
     "output_type": "execute_result"
    }
   ],
   "source": [
    "pmf_race = Pmf(race, name='race', normalize=False)\n",
    "pmf_race"
   ]
  },
  {
   "cell_type": "code",
   "execution_count": 21,
   "metadata": {},
   "outputs": [
    {
     "data": {
      "text/plain": [
       "Int64Index([1, 2, 3], dtype='int64')"
      ]
     },
     "execution_count": 21,
     "metadata": {},
     "output_type": "execute_result"
    }
   ],
   "source": [
    "pmf_race.qs"
   ]
  },
  {
   "cell_type": "code",
   "execution_count": 22,
   "metadata": {},
   "outputs": [
    {
     "data": {
      "text/plain": [
       "array([50468,  8308,  3690])"
      ]
     },
     "execution_count": 22,
     "metadata": {},
     "output_type": "execute_result"
    }
   ],
   "source": [
    "pmf_race.ps"
   ]
  },
  {
   "cell_type": "code",
   "execution_count": 23,
   "metadata": {},
   "outputs": [
    {
     "data": {
      "text/plain": [
       "50468"
      ]
     },
     "execution_count": 23,
     "metadata": {},
     "output_type": "execute_result"
    }
   ],
   "source": [
    "pmf_race(1)"
   ]
  },
  {
   "cell_type": "code",
   "execution_count": 24,
   "metadata": {},
   "outputs": [
    {
     "data": {
      "text/plain": [
       "0"
      ]
     },
     "execution_count": 24,
     "metadata": {},
     "output_type": "execute_result"
    }
   ],
   "source": [
    "pmf_race(4)"
   ]
  },
  {
   "cell_type": "code",
   "execution_count": 25,
   "metadata": {},
   "outputs": [
    {
     "data": {
      "image/png": "[encoded data removed]",
      "text/plain": [
       "<Figure size 432x288 with 1 Axes>"
      ]
     },
     "metadata": {},
     "output_type": "display_data"
    }
   ],
   "source": [
    "pmf_race.bar()\n",
    "decorate(xlabel='Race code', ylabel='Count')"
   ]
  },
  {
   "cell_type": "code",
   "execution_count": 26,
   "metadata": {},
   "outputs": [
    {
     "data": {
      "image/png": "[encoded data removed]",
      "text/plain": [
       "<Figure size 432x288 with 1 Axes>"
      ]
     },
     "metadata": {},
     "output_type": "display_data"
    }
   ],
   "source": [
    "pmf_race.normalize()\n",
    "pmf_race.bar()\n",
    "decorate(xlabel='Race code', ylabel='PMF')"
   ]
  },
  {
   "cell_type": "code",
   "execution_count": 27,
   "metadata": {},
   "outputs": [
    {
     "data": {
      "text/plain": [
       "0.13300035219159223"
      ]
     },
     "execution_count": 27,
     "metadata": {},
     "output_type": "execute_result"
    }
   ],
   "source": [
    "pmf_race(2)"
   ]
  },
  {
   "cell_type": "code",
   "execution_count": 28,
   "metadata": {},
   "outputs": [],
   "source": [
    "age = gss['age']\n",
    "pmf_age = Pmf(age, name='age')"
   ]
  },
  {
   "cell_type": "code",
   "execution_count": 29,
   "metadata": {},
   "outputs": [
    {
     "data": {
      "image/png": "[encoded data removed]",
      "text/plain": [
       "<Figure size 432x288 with 1 Axes>"
      ]
     },
     "metadata": {},
     "output_type": "display_data"
    }
   ],
   "source": [
    "pmf_age.plot()\n",
    "decorate(xlabel='Age (year)', ylabel='PMF')"
   ]
  },
  {
   "cell_type": "code",
   "execution_count": 30,
   "metadata": {},
   "outputs": [],
   "source": [
    "def underride(d, **options):\n",
    "    \"\"\"Add key-value pairs to d only if key is not in d.\n",
    "\n",
    "    d: dictionary\n",
    "    options: keyword args to add to d\n",
    "    \"\"\"\n",
    "    for key, val in options.items():\n",
    "        d.setdefault(key, val)\n",
    "\n",
    "    return d"
   ]
  },
  {
   "cell_type": "code",
   "execution_count": 31,
   "metadata": {},
   "outputs": [],
   "source": [
    "cdf_age = Cdf(age, name='Age')"
   ]
  },
  {
   "cell_type": "code",
   "execution_count": 32,
   "metadata": {},
   "outputs": [
    {
     "data": {
      "image/png": "[encoded data removed]",
      "text/plain": [
       "<Figure size 432x288 with 1 Axes>"
      ]
     },
     "metadata": {},
     "output_type": "display_data"
    }
   ],
   "source": [
    "cdf_age.plot()\n",
    "decorate(xlabel='Age (years)', ylabel='CDF')"
   ]
  },
  {
   "cell_type": "code",
   "execution_count": 33,
   "metadata": {},
   "outputs": [
    {
     "data": {
      "text/plain": [
       "array(0.66200418)"
      ]
     },
     "execution_count": 33,
     "metadata": {},
     "output_type": "execute_result"
    }
   ],
   "source": [
    "cdf_age.forward(51)"
   ]
  },
  {
   "cell_type": "code",
   "execution_count": 34,
   "metadata": {},
   "outputs": [
    {
     "data": {
      "text/plain": [
       "array(43.)"
      ]
     },
     "execution_count": 34,
     "metadata": {},
     "output_type": "execute_result"
    }
   ],
   "source": [
    "cdf_age.inverse(0.5)"
   ]
  },
  {
   "cell_type": "markdown",
   "metadata": {},
   "source": [
    "### Variable `realinc`\n",
    "\n",
    "Family income on 1972-2006 surveys in constant dollars (base = 1986)\n",
    "\n",
    "https://gssdataexplorer.norc.org/variables/5198/vshow\n"
   ]
  },
  {
   "cell_type": "code",
   "execution_count": 35,
   "metadata": {},
   "outputs": [],
   "source": [
    "income = gss['realinc']\n",
    "pmf_income = Pmf(income, name='income')"
   ]
  },
  {
   "cell_type": "code",
   "execution_count": 36,
   "metadata": {},
   "outputs": [
    {
     "data": {
      "image/png": "[encoded data removed]",
      "text/plain": [
       "<Figure size 432x288 with 1 Axes>"
      ]
     },
     "metadata": {},
     "output_type": "display_data"
    }
   ],
   "source": [
    "pmf_income.plot()\n",
    "decorate(xlabel='Income (1986 $)', ylabel='PMF')"
   ]
  },
  {
   "cell_type": "code",
   "execution_count": 37,
   "metadata": {},
   "outputs": [
    {
     "data": {
      "image/png": "[encoded data removed]",
      "text/plain": [
       "<Figure size 432x288 with 1 Axes>"
      ]
     },
     "metadata": {},
     "output_type": "display_data"
    }
   ],
   "source": [
    "cdf_income = Cdf(income, name='income')\n",
    "cdf_income.plot()\n",
    "decorate(xlabel='Income (1986 $)', ylabel='CDF')"
   ]
  },
  {
   "cell_type": "code",
   "execution_count": null,
   "metadata": {},
   "outputs": [],
   "source": []
  },
  {
   "cell_type": "code",
   "execution_count": null,
   "metadata": {},
   "outputs": [],
   "source": []
  },
  {
   "cell_type": "code",
   "execution_count": null,
   "metadata": {},
   "outputs": [],
   "source": []
  },
  {
   "cell_type": "code",
   "execution_count": 38,
   "metadata": {},
   "outputs": [],
   "source": [
    "female = gss['sex'] == 2\n",
    "male = gss['sex'] == 1"
   ]
  },
  {
   "cell_type": "code",
   "execution_count": 39,
   "metadata": {},
   "outputs": [
    {
     "data": {
      "text/plain": [
       "0.5435436877661448"
      ]
     },
     "execution_count": 39,
     "metadata": {},
     "output_type": "execute_result"
    }
   ],
   "source": [
    "female.mean()"
   ]
  },
  {
   "cell_type": "code",
   "execution_count": 40,
   "metadata": {},
   "outputs": [
    {
     "data": {
      "text/plain": [
       "0.45645631223385524"
      ]
     },
     "execution_count": 40,
     "metadata": {},
     "output_type": "execute_result"
    }
   ],
   "source": [
    "male.mean()"
   ]
  },
  {
   "cell_type": "code",
   "execution_count": null,
   "metadata": {},
   "outputs": [],
   "source": []
  }
 ],
 "metadata": {
  "kernelspec": {
   "display_name": "Python 3",
   "language": "python",
   "name": "python3"
  },
  "language_info": {
   "codemirror_mode": {
    "name": "ipython",
    "version": 3
   },
   "file_extension": ".py",
   "mimetype": "text/x-python",
   "name": "python",
   "nbconvert_exporter": "python",
   "pygments_lexer": "ipython3",
   "version": "3.6.5"
  }
 },
 "nbformat": 4,
 "nbformat_minor": 1
}
