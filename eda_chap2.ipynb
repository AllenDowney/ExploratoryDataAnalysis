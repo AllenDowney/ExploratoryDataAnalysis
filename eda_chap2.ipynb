{
 "cells": [
  {
   "cell_type": "markdown",
   "metadata": {},
   "source": [
    "# Exploratory Data Analysis\n",
    "\n",
    "Chapter 2\n",
    "\n",
    "Allen Downey\n",
    "\n",
    "[MIT License](https://en.wikipedia.org/wiki/MIT_License)"
   ]
  },
  {
   "cell_type": "code",
   "execution_count": 1,
   "metadata": {},
   "outputs": [],
   "source": [
    "%matplotlib inline\n",
    "\n",
    "import pandas as pd\n",
    "import numpy as np\n",
    "\n",
    "import matplotlib.pyplot as plt\n",
    "import seaborn as sns\n",
    "sns.set(style='white')\n",
    "\n",
    "import utils\n",
    "from utils import decorate\n",
    "from distribution import Pmf, Cdf"
   ]
  },
  {
   "cell_type": "markdown",
   "metadata": {},
   "source": [
    "## Loading and validation\n",
    "\n",
    "Reading data from the [General Social Survey](https://gssdataexplorer.norc.org/projects/29853)\n",
    "\n",
    "TODO: Add link to project"
   ]
  },
  {
   "cell_type": "code",
   "execution_count": 5,
   "metadata": {},
   "outputs": [],
   "source": [
    "tables = pd.read_html('https://www.cdc.gov/brfss/annual_data/2017/llcp_varlayout_17_onecolumn.html')"
   ]
  },
  {
   "cell_type": "code",
   "execution_count": 9,
   "metadata": {},
   "outputs": [
    {
     "data": {
      "text/html": [
       "<div>\n",
       "<style scoped>\n",
       "    .dataframe tbody tr th:only-of-type {\n",
       "        vertical-align: middle;\n",
       "    }\n",
       "\n",
       "    .dataframe tbody tr th {\n",
       "        vertical-align: top;\n",
       "    }\n",
       "\n",
       "    .dataframe thead th {\n",
       "        text-align: right;\n",
       "    }\n",
       "</style>\n",
       "<table border=\"1\" class=\"dataframe\">\n",
       "  <thead>\n",
       "    <tr style=\"text-align: right;\">\n",
       "      <th></th>\n",
       "      <th>Starting Column</th>\n",
       "      <th>Variable Name</th>\n",
       "      <th>Field Length</th>\n",
       "    </tr>\n",
       "    <tr>\n",
       "      <th>Variable Name</th>\n",
       "      <th></th>\n",
       "      <th></th>\n",
       "      <th></th>\n",
       "    </tr>\n",
       "  </thead>\n",
       "  <tbody>\n",
       "    <tr>\n",
       "      <th>_STATE</th>\n",
       "      <td>1</td>\n",
       "      <td>_STATE</td>\n",
       "      <td>2</td>\n",
       "    </tr>\n",
       "    <tr>\n",
       "      <th>FMONTH</th>\n",
       "      <td>17</td>\n",
       "      <td>FMONTH</td>\n",
       "      <td>2</td>\n",
       "    </tr>\n",
       "    <tr>\n",
       "      <th>IDATE</th>\n",
       "      <td>19</td>\n",
       "      <td>IDATE</td>\n",
       "      <td>8</td>\n",
       "    </tr>\n",
       "    <tr>\n",
       "      <th>IMONTH</th>\n",
       "      <td>19</td>\n",
       "      <td>IMONTH</td>\n",
       "      <td>2</td>\n",
       "    </tr>\n",
       "    <tr>\n",
       "      <th>IDAY</th>\n",
       "      <td>21</td>\n",
       "      <td>IDAY</td>\n",
       "      <td>2</td>\n",
       "    </tr>\n",
       "    <tr>\n",
       "      <th>IYEAR</th>\n",
       "      <td>23</td>\n",
       "      <td>IYEAR</td>\n",
       "      <td>4</td>\n",
       "    </tr>\n",
       "    <tr>\n",
       "      <th>DISPCODE</th>\n",
       "      <td>32</td>\n",
       "      <td>DISPCODE</td>\n",
       "      <td>4</td>\n",
       "    </tr>\n",
       "    <tr>\n",
       "      <th>SEQNO</th>\n",
       "      <td>36</td>\n",
       "      <td>SEQNO</td>\n",
       "      <td>10</td>\n",
       "    </tr>\n",
       "    <tr>\n",
       "      <th>_PSU</th>\n",
       "      <td>36</td>\n",
       "      <td>_PSU</td>\n",
       "      <td>10</td>\n",
       "    </tr>\n",
       "    <tr>\n",
       "      <th>CTELENM1</th>\n",
       "      <td>63</td>\n",
       "      <td>CTELENM1</td>\n",
       "      <td>1</td>\n",
       "    </tr>\n",
       "    <tr>\n",
       "      <th>PVTRESD1</th>\n",
       "      <td>64</td>\n",
       "      <td>PVTRESD1</td>\n",
       "      <td>1</td>\n",
       "    </tr>\n",
       "    <tr>\n",
       "      <th>COLGHOUS</th>\n",
       "      <td>65</td>\n",
       "      <td>COLGHOUS</td>\n",
       "      <td>1</td>\n",
       "    </tr>\n",
       "    <tr>\n",
       "      <th>STATERE1</th>\n",
       "      <td>66</td>\n",
       "      <td>STATERE1</td>\n",
       "      <td>1</td>\n",
       "    </tr>\n",
       "    <tr>\n",
       "      <th>CELLFON4</th>\n",
       "      <td>67</td>\n",
       "      <td>CELLFON4</td>\n",
       "      <td>1</td>\n",
       "    </tr>\n",
       "    <tr>\n",
       "      <th>LADULT</th>\n",
       "      <td>68</td>\n",
       "      <td>LADULT</td>\n",
       "      <td>1</td>\n",
       "    </tr>\n",
       "    <tr>\n",
       "      <th>NUMADULT</th>\n",
       "      <td>69</td>\n",
       "      <td>NUMADULT</td>\n",
       "      <td>2</td>\n",
       "    </tr>\n",
       "    <tr>\n",
       "      <th>NUMMEN</th>\n",
       "      <td>71</td>\n",
       "      <td>NUMMEN</td>\n",
       "      <td>2</td>\n",
       "    </tr>\n",
       "    <tr>\n",
       "      <th>NUMWOMEN</th>\n",
       "      <td>73</td>\n",
       "      <td>NUMWOMEN</td>\n",
       "      <td>2</td>\n",
       "    </tr>\n",
       "    <tr>\n",
       "      <th>SAFETIME</th>\n",
       "      <td>75</td>\n",
       "      <td>SAFETIME</td>\n",
       "      <td>1</td>\n",
       "    </tr>\n",
       "    <tr>\n",
       "      <th>CTELNUM1</th>\n",
       "      <td>76</td>\n",
       "      <td>CTELNUM1</td>\n",
       "      <td>1</td>\n",
       "    </tr>\n",
       "    <tr>\n",
       "      <th>CELLFON5</th>\n",
       "      <td>77</td>\n",
       "      <td>CELLFON5</td>\n",
       "      <td>1</td>\n",
       "    </tr>\n",
       "    <tr>\n",
       "      <th>CADULT</th>\n",
       "      <td>78</td>\n",
       "      <td>CADULT</td>\n",
       "      <td>1</td>\n",
       "    </tr>\n",
       "    <tr>\n",
       "      <th>PVTRESD3</th>\n",
       "      <td>79</td>\n",
       "      <td>PVTRESD3</td>\n",
       "      <td>1</td>\n",
       "    </tr>\n",
       "    <tr>\n",
       "      <th>CCLGHOUS</th>\n",
       "      <td>80</td>\n",
       "      <td>CCLGHOUS</td>\n",
       "      <td>1</td>\n",
       "    </tr>\n",
       "    <tr>\n",
       "      <th>CSTATE1</th>\n",
       "      <td>81</td>\n",
       "      <td>CSTATE1</td>\n",
       "      <td>1</td>\n",
       "    </tr>\n",
       "    <tr>\n",
       "      <th>LANDLINE</th>\n",
       "      <td>84</td>\n",
       "      <td>LANDLINE</td>\n",
       "      <td>1</td>\n",
       "    </tr>\n",
       "    <tr>\n",
       "      <th>HHADULT</th>\n",
       "      <td>85</td>\n",
       "      <td>HHADULT</td>\n",
       "      <td>2</td>\n",
       "    </tr>\n",
       "    <tr>\n",
       "      <th>GENHLTH</th>\n",
       "      <td>90</td>\n",
       "      <td>GENHLTH</td>\n",
       "      <td>1</td>\n",
       "    </tr>\n",
       "    <tr>\n",
       "      <th>PHYSHLTH</th>\n",
       "      <td>91</td>\n",
       "      <td>PHYSHLTH</td>\n",
       "      <td>2</td>\n",
       "    </tr>\n",
       "    <tr>\n",
       "      <th>MENTHLTH</th>\n",
       "      <td>93</td>\n",
       "      <td>MENTHLTH</td>\n",
       "      <td>2</td>\n",
       "    </tr>\n",
       "    <tr>\n",
       "      <th>...</th>\n",
       "      <td>...</td>\n",
       "      <td>...</td>\n",
       "      <td>...</td>\n",
       "    </tr>\n",
       "    <tr>\n",
       "      <th>FC60_</th>\n",
       "      <td>2127</td>\n",
       "      <td>FC60_</td>\n",
       "      <td>5</td>\n",
       "    </tr>\n",
       "    <tr>\n",
       "      <th>ACTIN11_</th>\n",
       "      <td>2132</td>\n",
       "      <td>ACTIN11_</td>\n",
       "      <td>1</td>\n",
       "    </tr>\n",
       "    <tr>\n",
       "      <th>ACTIN21_</th>\n",
       "      <td>2133</td>\n",
       "      <td>ACTIN21_</td>\n",
       "      <td>1</td>\n",
       "    </tr>\n",
       "    <tr>\n",
       "      <th>PADUR1_</th>\n",
       "      <td>2134</td>\n",
       "      <td>PADUR1_</td>\n",
       "      <td>3</td>\n",
       "    </tr>\n",
       "    <tr>\n",
       "      <th>PADUR2_</th>\n",
       "      <td>2137</td>\n",
       "      <td>PADUR2_</td>\n",
       "      <td>3</td>\n",
       "    </tr>\n",
       "    <tr>\n",
       "      <th>PAFREQ1_</th>\n",
       "      <td>2140</td>\n",
       "      <td>PAFREQ1_</td>\n",
       "      <td>5</td>\n",
       "    </tr>\n",
       "    <tr>\n",
       "      <th>PAFREQ2_</th>\n",
       "      <td>2145</td>\n",
       "      <td>PAFREQ2_</td>\n",
       "      <td>5</td>\n",
       "    </tr>\n",
       "    <tr>\n",
       "      <th>_MINAC11</th>\n",
       "      <td>2150</td>\n",
       "      <td>_MINAC11</td>\n",
       "      <td>5</td>\n",
       "    </tr>\n",
       "    <tr>\n",
       "      <th>_MINAC21</th>\n",
       "      <td>2155</td>\n",
       "      <td>_MINAC21</td>\n",
       "      <td>5</td>\n",
       "    </tr>\n",
       "    <tr>\n",
       "      <th>STRFREQ_</th>\n",
       "      <td>2160</td>\n",
       "      <td>STRFREQ_</td>\n",
       "      <td>5</td>\n",
       "    </tr>\n",
       "    <tr>\n",
       "      <th>PAMISS1_</th>\n",
       "      <td>2165</td>\n",
       "      <td>PAMISS1_</td>\n",
       "      <td>1</td>\n",
       "    </tr>\n",
       "    <tr>\n",
       "      <th>PAMIN11_</th>\n",
       "      <td>2166</td>\n",
       "      <td>PAMIN11_</td>\n",
       "      <td>5</td>\n",
       "    </tr>\n",
       "    <tr>\n",
       "      <th>PAMIN21_</th>\n",
       "      <td>2171</td>\n",
       "      <td>PAMIN21_</td>\n",
       "      <td>5</td>\n",
       "    </tr>\n",
       "    <tr>\n",
       "      <th>PA1MIN_</th>\n",
       "      <td>2176</td>\n",
       "      <td>PA1MIN_</td>\n",
       "      <td>5</td>\n",
       "    </tr>\n",
       "    <tr>\n",
       "      <th>PAVIG11_</th>\n",
       "      <td>2181</td>\n",
       "      <td>PAVIG11_</td>\n",
       "      <td>5</td>\n",
       "    </tr>\n",
       "    <tr>\n",
       "      <th>PAVIG21_</th>\n",
       "      <td>2186</td>\n",
       "      <td>PAVIG21_</td>\n",
       "      <td>5</td>\n",
       "    </tr>\n",
       "    <tr>\n",
       "      <th>PA1VIGM_</th>\n",
       "      <td>2191</td>\n",
       "      <td>PA1VIGM_</td>\n",
       "      <td>5</td>\n",
       "    </tr>\n",
       "    <tr>\n",
       "      <th>_PACAT1</th>\n",
       "      <td>2196</td>\n",
       "      <td>_PACAT1</td>\n",
       "      <td>1</td>\n",
       "    </tr>\n",
       "    <tr>\n",
       "      <th>_PAINDX1</th>\n",
       "      <td>2197</td>\n",
       "      <td>_PAINDX1</td>\n",
       "      <td>1</td>\n",
       "    </tr>\n",
       "    <tr>\n",
       "      <th>_PA150R2</th>\n",
       "      <td>2198</td>\n",
       "      <td>_PA150R2</td>\n",
       "      <td>1</td>\n",
       "    </tr>\n",
       "    <tr>\n",
       "      <th>_PA300R2</th>\n",
       "      <td>2199</td>\n",
       "      <td>_PA300R2</td>\n",
       "      <td>1</td>\n",
       "    </tr>\n",
       "    <tr>\n",
       "      <th>_PA30021</th>\n",
       "      <td>2200</td>\n",
       "      <td>_PA30021</td>\n",
       "      <td>1</td>\n",
       "    </tr>\n",
       "    <tr>\n",
       "      <th>_PASTRNG</th>\n",
       "      <td>2201</td>\n",
       "      <td>_PASTRNG</td>\n",
       "      <td>1</td>\n",
       "    </tr>\n",
       "    <tr>\n",
       "      <th>_PAREC1</th>\n",
       "      <td>2202</td>\n",
       "      <td>_PAREC1</td>\n",
       "      <td>1</td>\n",
       "    </tr>\n",
       "    <tr>\n",
       "      <th>_PASTAE1</th>\n",
       "      <td>2203</td>\n",
       "      <td>_PASTAE1</td>\n",
       "      <td>1</td>\n",
       "    </tr>\n",
       "    <tr>\n",
       "      <th>_RFSEAT2</th>\n",
       "      <td>2204</td>\n",
       "      <td>_RFSEAT2</td>\n",
       "      <td>1</td>\n",
       "    </tr>\n",
       "    <tr>\n",
       "      <th>_RFSEAT3</th>\n",
       "      <td>2205</td>\n",
       "      <td>_RFSEAT3</td>\n",
       "      <td>1</td>\n",
       "    </tr>\n",
       "    <tr>\n",
       "      <th>_FLSHOT6</th>\n",
       "      <td>2206</td>\n",
       "      <td>_FLSHOT6</td>\n",
       "      <td>1</td>\n",
       "    </tr>\n",
       "    <tr>\n",
       "      <th>_PNEUMO2</th>\n",
       "      <td>2207</td>\n",
       "      <td>_PNEUMO2</td>\n",
       "      <td>1</td>\n",
       "    </tr>\n",
       "    <tr>\n",
       "      <th>_AIDTST3</th>\n",
       "      <td>2208</td>\n",
       "      <td>_AIDTST3</td>\n",
       "      <td>1</td>\n",
       "    </tr>\n",
       "  </tbody>\n",
       "</table>\n",
       "<p>358 rows × 3 columns</p>\n",
       "</div>"
      ],
      "text/plain": [
       "               Starting Column Variable Name  Field Length\n",
       "Variable Name                                             \n",
       "_STATE                       1        _STATE             2\n",
       "FMONTH                      17        FMONTH             2\n",
       "IDATE                       19         IDATE             8\n",
       "IMONTH                      19        IMONTH             2\n",
       "IDAY                        21          IDAY             2\n",
       "IYEAR                       23         IYEAR             4\n",
       "DISPCODE                    32      DISPCODE             4\n",
       "SEQNO                       36         SEQNO            10\n",
       "_PSU                        36          _PSU            10\n",
       "CTELENM1                    63      CTELENM1             1\n",
       "PVTRESD1                    64      PVTRESD1             1\n",
       "COLGHOUS                    65      COLGHOUS             1\n",
       "STATERE1                    66      STATERE1             1\n",
       "CELLFON4                    67      CELLFON4             1\n",
       "LADULT                      68        LADULT             1\n",
       "NUMADULT                    69      NUMADULT             2\n",
       "NUMMEN                      71        NUMMEN             2\n",
       "NUMWOMEN                    73      NUMWOMEN             2\n",
       "SAFETIME                    75      SAFETIME             1\n",
       "CTELNUM1                    76      CTELNUM1             1\n",
       "CELLFON5                    77      CELLFON5             1\n",
       "CADULT                      78        CADULT             1\n",
       "PVTRESD3                    79      PVTRESD3             1\n",
       "CCLGHOUS                    80      CCLGHOUS             1\n",
       "CSTATE1                     81       CSTATE1             1\n",
       "LANDLINE                    84      LANDLINE             1\n",
       "HHADULT                     85       HHADULT             2\n",
       "GENHLTH                     90       GENHLTH             1\n",
       "PHYSHLTH                    91      PHYSHLTH             2\n",
       "MENTHLTH                    93      MENTHLTH             2\n",
       "...                        ...           ...           ...\n",
       "FC60_                     2127         FC60_             5\n",
       "ACTIN11_                  2132      ACTIN11_             1\n",
       "ACTIN21_                  2133      ACTIN21_             1\n",
       "PADUR1_                   2134       PADUR1_             3\n",
       "PADUR2_                   2137       PADUR2_             3\n",
       "PAFREQ1_                  2140      PAFREQ1_             5\n",
       "PAFREQ2_                  2145      PAFREQ2_             5\n",
       "_MINAC11                  2150      _MINAC11             5\n",
       "_MINAC21                  2155      _MINAC21             5\n",
       "STRFREQ_                  2160      STRFREQ_             5\n",
       "PAMISS1_                  2165      PAMISS1_             1\n",
       "PAMIN11_                  2166      PAMIN11_             5\n",
       "PAMIN21_                  2171      PAMIN21_             5\n",
       "PA1MIN_                   2176       PA1MIN_             5\n",
       "PAVIG11_                  2181      PAVIG11_             5\n",
       "PAVIG21_                  2186      PAVIG21_             5\n",
       "PA1VIGM_                  2191      PA1VIGM_             5\n",
       "_PACAT1                   2196       _PACAT1             1\n",
       "_PAINDX1                  2197      _PAINDX1             1\n",
       "_PA150R2                  2198      _PA150R2             1\n",
       "_PA300R2                  2199      _PA300R2             1\n",
       "_PA30021                  2200      _PA30021             1\n",
       "_PASTRNG                  2201      _PASTRNG             1\n",
       "_PAREC1                   2202       _PAREC1             1\n",
       "_PASTAE1                  2203      _PASTAE1             1\n",
       "_RFSEAT2                  2204      _RFSEAT2             1\n",
       "_RFSEAT3                  2205      _RFSEAT3             1\n",
       "_FLSHOT6                  2206      _FLSHOT6             1\n",
       "_PNEUMO2                  2207      _PNEUMO2             1\n",
       "_AIDTST3                  2208      _AIDTST3             1\n",
       "\n",
       "[358 rows x 3 columns]"
      ]
     },
     "execution_count": 9,
     "metadata": {},
     "output_type": "execute_result"
    }
   ],
   "source": [
    "layout = tables[1]\n",
    "layout.index = layout['Variable Name']\n",
    "layout"
   ]
  },
  {
   "cell_type": "code",
   "execution_count": 43,
   "metadata": {},
   "outputs": [],
   "source": [
    "names = ['SEX', 'INCOME2', 'WTKG3', 'HTM4', '_LLCPWT', '_AGEG5YR']"
   ]
  },
  {
   "cell_type": "code",
   "execution_count": 55,
   "metadata": {},
   "outputs": [
    {
     "data": {
      "text/plain": [
       "[(124, 125),\n",
       " (179, 181),\n",
       " (2039, 2044),\n",
       " (2036, 2039),\n",
       " (1797, 1807),\n",
       " (2027, 2029)]"
      ]
     },
     "execution_count": 55,
     "metadata": {},
     "output_type": "execute_result"
    }
   ],
   "source": [
    "colspecs = []\n",
    "for name in names:\n",
    "    start, _, length = layout.loc[name]\n",
    "    colspecs.append((start-1, start+length-1))\n",
    "    \n",
    "colspecs"
   ]
  },
  {
   "cell_type": "code",
   "execution_count": 81,
   "metadata": {},
   "outputs": [
    {
     "data": {
      "text/html": [
       "<div>\n",
       "<style scoped>\n",
       "    .dataframe tbody tr th:only-of-type {\n",
       "        vertical-align: middle;\n",
       "    }\n",
       "\n",
       "    .dataframe tbody tr th {\n",
       "        vertical-align: top;\n",
       "    }\n",
       "\n",
       "    .dataframe thead th {\n",
       "        text-align: right;\n",
       "    }\n",
       "</style>\n",
       "<table border=\"1\" class=\"dataframe\">\n",
       "  <thead>\n",
       "    <tr style=\"text-align: right;\">\n",
       "      <th></th>\n",
       "      <th>SEX</th>\n",
       "      <th>INCOME2</th>\n",
       "      <th>WTKG3</th>\n",
       "      <th>HTM4</th>\n",
       "      <th>_LLCPWT</th>\n",
       "      <th>_AGEG5YR</th>\n",
       "    </tr>\n",
       "  </thead>\n",
       "  <tbody>\n",
       "    <tr>\n",
       "      <th>0</th>\n",
       "      <td>2</td>\n",
       "      <td>6.0</td>\n",
       "      <td>7348.0</td>\n",
       "      <td>165.0</td>\n",
       "      <td>79.425947</td>\n",
       "      <td>11</td>\n",
       "    </tr>\n",
       "    <tr>\n",
       "      <th>1</th>\n",
       "      <td>1</td>\n",
       "      <td>8.0</td>\n",
       "      <td>9571.0</td>\n",
       "      <td>180.0</td>\n",
       "      <td>89.694580</td>\n",
       "      <td>10</td>\n",
       "    </tr>\n",
       "    <tr>\n",
       "      <th>2</th>\n",
       "      <td>1</td>\n",
       "      <td>99.0</td>\n",
       "      <td>8845.0</td>\n",
       "      <td>188.0</td>\n",
       "      <td>440.121376</td>\n",
       "      <td>11</td>\n",
       "    </tr>\n",
       "    <tr>\n",
       "      <th>3</th>\n",
       "      <td>2</td>\n",
       "      <td>1.0</td>\n",
       "      <td>7711.0</td>\n",
       "      <td>170.0</td>\n",
       "      <td>194.867164</td>\n",
       "      <td>11</td>\n",
       "    </tr>\n",
       "    <tr>\n",
       "      <th>4</th>\n",
       "      <td>2</td>\n",
       "      <td>2.0</td>\n",
       "      <td>6350.0</td>\n",
       "      <td>165.0</td>\n",
       "      <td>169.087888</td>\n",
       "      <td>10</td>\n",
       "    </tr>\n",
       "  </tbody>\n",
       "</table>\n",
       "</div>"
      ],
      "text/plain": [
       "   SEX  INCOME2   WTKG3   HTM4     _LLCPWT  _AGEG5YR\n",
       "0    2      6.0  7348.0  165.0   79.425947        11\n",
       "1    1      8.0  9571.0  180.0   89.694580        10\n",
       "2    1     99.0  8845.0  188.0  440.121376        11\n",
       "3    2      1.0  7711.0  170.0  194.867164        11\n",
       "4    2      2.0  6350.0  165.0  169.087888        10"
      ]
     },
     "execution_count": 81,
     "metadata": {},
     "output_type": "execute_result"
    }
   ],
   "source": [
    "filename = 'LLCP2017.ASC.gz'\n",
    "brfss = pd.read_fwf(filename,\n",
    "                    colspecs=colspecs, \n",
    "                    names=names,\n",
    "                    compression='gzip',\n",
    "                    nrows=None)\n",
    "\n",
    "brfss.head()"
   ]
  },
  {
   "cell_type": "code",
   "execution_count": 82,
   "metadata": {},
   "outputs": [
    {
     "data": {
      "text/plain": [
       "(450016, 6)"
      ]
     },
     "execution_count": 82,
     "metadata": {},
     "output_type": "execute_result"
    }
   ],
   "source": [
    "brfss.shape"
   ]
  },
  {
   "cell_type": "code",
   "execution_count": 83,
   "metadata": {},
   "outputs": [
    {
     "data": {
      "text/plain": [
       "1    198725\n",
       "2    251007\n",
       "9       284\n",
       "Name: SEX, dtype: int64"
      ]
     },
     "execution_count": 83,
     "metadata": {},
     "output_type": "execute_result"
    }
   ],
   "source": [
    "brfss['SEX'].value_counts().sort_index()"
   ]
  },
  {
   "cell_type": "code",
   "execution_count": 84,
   "metadata": {},
   "outputs": [],
   "source": [
    "brfss['SEX'].replace([9], np.nan, inplace=True)"
   ]
  },
  {
   "cell_type": "code",
   "execution_count": 85,
   "metadata": {},
   "outputs": [
    {
     "data": {
      "text/plain": [
       "1.0      18346\n",
       "2.0      19334\n",
       "3.0      27735\n",
       "4.0      34222\n",
       "5.0      39751\n",
       "6.0      53148\n",
       "7.0      59632\n",
       "8.0     122763\n",
       "77.0     33328\n",
       "99.0     38426\n",
       "Name: INCOME2, dtype: int64"
      ]
     },
     "execution_count": 85,
     "metadata": {},
     "output_type": "execute_result"
    }
   ],
   "source": [
    "brfss['INCOME2'].value_counts().sort_index()"
   ]
  },
  {
   "cell_type": "code",
   "execution_count": 86,
   "metadata": {},
   "outputs": [],
   "source": [
    "brfss['INCOME2'].replace([77, 99], np.nan, inplace=True)"
   ]
  },
  {
   "cell_type": "code",
   "execution_count": 92,
   "metadata": {},
   "outputs": [
    {
     "data": {
      "text/plain": [
       "count    420145.000000\n",
       "mean       8158.671851\n",
       "std        2070.102388\n",
       "min        2268.000000\n",
       "25%        6759.000000\n",
       "50%        7938.000000\n",
       "75%        9163.000000\n",
       "max       27500.000000\n",
       "Name: WTKG3, dtype: float64"
      ]
     },
     "execution_count": 92,
     "metadata": {},
     "output_type": "execute_result"
    }
   ],
   "source": [
    "brfss['WTKG3'].describe()"
   ]
  },
  {
   "cell_type": "code",
   "execution_count": 93,
   "metadata": {},
   "outputs": [
    {
     "data": {
      "text/plain": [
       "count    433572.000000\n",
       "mean        169.821863\n",
       "std          10.614508\n",
       "min          91.000000\n",
       "25%         163.000000\n",
       "50%         170.000000\n",
       "75%         178.000000\n",
       "max         236.000000\n",
       "Name: HTM4, dtype: float64"
      ]
     },
     "execution_count": 93,
     "metadata": {},
     "output_type": "execute_result"
    }
   ],
   "source": [
    "brfss['HTM4'].describe()"
   ]
  },
  {
   "cell_type": "code",
   "execution_count": 94,
   "metadata": {},
   "outputs": [
    {
     "data": {
      "text/plain": [
       "count    450016.000000\n",
       "mean        568.098034\n",
       "std        1119.545360\n",
       "min           0.131624\n",
       "25%          91.499675\n",
       "50%         237.083009\n",
       "75%         592.876546\n",
       "max       45053.592700\n",
       "Name: _LLCPWT, dtype: float64"
      ]
     },
     "execution_count": 94,
     "metadata": {},
     "output_type": "execute_result"
    }
   ],
   "source": [
    "brfss['_LLCPWT'].describe()"
   ]
  },
  {
   "cell_type": "code",
   "execution_count": 95,
   "metadata": {},
   "outputs": [
    {
     "data": {
      "text/plain": [
       "count    450016.000000\n",
       "mean          7.747962\n",
       "std           3.557474\n",
       "min           1.000000\n",
       "25%           5.000000\n",
       "50%           8.000000\n",
       "75%          11.000000\n",
       "max          14.000000\n",
       "Name: _AGEG5YR, dtype: float64"
      ]
     },
     "execution_count": 95,
     "metadata": {},
     "output_type": "execute_result"
    }
   ],
   "source": [
    "brfss['_AGEG5YR'].describe()"
   ]
  },
  {
   "cell_type": "code",
   "execution_count": 96,
   "metadata": {},
   "outputs": [],
   "source": [
    "brfss['_AGEG5YR'].replace([14], np.nan, inplace=True)"
   ]
  },
  {
   "cell_type": "code",
   "execution_count": 149,
   "metadata": {},
   "outputs": [],
   "source": [
    "lower = np.arange(15, 85, 5)\n",
    "upper = lower + 4"
   ]
  },
  {
   "cell_type": "code",
   "execution_count": 150,
   "metadata": {},
   "outputs": [
    {
     "data": {
      "text/plain": [
       "0     15\n",
       "1     18\n",
       "2     25\n",
       "3     30\n",
       "4     35\n",
       "5     40\n",
       "6     45\n",
       "7     50\n",
       "8     55\n",
       "9     60\n",
       "10    65\n",
       "11    70\n",
       "12    75\n",
       "13    80\n",
       "dtype: int64"
      ]
     },
     "execution_count": 150,
     "metadata": {},
     "output_type": "execute_result"
    }
   ],
   "source": [
    "lower[1]= 18\n",
    "lower = pd.Series(lower, index=range(len(lower)))\n",
    "lower"
   ]
  },
  {
   "cell_type": "code",
   "execution_count": 151,
   "metadata": {},
   "outputs": [
    {
     "data": {
      "text/plain": [
       "0     19\n",
       "1     24\n",
       "2     29\n",
       "3     34\n",
       "4     39\n",
       "5     44\n",
       "6     49\n",
       "7     54\n",
       "8     59\n",
       "9     64\n",
       "10    69\n",
       "11    74\n",
       "12    79\n",
       "13    99\n",
       "dtype: int64"
      ]
     },
     "execution_count": 151,
     "metadata": {},
     "output_type": "execute_result"
    }
   ],
   "source": [
    "upper[-1] = 99\n",
    "upper = pd.Series(upper, index=range(len(upper)))\n",
    "upper"
   ]
  },
  {
   "cell_type": "code",
   "execution_count": 152,
   "metadata": {},
   "outputs": [],
   "source": [
    "age_code = brfss['_AGEG5YR']"
   ]
  },
  {
   "cell_type": "code",
   "execution_count": 153,
   "metadata": {},
   "outputs": [
    {
     "data": {
      "text/plain": [
       "count    443915.000000\n",
       "mean         53.191994\n",
       "std          17.754445\n",
       "min          18.000000\n",
       "25%          40.000000\n",
       "50%          55.000000\n",
       "75%          65.000000\n",
       "max          80.000000\n",
       "dtype: float64"
      ]
     },
     "execution_count": 153,
     "metadata": {},
     "output_type": "execute_result"
    }
   ],
   "source": [
    "lower = lower[age_code]\n",
    "lower.describe()"
   ]
  },
  {
   "cell_type": "code",
   "execution_count": 154,
   "metadata": {},
   "outputs": [
    {
     "data": {
      "text/plain": [
       "count    443915.000000\n",
       "mean         58.520854\n",
       "std          19.708977\n",
       "min          24.000000\n",
       "25%          44.000000\n",
       "50%          59.000000\n",
       "75%          69.000000\n",
       "max          99.000000\n",
       "dtype: float64"
      ]
     },
     "execution_count": 154,
     "metadata": {},
     "output_type": "execute_result"
    }
   ],
   "source": [
    "upper = upper[age_code]\n",
    "upper.describe()"
   ]
  },
  {
   "cell_type": "code",
   "execution_count": 157,
   "metadata": {},
   "outputs": [],
   "source": [
    "def randint(lower, upper):\n",
    "    for low, high in zip(lower, upper+1):\n",
    "        try:\n",
    "            yield np.random.randint(low, high)\n",
    "        except ValueError:\n",
    "            yield np.nan"
   ]
  },
  {
   "cell_type": "code",
   "execution_count": 158,
   "metadata": {},
   "outputs": [],
   "source": [
    "brfss['AGE'] = list(randint(lower, upper))"
   ]
  },
  {
   "cell_type": "code",
   "execution_count": 159,
   "metadata": {},
   "outputs": [
    {
     "data": {
      "text/plain": [
       "count    443915.000000\n",
       "mean         55.857849\n",
       "std          18.774884\n",
       "min          18.000000\n",
       "25%          42.000000\n",
       "50%          58.000000\n",
       "75%          69.000000\n",
       "max          99.000000\n",
       "Name: age, dtype: float64"
      ]
     },
     "execution_count": 159,
     "metadata": {},
     "output_type": "execute_result"
    }
   ],
   "source": [
    "brfss['AGE'].describe()"
   ]
  },
  {
   "cell_type": "code",
   "execution_count": 160,
   "metadata": {},
   "outputs": [],
   "source": [
    "sample = utils.resample_rows_weighted(brfss, '_LLCPWT')[:100000]"
   ]
  },
  {
   "cell_type": "code",
   "execution_count": 163,
   "metadata": {},
   "outputs": [],
   "source": [
    "sample.to_hdf('brfss.hdf5', 'brfss')"
   ]
  },
  {
   "cell_type": "code",
   "execution_count": 164,
   "metadata": {},
   "outputs": [
    {
     "name": "stdout",
     "output_type": "stream",
     "text": [
      "CPU times: user 8 ms, sys: 0 ns, total: 8 ms\n",
      "Wall time: 7.92 ms\n"
     ]
    }
   ],
   "source": [
    "%time brfss = pd.read_hdf('brfss.hdf5', 'brfss')"
   ]
  },
  {
   "cell_type": "code",
   "execution_count": 165,
   "metadata": {},
   "outputs": [
    {
     "data": {
      "text/plain": [
       "(100000, 7)"
      ]
     },
     "execution_count": 165,
     "metadata": {},
     "output_type": "execute_result"
    }
   ],
   "source": [
    "brfss.shape"
   ]
  },
  {
   "cell_type": "code",
   "execution_count": 166,
   "metadata": {},
   "outputs": [
    {
     "data": {
      "text/html": [
       "<div>\n",
       "<style scoped>\n",
       "    .dataframe tbody tr th:only-of-type {\n",
       "        vertical-align: middle;\n",
       "    }\n",
       "\n",
       "    .dataframe tbody tr th {\n",
       "        vertical-align: top;\n",
       "    }\n",
       "\n",
       "    .dataframe thead th {\n",
       "        text-align: right;\n",
       "    }\n",
       "</style>\n",
       "<table border=\"1\" class=\"dataframe\">\n",
       "  <thead>\n",
       "    <tr style=\"text-align: right;\">\n",
       "      <th></th>\n",
       "      <th>SEX</th>\n",
       "      <th>INCOME2</th>\n",
       "      <th>WTKG3</th>\n",
       "      <th>HTM4</th>\n",
       "      <th>_LLCPWT</th>\n",
       "      <th>_AGEG5YR</th>\n",
       "      <th>age</th>\n",
       "    </tr>\n",
       "  </thead>\n",
       "  <tbody>\n",
       "    <tr>\n",
       "      <th>count</th>\n",
       "      <td>99938.000000</td>\n",
       "      <td>83356.000000</td>\n",
       "      <td>93438.000000</td>\n",
       "      <td>95195.000000</td>\n",
       "      <td>100000.000000</td>\n",
       "      <td>98816.000000</td>\n",
       "      <td>98816.000000</td>\n",
       "    </tr>\n",
       "    <tr>\n",
       "      <th>mean</th>\n",
       "      <td>1.511617</td>\n",
       "      <td>5.792840</td>\n",
       "      <td>8119.824119</td>\n",
       "      <td>170.217501</td>\n",
       "      <td>2779.550579</td>\n",
       "      <td>6.099893</td>\n",
       "      <td>47.707254</td>\n",
       "    </tr>\n",
       "    <tr>\n",
       "      <th>std</th>\n",
       "      <td>0.499868</td>\n",
       "      <td>2.228355</td>\n",
       "      <td>2087.694402</td>\n",
       "      <td>10.834020</td>\n",
       "      <td>3983.603004</td>\n",
       "      <td>3.588736</td>\n",
       "      <td>18.928562</td>\n",
       "    </tr>\n",
       "    <tr>\n",
       "      <th>min</th>\n",
       "      <td>1.000000</td>\n",
       "      <td>1.000000</td>\n",
       "      <td>2268.000000</td>\n",
       "      <td>91.000000</td>\n",
       "      <td>4.218451</td>\n",
       "      <td>1.000000</td>\n",
       "      <td>18.000000</td>\n",
       "    </tr>\n",
       "    <tr>\n",
       "      <th>25%</th>\n",
       "      <td>1.000000</td>\n",
       "      <td>4.000000</td>\n",
       "      <td>6577.000000</td>\n",
       "      <td>163.000000</td>\n",
       "      <td>576.673886</td>\n",
       "      <td>3.000000</td>\n",
       "      <td>32.000000</td>\n",
       "    </tr>\n",
       "    <tr>\n",
       "      <th>50%</th>\n",
       "      <td>2.000000</td>\n",
       "      <td>6.000000</td>\n",
       "      <td>7893.000000</td>\n",
       "      <td>170.000000</td>\n",
       "      <td>1383.001815</td>\n",
       "      <td>6.000000</td>\n",
       "      <td>47.000000</td>\n",
       "    </tr>\n",
       "    <tr>\n",
       "      <th>75%</th>\n",
       "      <td>2.000000</td>\n",
       "      <td>8.000000</td>\n",
       "      <td>9072.000000</td>\n",
       "      <td>178.000000</td>\n",
       "      <td>3195.533502</td>\n",
       "      <td>9.000000</td>\n",
       "      <td>62.000000</td>\n",
       "    </tr>\n",
       "    <tr>\n",
       "      <th>max</th>\n",
       "      <td>2.000000</td>\n",
       "      <td>8.000000</td>\n",
       "      <td>27216.000000</td>\n",
       "      <td>226.000000</td>\n",
       "      <td>45053.592700</td>\n",
       "      <td>13.000000</td>\n",
       "      <td>99.000000</td>\n",
       "    </tr>\n",
       "  </tbody>\n",
       "</table>\n",
       "</div>"
      ],
      "text/plain": [
       "                SEX       INCOME2         WTKG3          HTM4        _LLCPWT  \\\n",
       "count  99938.000000  83356.000000  93438.000000  95195.000000  100000.000000   \n",
       "mean       1.511617      5.792840   8119.824119    170.217501    2779.550579   \n",
       "std        0.499868      2.228355   2087.694402     10.834020    3983.603004   \n",
       "min        1.000000      1.000000   2268.000000     91.000000       4.218451   \n",
       "25%        1.000000      4.000000   6577.000000    163.000000     576.673886   \n",
       "50%        2.000000      6.000000   7893.000000    170.000000    1383.001815   \n",
       "75%        2.000000      8.000000   9072.000000    178.000000    3195.533502   \n",
       "max        2.000000      8.000000  27216.000000    226.000000   45053.592700   \n",
       "\n",
       "           _AGEG5YR           age  \n",
       "count  98816.000000  98816.000000  \n",
       "mean       6.099893     47.707254  \n",
       "std        3.588736     18.928562  \n",
       "min        1.000000     18.000000  \n",
       "25%        3.000000     32.000000  \n",
       "50%        6.000000     47.000000  \n",
       "75%        9.000000     62.000000  \n",
       "max       13.000000     99.000000  "
      ]
     },
     "execution_count": 166,
     "metadata": {},
     "output_type": "execute_result"
    }
   ],
   "source": [
    "brfss.describe()"
   ]
  },
  {
   "cell_type": "code",
   "execution_count": null,
   "metadata": {},
   "outputs": [],
   "source": []
  },
  {
   "cell_type": "code",
   "execution_count": null,
   "metadata": {},
   "outputs": [],
   "source": []
  },
  {
   "cell_type": "code",
   "execution_count": null,
   "metadata": {},
   "outputs": [],
   "source": []
  },
  {
   "cell_type": "code",
   "execution_count": null,
   "metadata": {},
   "outputs": [],
   "source": []
  },
  {
   "cell_type": "code",
   "execution_count": null,
   "metadata": {},
   "outputs": [],
   "source": []
  },
  {
   "cell_type": "code",
   "execution_count": null,
   "metadata": {},
   "outputs": [],
   "source": []
  },
  {
   "cell_type": "code",
   "execution_count": null,
   "metadata": {},
   "outputs": [],
   "source": []
  },
  {
   "cell_type": "code",
   "execution_count": null,
   "metadata": {},
   "outputs": [],
   "source": []
  },
  {
   "cell_type": "code",
   "execution_count": null,
   "metadata": {},
   "outputs": [],
   "source": []
  }
 ],
 "metadata": {
  "kernelspec": {
   "display_name": "Python 3",
   "language": "python",
   "name": "python3"
  },
  "language_info": {
   "codemirror_mode": {
    "name": "ipython",
    "version": 3
   },
   "file_extension": ".py",
   "mimetype": "text/x-python",
   "name": "python",
   "nbconvert_exporter": "python",
   "pygments_lexer": "ipython3",
   "version": "3.6.5"
  }
 },
 "nbformat": 4,
 "nbformat_minor": 1
}
