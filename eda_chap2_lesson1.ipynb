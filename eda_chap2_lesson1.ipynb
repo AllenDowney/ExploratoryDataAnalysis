{
 "cells": [
  {
   "cell_type": "markdown",
   "metadata": {},
   "source": [
    "# Exploratory Data Analysis\n",
    "\n",
    "Chapter 2, Lesson 1\n",
    "\n",
    "Allen Downey\n",
    "\n",
    "[MIT License](https://en.wikipedia.org/wiki/MIT_License)"
   ]
  },
  {
   "cell_type": "code",
   "execution_count": 1,
   "metadata": {},
   "outputs": [],
   "source": [
    "%matplotlib inline\n",
    "\n",
    "import pandas as pd\n",
    "import numpy as np\n",
    "\n",
    "import matplotlib.pyplot as plt\n",
    "import seaborn as sns\n",
    "sns.set(style='white', context='talk')\n",
    "\n",
    "import utils\n",
    "from utils import decorate\n",
    "from distribution import Pmf, Cdf"
   ]
  },
  {
   "cell_type": "markdown",
   "metadata": {},
   "source": [
    "## Loading and validation\n",
    "\n",
    "Reading data from the [General Social Survey](https://gssdataexplorer.norc.org/projects/29853)\n",
    "\n",
    "TODO: Add link to project"
   ]
  },
  {
   "cell_type": "code",
   "execution_count": 2,
   "metadata": {},
   "outputs": [],
   "source": [
    "# Would be nice if this worked, but it doesn't\n",
    "# df = pd.read_excel('data/GSS.xls')"
   ]
  },
  {
   "cell_type": "code",
   "execution_count": 3,
   "metadata": {},
   "outputs": [],
   "source": [
    "# Would be nice if this worked, but it doesn't\n",
    "# df = pd.read_stata('data/GSS.dat')"
   ]
  },
  {
   "cell_type": "code",
   "execution_count": null,
   "metadata": {},
   "outputs": [],
   "source": []
  },
  {
   "cell_type": "code",
   "execution_count": 4,
   "metadata": {},
   "outputs": [
    {
     "name": "stdout",
     "output_type": "stream",
     "text": [
      "(62466, 24)\n"
     ]
    },
    {
     "data": {
      "text/html": [
       "<div>\n",
       "<style scoped>\n",
       "    .dataframe tbody tr th:only-of-type {\n",
       "        vertical-align: middle;\n",
       "    }\n",
       "\n",
       "    .dataframe tbody tr th {\n",
       "        vertical-align: top;\n",
       "    }\n",
       "\n",
       "    .dataframe thead th {\n",
       "        text-align: right;\n",
       "    }\n",
       "</style>\n",
       "<table border=\"1\" class=\"dataframe\">\n",
       "  <thead>\n",
       "    <tr style=\"text-align: right;\">\n",
       "      <th></th>\n",
       "      <th>year</th>\n",
       "      <th>gun</th>\n",
       "      <th>gunage</th>\n",
       "      <th>gunnum</th>\n",
       "      <th>owngun</th>\n",
       "      <th>rowngun</th>\n",
       "      <th>realinc</th>\n",
       "      <th>conrinc</th>\n",
       "      <th>hispanic</th>\n",
       "      <th>cohort</th>\n",
       "      <th>...</th>\n",
       "      <th>age</th>\n",
       "      <th>educ</th>\n",
       "      <th>sex</th>\n",
       "      <th>race</th>\n",
       "      <th>income</th>\n",
       "      <th>rincome</th>\n",
       "      <th>srcbelt</th>\n",
       "      <th>polviews</th>\n",
       "      <th>natcrime</th>\n",
       "      <th>wtssall</th>\n",
       "    </tr>\n",
       "  </thead>\n",
       "  <tbody>\n",
       "    <tr>\n",
       "      <th>0</th>\n",
       "      <td>1972</td>\n",
       "      <td>0</td>\n",
       "      <td>0</td>\n",
       "      <td>0</td>\n",
       "      <td>0</td>\n",
       "      <td>0</td>\n",
       "      <td>18951.0</td>\n",
       "      <td>0.0</td>\n",
       "      <td>0</td>\n",
       "      <td>1949</td>\n",
       "      <td>...</td>\n",
       "      <td>23</td>\n",
       "      <td>16</td>\n",
       "      <td>2</td>\n",
       "      <td>1</td>\n",
       "      <td>0</td>\n",
       "      <td>0</td>\n",
       "      <td>3</td>\n",
       "      <td>0</td>\n",
       "      <td>0</td>\n",
       "      <td>0.4446</td>\n",
       "    </tr>\n",
       "    <tr>\n",
       "      <th>1</th>\n",
       "      <td>1972</td>\n",
       "      <td>0</td>\n",
       "      <td>0</td>\n",
       "      <td>0</td>\n",
       "      <td>0</td>\n",
       "      <td>0</td>\n",
       "      <td>24366.0</td>\n",
       "      <td>0.0</td>\n",
       "      <td>0</td>\n",
       "      <td>1902</td>\n",
       "      <td>...</td>\n",
       "      <td>70</td>\n",
       "      <td>10</td>\n",
       "      <td>1</td>\n",
       "      <td>1</td>\n",
       "      <td>0</td>\n",
       "      <td>0</td>\n",
       "      <td>3</td>\n",
       "      <td>0</td>\n",
       "      <td>0</td>\n",
       "      <td>0.8893</td>\n",
       "    </tr>\n",
       "    <tr>\n",
       "      <th>2</th>\n",
       "      <td>1972</td>\n",
       "      <td>0</td>\n",
       "      <td>0</td>\n",
       "      <td>0</td>\n",
       "      <td>0</td>\n",
       "      <td>0</td>\n",
       "      <td>24366.0</td>\n",
       "      <td>0.0</td>\n",
       "      <td>0</td>\n",
       "      <td>1924</td>\n",
       "      <td>...</td>\n",
       "      <td>48</td>\n",
       "      <td>12</td>\n",
       "      <td>2</td>\n",
       "      <td>1</td>\n",
       "      <td>0</td>\n",
       "      <td>0</td>\n",
       "      <td>3</td>\n",
       "      <td>0</td>\n",
       "      <td>0</td>\n",
       "      <td>0.8893</td>\n",
       "    </tr>\n",
       "    <tr>\n",
       "      <th>3</th>\n",
       "      <td>1972</td>\n",
       "      <td>0</td>\n",
       "      <td>0</td>\n",
       "      <td>0</td>\n",
       "      <td>0</td>\n",
       "      <td>0</td>\n",
       "      <td>30458.0</td>\n",
       "      <td>0.0</td>\n",
       "      <td>0</td>\n",
       "      <td>1945</td>\n",
       "      <td>...</td>\n",
       "      <td>27</td>\n",
       "      <td>17</td>\n",
       "      <td>2</td>\n",
       "      <td>1</td>\n",
       "      <td>0</td>\n",
       "      <td>0</td>\n",
       "      <td>3</td>\n",
       "      <td>0</td>\n",
       "      <td>0</td>\n",
       "      <td>0.8893</td>\n",
       "    </tr>\n",
       "    <tr>\n",
       "      <th>4</th>\n",
       "      <td>1972</td>\n",
       "      <td>0</td>\n",
       "      <td>0</td>\n",
       "      <td>0</td>\n",
       "      <td>0</td>\n",
       "      <td>0</td>\n",
       "      <td>50763.0</td>\n",
       "      <td>0.0</td>\n",
       "      <td>0</td>\n",
       "      <td>1911</td>\n",
       "      <td>...</td>\n",
       "      <td>61</td>\n",
       "      <td>12</td>\n",
       "      <td>2</td>\n",
       "      <td>1</td>\n",
       "      <td>0</td>\n",
       "      <td>0</td>\n",
       "      <td>3</td>\n",
       "      <td>0</td>\n",
       "      <td>0</td>\n",
       "      <td>0.8893</td>\n",
       "    </tr>\n",
       "  </tbody>\n",
       "</table>\n",
       "<p>5 rows × 24 columns</p>\n",
       "</div>"
      ],
      "text/plain": [
       "   year  gun  gunage  gunnum  owngun  rowngun  realinc  conrinc  hispanic  \\\n",
       "0  1972    0       0       0       0        0  18951.0      0.0         0   \n",
       "1  1972    0       0       0       0        0  24366.0      0.0         0   \n",
       "2  1972    0       0       0       0        0  24366.0      0.0         0   \n",
       "3  1972    0       0       0       0        0  30458.0      0.0         0   \n",
       "4  1972    0       0       0       0        0  50763.0      0.0         0   \n",
       "\n",
       "   cohort   ...     age  educ  sex  race  income  rincome  srcbelt  polviews  \\\n",
       "0    1949   ...      23    16    2     1       0        0        3         0   \n",
       "1    1902   ...      70    10    1     1       0        0        3         0   \n",
       "2    1924   ...      48    12    2     1       0        0        3         0   \n",
       "3    1945   ...      27    17    2     1       0        0        3         0   \n",
       "4    1911   ...      61    12    2     1       0        0        3         0   \n",
       "\n",
       "   natcrime  wtssall  \n",
       "0         0   0.4446  \n",
       "1         0   0.8893  \n",
       "2         0   0.8893  \n",
       "3         0   0.8893  \n",
       "4         0   0.8893  \n",
       "\n",
       "[5 rows x 24 columns]"
      ]
     },
     "execution_count": 4,
     "metadata": {},
     "output_type": "execute_result"
    }
   ],
   "source": [
    "gss = utils.read_stata('data')\n",
    "print(gss.shape)\n",
    "gss.head()"
   ]
  },
  {
   "cell_type": "code",
   "execution_count": 5,
   "metadata": {},
   "outputs": [],
   "source": [
    "def replace_invalid(df):\n",
    "    df.gunlaw.replace([8, 9, 0], np.nan, inplace=True)\n",
    "    df.owngun.replace([3, 8, 9, 0], np.nan, inplace=True)\n",
    "    df.gun.replace([8, 9, 0], np.nan, inplace=True)\n",
    "    df.natcrime.replace([8, 9, 0], np.nan, inplace=True)\n",
    "    df.income.replace([0, 13, 98, 99], np.nan, inplace=True)\n",
    "    df.realinc.replace([0], np.nan, inplace=True)                  # TODO: check this\n",
    "    df.educ.replace([98,99], np.nan, inplace=True)\n",
    "    df.polviews.replace([8, 9, 0], np.nan, inplace=True)\n",
    "    df.age.replace([98, 99], np.nan, inplace=True)               # 89 means 89 or older\n",
    "    df.hispanic.replace([98, 99, 0], np.nan, inplace=True)\n",
    "    df.cohort.replace([9999], np.nan, inplace=True)"
   ]
  },
  {
   "cell_type": "code",
   "execution_count": 6,
   "metadata": {},
   "outputs": [],
   "source": [
    "def numnull(series):\n",
    "    return sum(series.isnull())"
   ]
  },
  {
   "cell_type": "code",
   "execution_count": 7,
   "metadata": {},
   "outputs": [],
   "source": [
    "replace_invalid(gss)"
   ]
  },
  {
   "cell_type": "code",
   "execution_count": 8,
   "metadata": {},
   "outputs": [
    {
     "data": {
      "text/plain": [
       "(62466, 24)"
      ]
     },
     "execution_count": 8,
     "metadata": {},
     "output_type": "execute_result"
    }
   ],
   "source": [
    "sample = utils.resample_by_year(gss)\n",
    "sample.shape"
   ]
  },
  {
   "cell_type": "markdown",
   "metadata": {},
   "source": [
    "### Age \n",
    "\n",
    "https://gssdataexplorer.norc.org/projects/29853/variables/53/vshow"
   ]
  },
  {
   "cell_type": "code",
   "execution_count": 9,
   "metadata": {},
   "outputs": [
    {
     "data": {
      "text/plain": [
       "221"
      ]
     },
     "execution_count": 9,
     "metadata": {},
     "output_type": "execute_result"
    }
   ],
   "source": [
    "numnull(gss.age)"
   ]
  },
  {
   "cell_type": "code",
   "execution_count": 10,
   "metadata": {},
   "outputs": [
    {
     "data": {
      "image/png": "[encoded data removed]",
      "text/plain": [
       "<Figure size 432x288 with 1 Axes>"
      ]
     },
     "metadata": {},
     "output_type": "display_data"
    }
   ],
   "source": [
    "pmf = Pmf.from_seq(gss.age)\n",
    "pmf.bar(width=1)\n",
    "decorate(xlabel='Age', ylabel='PMF')"
   ]
  },
  {
   "cell_type": "code",
   "execution_count": 11,
   "metadata": {},
   "outputs": [
    {
     "data": {
      "image/png": "[encoded data removed]",
      "text/plain": [
       "<Figure size 432x288 with 1 Axes>"
      ]
     },
     "metadata": {},
     "output_type": "display_data"
    }
   ],
   "source": [
    "pmf = Pmf.from_seq(sample.age)\n",
    "pmf.bar(width=1)\n",
    "decorate(xlabel='Age', ylabel='PMF')"
   ]
  },
  {
   "cell_type": "code",
   "execution_count": 12,
   "metadata": {},
   "outputs": [
    {
     "data": {
      "image/png": "[encoded data removed]",
      "text/plain": [
       "<Figure size 432x288 with 1 Axes>"
      ]
     },
     "metadata": {},
     "output_type": "display_data"
    }
   ],
   "source": [
    "cdf = Cdf.from_seq(sample.age)\n",
    "cdf.step()\n",
    "decorate(xlabel='Age', ylabel='CDF')"
   ]
  },
  {
   "cell_type": "code",
   "execution_count": 13,
   "metadata": {},
   "outputs": [
    {
     "data": {
      "text/plain": [
       "array(0.65935069)"
      ]
     },
     "execution_count": 13,
     "metadata": {},
     "output_type": "execute_result"
    }
   ],
   "source": [
    "cdf(51)"
   ]
  },
  {
   "cell_type": "code",
   "execution_count": 15,
   "metadata": {},
   "outputs": [
    {
     "data": {
      "text/plain": [
       "array(43.)"
      ]
     },
     "execution_count": 15,
     "metadata": {},
     "output_type": "execute_result"
    }
   ],
   "source": [
    "cdf.inverse(0.5)"
   ]
  },
  {
   "cell_type": "code",
   "execution_count": 14,
   "metadata": {},
   "outputs": [
    {
     "ename": "NameError",
     "evalue": "name 'stop' is not defined",
     "output_type": "error",
     "traceback": [
      "\u001b[0;31m---------------------------------------------------------------------------\u001b[0m",
      "\u001b[0;31mNameError\u001b[0m                                 Traceback (most recent call last)",
      "\u001b[0;32m<ipython-input-14-4f76a9dad686>\u001b[0m in \u001b[0;36m<module>\u001b[0;34m()\u001b[0m\n\u001b[0;32m----> 1\u001b[0;31m \u001b[0mstop\u001b[0m\u001b[0;34m\u001b[0m\u001b[0m\n\u001b[0m",
      "\u001b[0;31mNameError\u001b[0m: name 'stop' is not defined"
     ]
    }
   ],
   "source": [
    "stop"
   ]
  },
  {
   "cell_type": "markdown",
   "metadata": {},
   "source": [
    "### Year of birth \n",
    "\n",
    "https://gssdataexplorer.norc.org/projects/29853/variables/5507/vshow"
   ]
  },
  {
   "cell_type": "code",
   "execution_count": null,
   "metadata": {},
   "outputs": [],
   "source": [
    "numnull(gss.cohort)"
   ]
  },
  {
   "cell_type": "code",
   "execution_count": null,
   "metadata": {
    "scrolled": true
   },
   "outputs": [],
   "source": [
    "thinkplot.Cdf(thinkstats2.Cdf(gss.cohort))\n",
    "thinkplot.Config(xlabel='Year of birth', ylabel='CDF')"
   ]
  },
  {
   "cell_type": "markdown",
   "metadata": {},
   "source": [
    "### Sex \n",
    "\n",
    "https://gssdataexplorer.norc.org/projects/41723/variables/81/vshow"
   ]
  },
  {
   "cell_type": "code",
   "execution_count": null,
   "metadata": {},
   "outputs": [],
   "source": [
    "numnull(gss.sex)"
   ]
  },
  {
   "cell_type": "code",
   "execution_count": null,
   "metadata": {
    "scrolled": true
   },
   "outputs": [],
   "source": [
    "utils.values(gss, 'sex')"
   ]
  },
  {
   "cell_type": "markdown",
   "metadata": {},
   "source": [
    "### Race\n",
    "\n",
    "https://gssdataexplorer.norc.org/projects/41723/variables/82/vshow\n",
    "\n",
    "CODE WITHOUT ASKING ONLY IF THERE IS NO DOUBT IN YOUR MIND. \n",
    "What race do you consider yourself? RECORD VERBATIM AND CODE."
   ]
  },
  {
   "cell_type": "code",
   "execution_count": null,
   "metadata": {},
   "outputs": [],
   "source": [
    "numnull(gss.race)"
   ]
  },
  {
   "cell_type": "code",
   "execution_count": null,
   "metadata": {
    "scrolled": false
   },
   "outputs": [],
   "source": [
    "utils.values(gss, 'race')"
   ]
  },
  {
   "cell_type": "markdown",
   "metadata": {},
   "source": [
    "### Hispanic \n",
    "\n"
   ]
  },
  {
   "cell_type": "code",
   "execution_count": null,
   "metadata": {
    "scrolled": true
   },
   "outputs": [],
   "source": [
    "numnull(gss.hispanic)"
   ]
  },
  {
   "cell_type": "code",
   "execution_count": null,
   "metadata": {},
   "outputs": [],
   "source": [
    "utils.values(gss, 'hispanic')"
   ]
  },
  {
   "cell_type": "markdown",
   "metadata": {},
   "source": [
    "### srcbelt\n",
    "\n",
    "C. SRC (SURVEY RESEARCH CENTER, UNIVERSITY OF MICHIGAN) NEW BELT CODE\n",
    "\n",
    "https://gssdataexplorer.norc.org/projects/41723/variables/121/vshow"
   ]
  },
  {
   "cell_type": "code",
   "execution_count": null,
   "metadata": {},
   "outputs": [],
   "source": [
    "numnull(gss.srcbelt)"
   ]
  },
  {
   "cell_type": "code",
   "execution_count": null,
   "metadata": {
    "scrolled": true
   },
   "outputs": [],
   "source": [
    "utils.values(gss, 'srcbelt')"
   ]
  },
  {
   "cell_type": "markdown",
   "metadata": {},
   "source": [
    "### Make age and cohort groups"
   ]
  },
  {
   "cell_type": "markdown",
   "metadata": {},
   "source": [
    "Group people into 5- and 10-year bins by birth year."
   ]
  },
  {
   "cell_type": "code",
   "execution_count": null,
   "metadata": {},
   "outputs": [],
   "source": [
    "gss['cohort5'] = utils.RoundIntoBins(gss, 'cohort', 5, low=2) + 2.5"
   ]
  },
  {
   "cell_type": "code",
   "execution_count": null,
   "metadata": {},
   "outputs": [],
   "source": [
    "grouped_cohort = gss.groupby(['cohort5'])\n",
    "counts = grouped_cohort.gunlaw.count()           # count cases where we have the dependent var\n",
    "counts"
   ]
  },
  {
   "cell_type": "markdown",
   "metadata": {},
   "source": [
    "To avoid a final data point with a small sample size, I chose `low` to minimize the number of people in the last group, and I've lumped them in with the previous group."
   ]
  },
  {
   "cell_type": "code",
   "execution_count": null,
   "metadata": {},
   "outputs": [],
   "source": [
    "gss.loc[gss.cohort5==1999.5, 'cohort5'] = 1994.5\n",
    "gss.loc[gss.cohort5<1894, 'cohort5'] = 1894.5"
   ]
  },
  {
   "cell_type": "code",
   "execution_count": null,
   "metadata": {},
   "outputs": [],
   "source": [
    "grouped_cohort = gss.groupby(['cohort5'])\n",
    "counts = grouped_cohort.gunlaw.count()\n",
    "counts"
   ]
  },
  {
   "cell_type": "code",
   "execution_count": null,
   "metadata": {},
   "outputs": [],
   "source": [
    "gss['cohort10'] = utils.RoundIntoBins(gss, 'cohort', 10)"
   ]
  },
  {
   "cell_type": "code",
   "execution_count": null,
   "metadata": {},
   "outputs": [],
   "source": [
    "grouped_cohort = gss.groupby(['cohort10'])\n",
    "counts = grouped_cohort.gunlaw.count()\n",
    "counts"
   ]
  },
  {
   "cell_type": "markdown",
   "metadata": {},
   "source": [
    "Here's the number of respondents in each year."
   ]
  },
  {
   "cell_type": "code",
   "execution_count": null,
   "metadata": {},
   "outputs": [],
   "source": [
    "utils.values(gss, 'year')"
   ]
  },
  {
   "cell_type": "markdown",
   "metadata": {},
   "source": [
    "Group into 4 year intervals, chosen to get 2014 and 2016 into the last bin."
   ]
  },
  {
   "cell_type": "code",
   "execution_count": null,
   "metadata": {},
   "outputs": [],
   "source": [
    "gss['year4'] = utils.RoundIntoBins(gss, 'year', 4, low=1970) + 1\n",
    "utils.values(gss, 'year4')"
   ]
  },
  {
   "cell_type": "markdown",
   "metadata": {},
   "source": [
    "Group people into 5 and 3-year age groups."
   ]
  },
  {
   "cell_type": "code",
   "execution_count": null,
   "metadata": {},
   "outputs": [],
   "source": [
    "gss['age5'] = utils.RoundIntoBins(gss, 'age', 5) + 2.5\n",
    "utils.values(gss, 'age5')"
   ]
  },
  {
   "cell_type": "code",
   "execution_count": null,
   "metadata": {},
   "outputs": [],
   "source": [
    "gss['age3'] = utils.RoundIntoBins(gss, 'age', 3, low=0) + 1.5\n",
    "utils.values(gss, 'age3')"
   ]
  },
  {
   "cell_type": "markdown",
   "metadata": {},
   "source": [
    "### Make booleans"
   ]
  },
  {
   "cell_type": "code",
   "execution_count": null,
   "metadata": {},
   "outputs": [],
   "source": [
    "def copy_nan(df, varname, newvar):\n",
    "    df.loc[df[varname].isnull(), newvar] = np.nan"
   ]
  },
  {
   "cell_type": "code",
   "execution_count": null,
   "metadata": {},
   "outputs": [],
   "source": [
    "def make_boolean(df, varname, values, newvar):\n",
    "    \"\"\"Make a boolean variable.\n",
    "    \n",
    "    df: DataFrame\n",
    "    varname: name of base variable\n",
    "    values: sequence of values for varname\n",
    "    newvar: name of new variable (recode)\n",
    "    \"\"\"\n",
    "    #assert numnull(df[varname]) == 0\n",
    "    df[newvar] = df[varname].isin(values)\n",
    "    copy_nan(df, varname, newvar)"
   ]
  },
  {
   "cell_type": "code",
   "execution_count": null,
   "metadata": {},
   "outputs": [],
   "source": [
    "def make_booleans(df):\n",
    "    df['cohort10'] = utils.RoundIntoBins(df, 'cohort', 10)\n",
    "    make_boolean(df, 'cohort10', [1920], 'twenties')\n",
    "    make_boolean(df, 'cohort10', [1930], 'thirties')\n",
    "    make_boolean(df, 'cohort10', [1940], 'forties')\n",
    "    make_boolean(df, 'cohort10', [1950], 'fifties')\n",
    "    make_boolean(df, 'cohort10', [1960], 'sixties')\n",
    "    make_boolean(df, 'cohort10', [1970], 'seventies')\n",
    "    make_boolean(df, 'cohort10', [1980], 'eighties')\n",
    "    make_boolean(df, 'cohort10', [1990], 'nineties')\n",
    "    make_boolean(df, 'gunlaw', [1.0], 'favor')\n",
    "    make_boolean(df, 'owngun', [1.0], 'gunhome')\n",
    "    make_boolean(df, 'gun', [1.0], 'threatened')\n",
    "    make_boolean(df, 'natcrime', [1.0], 'spendcrime')\n",
    "    make_boolean(df, 'income', [12], 'topincome')\n",
    "    make_boolean(df, 'income', [1,2,3,4,5,6,7,8], 'lowincome')\n",
    "    make_boolean(df, 'polviews', [1,2,3], 'liberal')\n",
    "    make_boolean(df, 'polviews', [4], 'moderate')\n",
    "    make_boolean(df, 'polviews', [6,7,8], 'conservative')\n",
    "    make_boolean(df, 'sex', [2], 'female')\n",
    "    make_boolean(df, 'hispanic', [2], 'ishisp')\n",
    "    make_boolean(df, 'race', [2], 'black')\n",
    "    make_boolean(df, 'race', [3], 'otherrace')\n",
    "    make_boolean(df, 'srcbelt', [1,2,5], 'urban')\n",
    "    make_boolean(df, 'srcbelt', [3,4], 'suburban')\n",
    "    make_boolean(df, 'srcbelt', [6], 'rural')\n",
    "\n",
    "    df['college'] = df['educ'] >= 13 \n",
    "    copy_nan(df, 'educ', 'college')\n",
    "    \n",
    "    per25 = df['realinc'].quantile(0.25)\n",
    "    df['lowrealinc'] = df['realinc'] <= per25 \n",
    "    copy_nan(df, 'realinc', 'lowrealinc')\n",
    "\n",
    "    per75 = df['realinc'].quantile(0.75)\n",
    "    df['highrealinc'] = df['realinc'] >= per75 \n",
    "    copy_nan(df, 'realinc', 'highrealinc')\n",
    "\n",
    "make_booleans(gss)"
   ]
  },
  {
   "cell_type": "markdown",
   "metadata": {},
   "source": [
    "### Resample"
   ]
  },
  {
   "cell_type": "code",
   "execution_count": null,
   "metadata": {},
   "outputs": [],
   "source": [
    "sample = utils.ResampleByYear(gss).copy()\n",
    "sample.shape"
   ]
  },
  {
   "cell_type": "code",
   "execution_count": null,
   "metadata": {},
   "outputs": [],
   "source": [
    "utils.values(sample, 'twenties')"
   ]
  },
  {
   "cell_type": "code",
   "execution_count": null,
   "metadata": {},
   "outputs": [],
   "source": [
    "utils.values(sample, 'thirties')"
   ]
  },
  {
   "cell_type": "code",
   "execution_count": null,
   "metadata": {},
   "outputs": [],
   "source": [
    "utils.values(sample, 'forties')"
   ]
  },
  {
   "cell_type": "code",
   "execution_count": null,
   "metadata": {},
   "outputs": [],
   "source": [
    "utils.values(sample, 'fifties')"
   ]
  },
  {
   "cell_type": "code",
   "execution_count": null,
   "metadata": {},
   "outputs": [],
   "source": [
    "utils.values(sample, 'sixties')"
   ]
  },
  {
   "cell_type": "code",
   "execution_count": null,
   "metadata": {},
   "outputs": [],
   "source": [
    "utils.values(sample, 'seventies')"
   ]
  },
  {
   "cell_type": "code",
   "execution_count": null,
   "metadata": {},
   "outputs": [],
   "source": [
    "utils.values(sample, 'eighties')"
   ]
  },
  {
   "cell_type": "code",
   "execution_count": null,
   "metadata": {},
   "outputs": [],
   "source": [
    "utils.values(sample, 'nineties')"
   ]
  },
  {
   "cell_type": "code",
   "execution_count": null,
   "metadata": {},
   "outputs": [],
   "source": [
    "utils.values(sample, 'favor')"
   ]
  },
  {
   "cell_type": "code",
   "execution_count": null,
   "metadata": {},
   "outputs": [],
   "source": [
    "utils.values(sample, 'gunhome')"
   ]
  },
  {
   "cell_type": "code",
   "execution_count": null,
   "metadata": {},
   "outputs": [],
   "source": [
    "utils.values(sample, 'threatened')"
   ]
  },
  {
   "cell_type": "code",
   "execution_count": null,
   "metadata": {},
   "outputs": [],
   "source": [
    "utils.values(sample, 'spendcrime')"
   ]
  },
  {
   "cell_type": "code",
   "execution_count": null,
   "metadata": {},
   "outputs": [],
   "source": [
    "utils.values(sample, 'topincome')"
   ]
  },
  {
   "cell_type": "code",
   "execution_count": null,
   "metadata": {
    "scrolled": false
   },
   "outputs": [],
   "source": [
    "utils.values(sample, 'lowincome')"
   ]
  },
  {
   "cell_type": "code",
   "execution_count": null,
   "metadata": {},
   "outputs": [],
   "source": [
    "utils.values(sample, 'lowrealinc')"
   ]
  },
  {
   "cell_type": "code",
   "execution_count": null,
   "metadata": {
    "scrolled": false
   },
   "outputs": [],
   "source": [
    "utils.values(sample, 'highrealinc')"
   ]
  },
  {
   "cell_type": "code",
   "execution_count": null,
   "metadata": {},
   "outputs": [],
   "source": [
    "utils.values(sample, 'liberal')"
   ]
  },
  {
   "cell_type": "code",
   "execution_count": null,
   "metadata": {},
   "outputs": [],
   "source": [
    "utils.values(sample, 'moderate')"
   ]
  },
  {
   "cell_type": "code",
   "execution_count": null,
   "metadata": {},
   "outputs": [],
   "source": [
    "utils.values(sample, 'conservative')"
   ]
  },
  {
   "cell_type": "code",
   "execution_count": null,
   "metadata": {},
   "outputs": [],
   "source": [
    "utils.values(sample, 'female')"
   ]
  },
  {
   "cell_type": "code",
   "execution_count": null,
   "metadata": {},
   "outputs": [],
   "source": [
    "utils.values(sample, 'ishisp')"
   ]
  },
  {
   "cell_type": "code",
   "execution_count": null,
   "metadata": {},
   "outputs": [],
   "source": [
    "utils.values(sample, 'black')"
   ]
  },
  {
   "cell_type": "code",
   "execution_count": null,
   "metadata": {},
   "outputs": [],
   "source": [
    "utils.values(sample, 'otherrace')"
   ]
  },
  {
   "cell_type": "code",
   "execution_count": null,
   "metadata": {},
   "outputs": [],
   "source": [
    "utils.values(sample, 'urban')"
   ]
  },
  {
   "cell_type": "code",
   "execution_count": null,
   "metadata": {},
   "outputs": [],
   "source": [
    "utils.values(sample, 'suburban')"
   ]
  },
  {
   "cell_type": "code",
   "execution_count": null,
   "metadata": {},
   "outputs": [],
   "source": [
    "utils.values(sample, 'rural')"
   ]
  },
  {
   "cell_type": "code",
   "execution_count": null,
   "metadata": {
    "scrolled": true
   },
   "outputs": [],
   "source": [
    "utils.values(sample, 'college')"
   ]
  },
  {
   "cell_type": "markdown",
   "metadata": {},
   "source": [
    "### Look at trends"
   ]
  },
  {
   "cell_type": "code",
   "execution_count": null,
   "metadata": {},
   "outputs": [],
   "source": [
    "def plot_series(grouped, varname, **options):\n",
    "    series = grouped[varname].mean() * 100\n",
    "    thinkplot.plot(series.dropna(), **options, label=varname)\n",
    "    thinkplot.config(xlabel='Year of survey', \n",
    "                     ylabel='Percent',\n",
    "                     xlim=[1971, 2017])"
   ]
  },
  {
   "cell_type": "code",
   "execution_count": null,
   "metadata": {},
   "outputs": [],
   "source": [
    "grouped_year4 = sample.groupby('year4')"
   ]
  },
  {
   "cell_type": "code",
   "execution_count": null,
   "metadata": {},
   "outputs": [],
   "source": [
    "plot_series(grouped_year4, 'nineties')\n",
    "plot_series(grouped_year4, 'eighties')\n",
    "plot_series(grouped_year4, 'seventies')\n",
    "plot_series(grouped_year4, 'sixties')\n",
    "plot_series(grouped_year4, 'fifties')"
   ]
  },
  {
   "cell_type": "code",
   "execution_count": null,
   "metadata": {},
   "outputs": [],
   "source": [
    "plot_series(grouped_year4, 'female')\n",
    "plot_series(grouped_year4, 'black')\n",
    "plot_series(grouped_year4, 'otherrace')\n",
    "plot_series(grouped_year4, 'ishisp')"
   ]
  },
  {
   "cell_type": "code",
   "execution_count": null,
   "metadata": {},
   "outputs": [],
   "source": [
    "plot_series(grouped_year4, 'liberal')\n",
    "plot_series(grouped_year4, 'conservative')"
   ]
  },
  {
   "cell_type": "code",
   "execution_count": null,
   "metadata": {},
   "outputs": [],
   "source": [
    "plot_series(grouped_year4, 'highrealinc')\n",
    "plot_series(grouped_year4, 'lowrealinc')"
   ]
  },
  {
   "cell_type": "code",
   "execution_count": null,
   "metadata": {},
   "outputs": [],
   "source": [
    "plot_series(grouped_year4, 'urban')\n",
    "plot_series(grouped_year4, 'rural')"
   ]
  },
  {
   "cell_type": "code",
   "execution_count": null,
   "metadata": {},
   "outputs": [],
   "source": [
    "plot_series(grouped_year4, 'college')\n",
    "plot_series(grouped_year4, 'threatened')\n",
    "plot_series(grouped_year4, 'gunhome')"
   ]
  },
  {
   "cell_type": "markdown",
   "metadata": {},
   "source": [
    "### Fill missing values"
   ]
  },
  {
   "cell_type": "code",
   "execution_count": null,
   "metadata": {},
   "outputs": [],
   "source": [
    "def fill_missing_column(df, colname):\n",
    "    \"\"\"Fills missing values of the given column.\n",
    "\n",
    "    df: DataFrame\n",
    "    colname: string\n",
    "    \"\"\"\n",
    "    null = df[df[colname].isnull()]\n",
    "\n",
    "    print(colname, len(null))\n",
    "\n",
    "    valid = df[colname].dropna()\n",
    "    fill = valid.sample(len(null), replace=True)\n",
    "    fill.index = null.index\n",
    "\n",
    "    df[colname].fillna(fill, inplace=True)"
   ]
  },
  {
   "cell_type": "code",
   "execution_count": null,
   "metadata": {},
   "outputs": [],
   "source": [
    "def fill_age(df):\n",
    "    \"\"\"Fills age based on year and cohort.\n",
    "    \n",
    "    df: DataFrame\n",
    "    \"\"\"\n",
    "    colname = 'age'\n",
    "    null = df[df[colname].isnull()]\n",
    "\n",
    "    print('age', len(null))\n",
    "    \n",
    "    fill = df.year - df.cohort\n",
    "\n",
    "    df[colname].fillna(fill, inplace=True)"
   ]
  },
  {
   "cell_type": "code",
   "execution_count": null,
   "metadata": {},
   "outputs": [],
   "source": [
    "def fill_all_missing(df):\n",
    "    varnames = ['year', 'cohort', 'owngun', 'gun', 'natcrime', 'income', 'realinc', 'educ',\n",
    "                'polviews', 'sex', 'race', 'hispanic', 'srcbelt']\n",
    "    for varname in varnames:\n",
    "        fill_missing_column(df, varname)\n",
    "    fill_age(df)"
   ]
  },
  {
   "cell_type": "code",
   "execution_count": null,
   "metadata": {},
   "outputs": [],
   "source": [
    "fill_all_missing(sample)"
   ]
  },
  {
   "cell_type": "markdown",
   "metadata": {},
   "source": [
    "After filling, we have to make booleans again."
   ]
  },
  {
   "cell_type": "code",
   "execution_count": null,
   "metadata": {},
   "outputs": [],
   "source": [
    "make_booleans(sample)"
   ]
  },
  {
   "cell_type": "markdown",
   "metadata": {},
   "source": [
    "### Center cohort, age, and year."
   ]
  },
  {
   "cell_type": "code",
   "execution_count": null,
   "metadata": {},
   "outputs": [],
   "source": [
    "def center_factors(df):\n",
    "    \"\"\"Center factors around their means.\n",
    "    \n",
    "    Add centered factors to make the coeffients\n",
    "    of the model easier to interpret.\n",
    "    \n",
    "    df: DataFrame\n",
    "    \"\"\"\n",
    "    df['ones'] = np.ones_like(df.cohort)\n",
    "    df['c'] = df.cohort - 1966\n",
    "    df['a'] = df.age - 47\n",
    "    df['y'] = df.year - 1990\n",
    "    \n",
    "    # also add quadratic factors and interaction term\n",
    "    df['c2'] = df.c**2\n",
    "    df['a2'] = df.a**2\n",
    "    df['y2'] = df.y**2\n",
    "    df['y3'] = df.y**3\n",
    "    df['ac'] = df.a * df.c"
   ]
  },
  {
   "cell_type": "code",
   "execution_count": null,
   "metadata": {},
   "outputs": [],
   "source": [
    "center_factors(sample)"
   ]
  },
  {
   "cell_type": "code",
   "execution_count": null,
   "metadata": {},
   "outputs": [],
   "source": []
  },
  {
   "cell_type": "markdown",
   "metadata": {},
   "source": [
    "### Run logistic models\n",
    "\n"
   ]
  },
  {
   "cell_type": "markdown",
   "metadata": {},
   "source": [
    "Drop records if we don't have the dependent variable."
   ]
  },
  {
   "cell_type": "code",
   "execution_count": null,
   "metadata": {},
   "outputs": [],
   "source": [
    "subset = sample.dropna(subset=['gunlaw'])\n",
    "subset.shape"
   ]
  },
  {
   "cell_type": "markdown",
   "metadata": {},
   "source": [
    "How many records did we lose?"
   ]
  },
  {
   "cell_type": "code",
   "execution_count": null,
   "metadata": {},
   "outputs": [],
   "source": [
    "sample.shape[0] - subset.shape[0]"
   ]
  },
  {
   "cell_type": "code",
   "execution_count": null,
   "metadata": {
    "scrolled": true
   },
   "outputs": [],
   "source": [
    "subset.head()"
   ]
  },
  {
   "cell_type": "code",
   "execution_count": null,
   "metadata": {},
   "outputs": [],
   "source": [
    "sample.columns"
   ]
  },
  {
   "cell_type": "code",
   "execution_count": null,
   "metadata": {},
   "outputs": [],
   "source": [
    "varnames = ['nineties', 'eighties', 'seventies', 'fifties', 'forties', 'thirties', 'twenties',\n",
    "            'female', 'black', 'otherrace', 'ishisp', 'conservative', 'liberal', 'lowrealinc', 'highrealinc',\n",
    "            'college', 'urban', 'rural', 'threatened', 'gunhome']\n",
    "\n",
    "all_varnames = varnames + ['y', 'y2', 'y3', 'favor']"
   ]
  },
  {
   "cell_type": "code",
   "execution_count": null,
   "metadata": {},
   "outputs": [],
   "source": [
    "for varname in varnames:\n",
    "    print(varname, sum(sample[varname].isnull()))"
   ]
  },
  {
   "cell_type": "markdown",
   "metadata": {},
   "source": [
    "Select just the columns we need"
   ]
  },
  {
   "cell_type": "code",
   "execution_count": null,
   "metadata": {},
   "outputs": [],
   "source": [
    "data = subset[all_varnames]\n",
    "data.shape"
   ]
  },
  {
   "cell_type": "code",
   "execution_count": null,
   "metadata": {},
   "outputs": [],
   "source": [
    "formula = ('favor ~ y + y2 + y3 + nineties + eighties + seventies + fifties + forties + thirties + twenties + '\n",
    "           'female + black + otherrace + ishisp + conservative + liberal + lowrealinc + highrealinc + ' \n",
    "           'college + urban + rural + threatened + gunhome')\n",
    "model = smf.logit(formula, data=data).fit()\n",
    "model.summary()"
   ]
  },
  {
   "cell_type": "markdown",
   "metadata": {},
   "source": [
    "Make a row for someone in 2016 with all booleans false."
   ]
  },
  {
   "cell_type": "code",
   "execution_count": null,
   "metadata": {
    "scrolled": false
   },
   "outputs": [],
   "source": [
    "def make_base():\n",
    "    y = 2016 - 1990\n",
    "    y2 = y**2\n",
    "    y3 = y**3\n",
    "\n",
    "    d = dict(y=y, y2=y2, y3=y3)\n",
    "    for varname in varnames:\n",
    "        d[varname] = 0\n",
    "\n",
    "    return pd.Series(d)\n",
    "\n",
    "base = make_base()\n",
    "base"
   ]
  },
  {
   "cell_type": "markdown",
   "metadata": {},
   "source": [
    "Make a DataFrame that contains one row for each case we want to consider."
   ]
  },
  {
   "cell_type": "code",
   "execution_count": null,
   "metadata": {},
   "outputs": [],
   "source": []
  },
  {
   "cell_type": "code",
   "execution_count": null,
   "metadata": {},
   "outputs": [],
   "source": [
    "def make_df_pred():\n",
    "    def add_yminus(df, varname, offset):\n",
    "        \"\"\"\n",
    "    \n",
    "        \"\"\"\n",
    "        df.loc[varname] = base\n",
    "        df.loc[varname, 'y'] += offset\n",
    "        df.loc[varname, 'y2'] = df.loc[varname, 'y']**2\n",
    "        df.loc[varname, 'y3'] = df.loc[varname, 'y']**3\n",
    "    \n",
    "    base = make_base()\n",
    "    df_pred = pd.DataFrame(columns=base.index, dtype=float)\n",
    "    #df_pred = pd.DataFrame(columns=sample.columns)\n",
    "    \n",
    "    df_pred.loc['base'] = base\n",
    "\n",
    "    for varname in varnames:\n",
    "        df_pred.loc[varname] = base\n",
    "        df_pred.loc[varname, varname] = 1\n",
    "    \n",
    "    add_yminus(df_pred, 'yminus10', -10)\n",
    "    add_yminus(df_pred, 'yminus20', -20)\n",
    "    add_yminus(df_pred, 'yminus30', -30)\n",
    "    add_yminus(df_pred, 'yminus40', -40)\n",
    "    \n",
    "    df_pred.loc['lowest combo'] = base\n",
    "    low_vars = ['gunhome', 'nineties', 'rural', \n",
    "                'conservative', 'lowrealinc', 'threatened']\n",
    "    df_pred.loc['lowest combo', low_vars] = 1\n",
    "    \n",
    "    df_pred.loc['highest combo'] = base\n",
    "    high_vars = ['female', 'otherrace', 'liberal', \n",
    "                'college', 'highrealinc']\n",
    "    df_pred.loc['highest combo', high_vars] = 1\n",
    "    \n",
    "    return df_pred\n",
    "    \n",
    "df_pred = make_df_pred()\n",
    "df_pred"
   ]
  },
  {
   "cell_type": "code",
   "execution_count": null,
   "metadata": {},
   "outputs": [],
   "source": [
    "pred = model.predict(df_pred) * 100\n",
    "pred"
   ]
  },
  {
   "cell_type": "code",
   "execution_count": null,
   "metadata": {},
   "outputs": [],
   "source": [
    "pred - pred['base']"
   ]
  },
  {
   "cell_type": "code",
   "execution_count": null,
   "metadata": {},
   "outputs": [],
   "source": [
    "def make_result(pred):\n",
    "    result = pd.DataFrame()\n",
    "    result['pred'] = pred\n",
    "    result['offset'] = pred - pred['base']\n",
    "    return result\n",
    "\n",
    "result = make_result(pred)\n",
    "result"
   ]
  },
  {
   "cell_type": "markdown",
   "metadata": {},
   "source": [
    "### Iterate"
   ]
  },
  {
   "cell_type": "code",
   "execution_count": null,
   "metadata": {},
   "outputs": [],
   "source": [
    "def run(iters=101):\n",
    "    gss = utils.ReadGss('gss_gun')\n",
    "    replace_invalid(gss)\n",
    "    \n",
    "    results = []\n",
    "    for i in range(iters):\n",
    "        sample = utils.ResampleByYear(gss).copy()\n",
    "        fill_all_missing(sample)\n",
    "        make_booleans(sample)\n",
    "        center_factors(sample)\n",
    "        data = sample.dropna(subset=['gunlaw'])\n",
    "    \n",
    "        model = smf.logit(formula, data=data).fit()\n",
    "\n",
    "        df_pred = make_df_pred()\n",
    "        pred = model.predict(df_pred) * 100\n",
    "        result = make_result(pred)\n",
    "        \n",
    "        results.append(result)\n",
    "    return results"
   ]
  },
  {
   "cell_type": "code",
   "execution_count": null,
   "metadata": {},
   "outputs": [],
   "source": [
    "results = run()"
   ]
  },
  {
   "cell_type": "code",
   "execution_count": null,
   "metadata": {},
   "outputs": [],
   "source": []
  },
  {
   "cell_type": "code",
   "execution_count": null,
   "metadata": {},
   "outputs": [],
   "source": [
    "preds = [result.pred for result in results]\n",
    "median, low, high = thinkstats2.PercentileRows(preds, [50, 5, 95])\n",
    "\n",
    "estimates = pd.DataFrame(index=result.index)\n",
    "estimates['low2.5'] = low\n",
    "estimates['median'] = median\n",
    "estimates['high97.5'] = high\n",
    "estimates.round(1)"
   ]
  },
  {
   "cell_type": "code",
   "execution_count": null,
   "metadata": {},
   "outputs": [],
   "source": [
    "lines = estimates.round(1).to_html().split('\\n')\n",
    "for line in lines:\n",
    "    print(line)"
   ]
  },
  {
   "cell_type": "code",
   "execution_count": null,
   "metadata": {},
   "outputs": [],
   "source": [
    "preds = [result.offset for result in results]\n",
    "median, low, high = thinkstats2.PercentileRows(preds, [50, 2.5, 97.5])\n",
    "\n",
    "offsets = pd.DataFrame(index=result.index)\n",
    "offsets['low2.5'] = low\n",
    "offsets['median'] = median\n",
    "offsets['high97.5'] = high\n",
    "offsets.sort_values('median').round(1)"
   ]
  },
  {
   "cell_type": "code",
   "execution_count": null,
   "metadata": {
    "scrolled": true
   },
   "outputs": [],
   "source": [
    "lines = offsets.sort_values('median').round(1).to_html().split('\\n')\n",
    "for line in lines:\n",
    "    print(line)"
   ]
  },
  {
   "cell_type": "code",
   "execution_count": null,
   "metadata": {},
   "outputs": [],
   "source": []
  },
  {
   "cell_type": "code",
   "execution_count": null,
   "metadata": {},
   "outputs": [],
   "source": []
  },
  {
   "cell_type": "markdown",
   "metadata": {},
   "source": [
    "### Retrodict trends"
   ]
  },
  {
   "cell_type": "code",
   "execution_count": null,
   "metadata": {},
   "outputs": [],
   "source": [
    "def predict_favor(df, model):\n",
    "    \"\"\"Predict the percentage of people who would favor struct gun laws.\n",
    "    \n",
    "    df: DataFrame\n",
    "    model: model\n",
    "    \n",
    "    return: percentage\n",
    "    \"\"\"\n",
    "    probs = model.predict(df)\n",
    "    bools = np.random.random(len(probs)) < probs\n",
    "    assert numnull(bools) == 0\n",
    "    return bools.dropna().mean() * 100"
   ]
  },
  {
   "cell_type": "markdown",
   "metadata": {},
   "source": []
  },
  {
   "cell_type": "code",
   "execution_count": null,
   "metadata": {},
   "outputs": [],
   "source": [
    "subset.favor.mean(), predict_favor(data, model)"
   ]
  },
  {
   "cell_type": "markdown",
   "metadata": {},
   "source": []
  },
  {
   "cell_type": "code",
   "execution_count": null,
   "metadata": {},
   "outputs": [],
   "source": [
    "sample.favor.mean(), predict_favor(sample, model)"
   ]
  },
  {
   "cell_type": "markdown",
   "metadata": {},
   "source": []
  },
  {
   "cell_type": "code",
   "execution_count": null,
   "metadata": {},
   "outputs": [],
   "source": [
    "grouped_year4 = sample.groupby('year')"
   ]
  },
  {
   "cell_type": "markdown",
   "metadata": {},
   "source": []
  },
  {
   "cell_type": "code",
   "execution_count": null,
   "metadata": {},
   "outputs": [],
   "source": [
    "for name, group in grouped_year4:\n",
    "    retro = predict_favor(group, model)\n",
    "    actual = group.favor.mean() * 100\n",
    "    print(name, len(group), actual, retro)"
   ]
  },
  {
   "cell_type": "markdown",
   "metadata": {},
   "source": []
  },
  {
   "cell_type": "code",
   "execution_count": null,
   "metadata": {},
   "outputs": [],
   "source": [
    "def make_result(sample, model):\n",
    "    actual = pd.Series([])\n",
    "    retro = pd.Series([])\n",
    "    grouped_year4 = sample.groupby('year')\n",
    "    for name, group in grouped_year4:\n",
    "        retro[name] = predict_favor(group, model)\n",
    "        actual[name] = group.favor.mean() * 100\n",
    "\n",
    "    result = pd.DataFrame()\n",
    "    result['actual'] = actual\n",
    "    result['retro'] = retro\n",
    "    result['residual'] = retro - actual\n",
    "    \n",
    "    return result"
   ]
  },
  {
   "cell_type": "code",
   "execution_count": null,
   "metadata": {},
   "outputs": [],
   "source": [
    "def plot_series(series, **options):\n",
    "    \"\"\"Plots Series objects.\n",
    "    \n",
    "    series: Series\n",
    "    \"\"\"\n",
    "    thinkplot.plot(series.dropna(), **options)"
   ]
  },
  {
   "cell_type": "code",
   "execution_count": null,
   "metadata": {},
   "outputs": [],
   "source": [
    "result = make_result(sample, model)"
   ]
  },
  {
   "cell_type": "code",
   "execution_count": null,
   "metadata": {},
   "outputs": [],
   "source": [
    "plot_series(result.actual)\n",
    "plot_series(result.retro)"
   ]
  },
  {
   "cell_type": "code",
   "execution_count": null,
   "metadata": {},
   "outputs": [],
   "source": [
    "plot_series(result.residual)"
   ]
  },
  {
   "cell_type": "code",
   "execution_count": null,
   "metadata": {},
   "outputs": [],
   "source": [
    "# TODO: take formula as a parameter\n",
    "\n",
    "def run(formula, iters=201):\n",
    "    gss = utils.ReadGss('gss_gun')\n",
    "    replace_invalid(gss)\n",
    "    \n",
    "    results = []\n",
    "    for i in range(iters):\n",
    "        sample = utils.ResampleByYear(gss).copy()\n",
    "        fill_all_missing(sample)\n",
    "        make_booleans(sample)\n",
    "        center_factors(sample)\n",
    "        data = sample.dropna(subset=['gunlaw'])\n",
    "    \n",
    "        model = smf.logit(formula, data=data).fit()\n",
    "\n",
    "        result = make_result(sample, model)\n",
    "        \n",
    "        results.append(result)\n",
    "    return results"
   ]
  },
  {
   "cell_type": "code",
   "execution_count": null,
   "metadata": {},
   "outputs": [],
   "source": [
    "formula = ('favor ~ y + y2 + y3 + nineties + eighties + seventies + fifties + forties + thirties + twenties + '\n",
    "           'female + black + otherrace + ishisp + conservative + liberal + lowrealinc + highrealinc + ' \n",
    "           'college + urban + rural + threatened + gunhome')\n",
    "#formula = ('favor ~ y + y2 + y3')\n",
    "results = run(formula)"
   ]
  },
  {
   "cell_type": "code",
   "execution_count": null,
   "metadata": {},
   "outputs": [],
   "source": [
    "def percentile_rows(series_seq, ps):\n",
    "    \"\"\"Computes percentiles from aligned series.\n",
    "    \n",
    "    series_seq: list of sequences\n",
    "    ps: cumulative probabilities\n",
    "    \n",
    "    returns: Series of x-values, NumPy array with selected rows\n",
    "    \"\"\"\n",
    "    df = pd.concat(series_seq, axis=1).dropna()\n",
    "    xs = df.index\n",
    "    array = df.values.transpose()\n",
    "    array = np.sort(array, axis=0)\n",
    "    nrows, ncols = array.shape\n",
    "    indices = (ps * nrows).astype(int)\n",
    "    rows = array[indices]\n",
    "    return xs, rows"
   ]
  },
  {
   "cell_type": "code",
   "execution_count": null,
   "metadata": {},
   "outputs": [],
   "source": [
    "def get_percentiles(results, varname, ps=None):\n",
    "    if ps is None:\n",
    "        ps = [0.05, 0.5, 0.95]\n",
    "    ps = np.asarray(ps)\n",
    "    series_seq = [result[varname] for result in results]\n",
    "    xs, rows = percentile_rows(series_seq, ps)\n",
    "    return xs, rows"
   ]
  },
  {
   "cell_type": "code",
   "execution_count": null,
   "metadata": {},
   "outputs": [],
   "source": [
    "def plot_percentiles(results, varname, color, label, plot=True, fill=True, alpha=0.2):\n",
    "    \"\"\"Plots 90% CI and median.\n",
    "    \n",
    "    results: list of DataFrames\n",
    "    varname: string variable names\n",
    "    color: string color\n",
    "    label: string label\n",
    "    plot: boolean, whether to plot the median\n",
    "    fill: boolean, whether to plot the CI\n",
    "    \"\"\"\n",
    "    xs, rows = get_percentiles(results, varname)\n",
    "    if fill:\n",
    "        thinkplot.fill_between(xs, rows[0], rows[2], color=color, alpha=alpha)\n",
    "    if plot:\n",
    "        thinkplot.plot(xs, rows[1], color=color, label=label)"
   ]
  },
  {
   "cell_type": "code",
   "execution_count": null,
   "metadata": {},
   "outputs": [],
   "source": [
    "plot_percentiles(results, 'actual', 'gray', 'actual')\n",
    "plot_percentiles(results, 'retro', RED, 'retro')"
   ]
  },
  {
   "cell_type": "code",
   "execution_count": null,
   "metadata": {},
   "outputs": [],
   "source": [
    "# TODO: remember how to draw hlines without specifying x1 and x2\n",
    "thinkplot.hlines(0, 1970, 2018)\n",
    "plot_percentiles(results, 'residual', RED, 'residual')"
   ]
  },
  {
   "cell_type": "code",
   "execution_count": null,
   "metadata": {},
   "outputs": [],
   "source": [
    "xs, rows = get_percentiles(results, 'residual')\n",
    "abs(rows[1]).mean()"
   ]
  },
  {
   "cell_type": "markdown",
   "metadata": {},
   "source": [
    "### Test counterfactual code"
   ]
  },
  {
   "cell_type": "code",
   "execution_count": null,
   "metadata": {},
   "outputs": [],
   "source": [
    "# may not need this any more, since sample is a copy\n",
    "counterfact = sample.copy()"
   ]
  },
  {
   "cell_type": "code",
   "execution_count": null,
   "metadata": {},
   "outputs": [],
   "source": [
    "def flip(df, varname, val, new_val, prob):\n",
    "    \"\"\"Changes the value of a variable for a random sample of rows.\n",
    "    \n",
    "    Selects each row where varname==val with probability prob, and\n",
    "    replaces val with new_val.\n",
    "    \n",
    "    df: DataFrame\n",
    "    varname: string\n",
    "    val: old value\n",
    "    new_val: new value\n",
    "    prob: probability of flipping\n",
    "    \"\"\"\n",
    "    assert(0 < prob < 1)\n",
    "    #print('flip', val, new_val, prob)\n",
    "    \n",
    "    # get indices of the rows that match val\n",
    "    indices = np.flatnonzero(df[varname] == val)\n",
    "    #print(len(indices) * prob)\n",
    "    \n",
    "    # flip a coin for each selected row\n",
    "    cond = np.random.random(len(indices)) < prob\n",
    "\n",
    "    # get indices of the rows that will flip\n",
    "    flippers = indices[cond]\n",
    "    #print(len(flippers))\n",
    "    #print((df.loc[flippers, varname] == val).mean())\n",
    "    \n",
    "    # assign the new val to the selected rows\n",
    "    labels = df.index[flippers]\n",
    "    df.loc[labels, varname] = new_val"
   ]
  },
  {
   "cell_type": "code",
   "execution_count": null,
   "metadata": {},
   "outputs": [],
   "source": [
    "counterfact.college.value_counts()"
   ]
  },
  {
   "cell_type": "code",
   "execution_count": null,
   "metadata": {},
   "outputs": [],
   "source": [
    "flip(counterfact, 'college', 1, 0, 0.1)"
   ]
  },
  {
   "cell_type": "code",
   "execution_count": null,
   "metadata": {},
   "outputs": [],
   "source": [
    "counterfact.college.value_counts()"
   ]
  },
  {
   "cell_type": "code",
   "execution_count": null,
   "metadata": {},
   "outputs": [],
   "source": [
    "def adjust_prob(df, varname, desired):\n",
    "    \"\"\"Flip enough people to make the mean of varname equal desired.\n",
    "\n",
    "    varname must be a 0,1 boolean\n",
    "\n",
    "    Can only reliably make small changes.\n",
    "\n",
    "    df: DataFrame\n",
    "    varname: string column name\n",
    "    desired: value between 0 and 1\n",
    "    \"\"\"\n",
    "    actual = df[varname].mean()\n",
    "    diff = desired - actual\n",
    "    #print(actual, diff)\n",
    "    if diff > 0:\n",
    "        prob = diff / (1-actual)\n",
    "        flip(df, varname, 0, 1, prob)\n",
    "    elif diff < 0:\n",
    "        prob = -diff / actual\n",
    "        flip(df, varname, 1, 0, prob)"
   ]
  },
  {
   "cell_type": "code",
   "execution_count": null,
   "metadata": {},
   "outputs": [],
   "source": [
    "counterfact.college.value_counts()"
   ]
  },
  {
   "cell_type": "code",
   "execution_count": null,
   "metadata": {},
   "outputs": [],
   "source": [
    "adjust_prob(counterfact, 'college', 0.9)"
   ]
  },
  {
   "cell_type": "code",
   "execution_count": null,
   "metadata": {},
   "outputs": [],
   "source": [
    "counterfact.college.value_counts()"
   ]
  },
  {
   "cell_type": "code",
   "execution_count": null,
   "metadata": {},
   "outputs": [],
   "source": [
    "counterfact.college.mean()"
   ]
  },
  {
   "cell_type": "code",
   "execution_count": null,
   "metadata": {},
   "outputs": [],
   "source": [
    "def make_counterfactual(grouped, varname, desired):\n",
    "    \"\"\"Modifies a groupby so the proportion of varname is constant.\n",
    "    \n",
    "    grouped: groupby object\n",
    "    varname: string column name\n",
    "    desired: value to level out at\n",
    "    \"\"\"\n",
    "    for name, group in grouped:\n",
    "        before = group[varname].mean() * 100\n",
    "        adjust_prob(group, varname, desired)\n",
    "        after = group[varname].mean() * 100\n",
    "\n",
    "        print(name, before, after)"
   ]
  },
  {
   "cell_type": "code",
   "execution_count": null,
   "metadata": {},
   "outputs": [],
   "source": [
    "counterfact = sample.copy()"
   ]
  },
  {
   "cell_type": "code",
   "execution_count": null,
   "metadata": {},
   "outputs": [],
   "source": [
    "grouped_year4 = counterfact.groupby('year')\n",
    "grouped_year4.black.mean()"
   ]
  },
  {
   "cell_type": "code",
   "execution_count": null,
   "metadata": {},
   "outputs": [],
   "source": [
    "prob = grouped_year4.black.mean()[1973]\n",
    "prob"
   ]
  },
  {
   "cell_type": "code",
   "execution_count": null,
   "metadata": {},
   "outputs": [],
   "source": [
    "make_counterfactual(grouped_year4, 'black', prob)"
   ]
  },
  {
   "cell_type": "code",
   "execution_count": null,
   "metadata": {},
   "outputs": [],
   "source": [
    "predict_favor(counterfact, model)"
   ]
  },
  {
   "cell_type": "code",
   "execution_count": null,
   "metadata": {},
   "outputs": [],
   "source": [
    "actual = pd.Series([])\n",
    "counter = pd.Series([])\n",
    "for name, group in grouped_year4:\n",
    "    counter[name] = predict_favor(group, model)\n",
    "    actual[name] = group.favor.mean() * 100\n",
    "\n",
    "thinkplot.plot(actual.index, actual)\n",
    "thinkplot.plot(retro.index, retro)\n",
    "thinkplot.plot(counter.index, counter)"
   ]
  },
  {
   "cell_type": "markdown",
   "metadata": {},
   "source": [
    "### Run counterfactuals"
   ]
  },
  {
   "cell_type": "code",
   "execution_count": null,
   "metadata": {},
   "outputs": [],
   "source": []
  },
  {
   "cell_type": "code",
   "execution_count": null,
   "metadata": {},
   "outputs": [],
   "source": []
  },
  {
   "cell_type": "code",
   "execution_count": null,
   "metadata": {},
   "outputs": [],
   "source": []
  },
  {
   "cell_type": "code",
   "execution_count": null,
   "metadata": {},
   "outputs": [],
   "source": []
  },
  {
   "cell_type": "code",
   "execution_count": null,
   "metadata": {},
   "outputs": [],
   "source": []
  },
  {
   "cell_type": "code",
   "execution_count": null,
   "metadata": {},
   "outputs": [],
   "source": []
  },
  {
   "cell_type": "code",
   "execution_count": null,
   "metadata": {},
   "outputs": [],
   "source": []
  },
  {
   "cell_type": "markdown",
   "metadata": {},
   "source": [
    "## Favor gunlaw"
   ]
  },
  {
   "cell_type": "code",
   "execution_count": null,
   "metadata": {},
   "outputs": [],
   "source": [
    "def make_series(grouped, varname):\n",
    "    \"\"\"Compute the percentage in each category.\n",
    "    \n",
    "    grouped: GroupBy object\n",
    "    varname: string column name\n",
    "    \n",
    "    returns:  Series\n",
    "    \"\"\"\n",
    "    return grouped[varname].mean() * 100"
   ]
  },
  {
   "cell_type": "code",
   "execution_count": null,
   "metadata": {},
   "outputs": [],
   "source": [
    "def plot_gunlaw(grouped):\n",
    "    \"\"\".\n",
    "    \n",
    "    grouped:\n",
    "    \"\"\"\n",
    "    varnames = ['favor']\n",
    "    colors = [BLUE]\n",
    "    labels = ['Favor']\n",
    "    series_seq = make_series_seq(grouped, varnames)\n",
    "    plot_series_seq(series_seq, colors, labels)"
   ]
  },
  {
   "cell_type": "markdown",
   "metadata": {},
   "source": [
    "Plot the percentage in each religious group as a function of survey year."
   ]
  },
  {
   "cell_type": "code",
   "execution_count": null,
   "metadata": {},
   "outputs": [],
   "source": [
    "grouped_year = sample.groupby('year')\n",
    "favor = make_series(grouped_year, 'favor')\n",
    "favor"
   ]
  },
  {
   "cell_type": "code",
   "execution_count": null,
   "metadata": {},
   "outputs": [],
   "source": [
    "plot_series(favor, color=BLUE, label='favor')\n",
    "thinkplot.config(xlabel='Year of survey', \n",
    "                 ylabel='Percent',\n",
    "                 xlim=[1971, 2017])"
   ]
  },
  {
   "cell_type": "code",
   "execution_count": null,
   "metadata": {},
   "outputs": [],
   "source": [
    "crime = make_series(grouped_year, 'crime')\n",
    "crime"
   ]
  },
  {
   "cell_type": "code",
   "execution_count": null,
   "metadata": {},
   "outputs": [],
   "source": [
    "plot_series(crime.loc[1984:], color=RED, label='crime')\n",
    "thinkplot.config(xlabel='Year of survey', \n",
    "                 ylabel='Percent',\n",
    "                 xlim=[1971, 2017])"
   ]
  },
  {
   "cell_type": "code",
   "execution_count": null,
   "metadata": {},
   "outputs": [],
   "source": [
    "plot_series(favor, color=BLUE, label='favor')\n",
    "plot_series(crime.loc[1984:], color=RED, label='crime')\n",
    "thinkplot.config(title='Support for gun control and concern about crime',\n",
    "                 xlabel='Year of survey', \n",
    "                 ylabel='Percent',\n",
    "                 xlim=[1971, 2017])"
   ]
  },
  {
   "cell_type": "code",
   "execution_count": null,
   "metadata": {},
   "outputs": [],
   "source": [
    "grouped_age = sample.groupby(['age_group'])"
   ]
  },
  {
   "cell_type": "code",
   "execution_count": null,
   "metadata": {},
   "outputs": [],
   "source": [
    "plot_gunlaw(grouped_age)\n",
    "thinkplot.config(xlabel='Age', ylabel='Percent')"
   ]
  },
  {
   "cell_type": "markdown",
   "metadata": {},
   "source": [
    "Plot the percentage in favor of gun permits as a function of birth cohort."
   ]
  },
  {
   "cell_type": "code",
   "execution_count": null,
   "metadata": {},
   "outputs": [],
   "source": [
    "grouped_cohort = sample.groupby(['cohort5'])"
   ]
  },
  {
   "cell_type": "code",
   "execution_count": null,
   "metadata": {},
   "outputs": [],
   "source": [
    "heri = pd.read_csv('heri_gun_control.csv')"
   ]
  },
  {
   "cell_type": "code",
   "execution_count": null,
   "metadata": {},
   "outputs": [],
   "source": [
    "heri.year"
   ]
  },
  {
   "cell_type": "code",
   "execution_count": null,
   "metadata": {},
   "outputs": [],
   "source": [
    "heri = pd.read_csv('heri_gun_control.csv')\n",
    "thinkplot.plot(heri.year, heri.agree, color=ORANGE)"
   ]
  },
  {
   "cell_type": "code",
   "execution_count": null,
   "metadata": {},
   "outputs": [],
   "source": [
    "plot_gunlaw(grouped_cohort)\n",
    "thinkplot.plot(heri.yearm18, heri.agree, color=ORANGE, label='CIRP')\n",
    "thinkplot.config(xlabel='Year of birth', ylabel='Percent')"
   ]
  },
  {
   "cell_type": "markdown",
   "metadata": {},
   "source": [
    "## Logistic models"
   ]
  },
  {
   "cell_type": "code",
   "execution_count": null,
   "metadata": {},
   "outputs": [],
   "source": [
    "def make_logit_model(df, var, factors):\n",
    "    \"\"\"Fit a logistic regression model.\n",
    "    \n",
    "    df: DataFrame\n",
    "    var: string name of dependent variable\n",
    "    factors: list of string names for factorscen\n",
    "    \n",
    "    returns: Logit model\n",
    "    \"\"\"\n",
    "    # TODO: investigate the missing=drop option\n",
    "    nonull = df.dropna(subset=factors+[var])\n",
    "    y = nonull[var].values\n",
    "    X = nonull[factors].values\n",
    "    return Logit(y, X).fit(disp=False, full_output=False)"
   ]
  },
  {
   "cell_type": "code",
   "execution_count": null,
   "metadata": {},
   "outputs": [],
   "source": [
    "factors = ['ones', 'a', 'c', 'a2', 'c2', 'ac']\n",
    "factors = ['a', 'a2', 'nineties', 'eighties', 'seventies',\n",
    "           'sixties', 'fifties', 'forties', 'thirties', 'twenties']\n",
    "model = make_logit_model(sample, 'favor', factors)"
   ]
  },
  {
   "cell_type": "code",
   "execution_count": null,
   "metadata": {},
   "outputs": [],
   "source": [
    "def predict_logit_model(age, model, year, factors):\n",
    "    \"\"\"Make a single-year prediction.\n",
    "    \n",
    "    age: Series of ages to simulate\n",
    "    model: Logit model\n",
    "    year: year to make a prediction for\n",
    "    factors: list of string names for factors\n",
    "    \n",
    "    returns: Series that maps index to percentage\n",
    "    \"\"\"\n",
    "    # resample the ages\n",
    "    n = len(age)\n",
    "    age = np.random.choice(age, n, replace=True)\n",
    "    \n",
    "    # compute cohort\n",
    "    cohort = year - age\n",
    "    df = pd.DataFrame(dict(cohort=cohort, age=age))\n",
    "    center_factors(df)\n",
    "    \n",
    "    # compute probabilities in each category for each respondent\n",
    "    X = df[factors].values\n",
    "    pred = model.predict(X)\n",
    "    \n",
    "    # toss a weighted coin for each respondent\n",
    "    choices = np.random.random(n) <= pred\n",
    "\n",
    "    # return the percentage in favor\n",
    "    return choices.mean() * 100"
   ]
  },
  {
   "cell_type": "code",
   "execution_count": null,
   "metadata": {},
   "outputs": [],
   "source": [
    "age = sample.loc[sample.year==2016, 'age']"
   ]
  },
  {
   "cell_type": "code",
   "execution_count": null,
   "metadata": {},
   "outputs": [],
   "source": [
    "predict_logit_model(age, model, 1976, factors)"
   ]
  },
  {
   "cell_type": "code",
   "execution_count": null,
   "metadata": {},
   "outputs": [],
   "source": [
    "predict_logit_model(age, model, 2016, factors)"
   ]
  },
  {
   "cell_type": "code",
   "execution_count": null,
   "metadata": {},
   "outputs": [],
   "source": [
    "predict_logit_model(age, model, 2026, factors)"
   ]
  },
  {
   "cell_type": "code",
   "execution_count": null,
   "metadata": {},
   "outputs": [],
   "source": [
    "predict_logit_model(age, model, 2036, factors)"
   ]
  },
  {
   "cell_type": "code",
   "execution_count": null,
   "metadata": {},
   "outputs": [],
   "source": [
    "def make_pred(df, var, varnames, years, factors):\n",
    "    \"\"\"Generate predictions from multinomial model.\n",
    "    \n",
    "    df: DataFrame of respondents\n",
    "    var: dependent variable\n",
    "    varnames: list of string variable names\n",
    "    years: sequence of years to generate predictions for\n",
    "    factors: list of string factor names for the model\n",
    "    \n",
    "    returns: DataFrame that maps from index to predicted values\n",
    "    \"\"\" \n",
    "    model = make_logit_model(df, var, factors)\n",
    "    age = df.loc[df.year==2016, 'age']\n",
    "\n",
    "    pred = pd.DataFrame(columns=varnames)\n",
    "    for year in years:\n",
    "        pred.loc[year] = predict_logit_model(age, model, year, factors)\n",
    "    return pred"
   ]
  },
  {
   "cell_type": "code",
   "execution_count": null,
   "metadata": {},
   "outputs": [],
   "source": [
    "def plot_pred(df, pred, varnames, colors, alpha=0.2):\n",
    "    \"\"\"Plots predictions from multinomial model.\n",
    "    \n",
    "    pred: DataFrame with one column per variable\n",
    "    varnames: list of string variable names\n",
    "    colors: list of string colors\n",
    "    alpha: numerical transparency\n",
    "    \"\"\"\n",
    "    series_seq = [pred[var] for var in varnames]\n",
    "    for series, color in zip(series_seq, colors):\n",
    "        thinkplot.plot(series, color=color, alpha=alpha)\n",
    "    thinkplot.config(xlabel='Year of survey', loc='upper right')"
   ]
  },
  {
   "cell_type": "code",
   "execution_count": null,
   "metadata": {},
   "outputs": [],
   "source": [
    "var = 'favor'\n",
    "varnames = ['favor']\n",
    "years = np.arange(1970, 2038)\n",
    "factors = ['ones', 'a', 'c']\n",
    "colors = [BLUE]\n",
    "\n",
    "pred = make_pred(sample, var, varnames, years, factors)\n",
    "plot_pred(sample, pred, varnames, colors)\n",
    "plot_gunlaw(grouped_year)\n",
    "thinkplot.config(xlim=[1971, 2038])"
   ]
  },
  {
   "cell_type": "code",
   "execution_count": null,
   "metadata": {},
   "outputs": [],
   "source": [
    "var = 'favor'\n",
    "varnames = ['favor']\n",
    "years = np.arange(1970, 2038)\n",
    "factors = ['ones', 'a', 'c', 'a2', 'c2', 'ac']\n",
    "index = ['favor']\n",
    "colors = [BLUE]\n",
    "\n",
    "pred = make_pred(sample, var, varnames, years, factors)\n",
    "plot_pred(sample, pred, varnames, colors)\n",
    "plot_gunlaw(grouped_year)\n",
    "thinkplot.config(xlim=[1971, 2038])"
   ]
  },
  {
   "cell_type": "code",
   "execution_count": null,
   "metadata": {},
   "outputs": [],
   "source": [
    "var = 'favor'\n",
    "varnames = ['favor']\n",
    "years = np.arange(1970, 2038)\n",
    "factors = ['a', 'a2', 'nineties', 'eighties', 'seventies',\n",
    "           'sixties', 'fifties', 'forties', 'thirties', 'twenties']\n",
    "index = ['favor']\n",
    "colors = [BLUE]\n",
    "\n",
    "pred = make_pred(sample, var, varnames, years, factors)\n",
    "plot_pred(sample, pred, varnames, colors)\n",
    "plot_gunlaw(grouped_year)\n",
    "thinkplot.config(xlim=[1971, 2038])"
   ]
  },
  {
   "cell_type": "markdown",
   "metadata": {},
   "source": [
    "## Resampling"
   ]
  },
  {
   "cell_type": "code",
   "execution_count": null,
   "metadata": {},
   "outputs": [],
   "source": [
    "def make_series_df(grouped, varnames):\n",
    "    \"\"\"Compute the percentage in each category.\n",
    "    \n",
    "    grouped: GroupBy object with one-hots for each category\n",
    "    varnames: list of string column names\n",
    "    \n",
    "    returns: DataFrame\n",
    "    \"\"\"\n",
    "    df = pd.DataFrame(columns=varnames)\n",
    "    for var in varnames:\n",
    "        df[var] = grouped[var].mean() * 100\n",
    "    return df"
   ]
  },
  {
   "cell_type": "code",
   "execution_count": null,
   "metadata": {},
   "outputs": [],
   "source": [
    "def plot_percentiles(dfs, varnames, colors, labels, plot=True, fill=True, alpha=0.2):\n",
    "    \"\"\"Plots 90% CI and median.\n",
    "    \n",
    "    dfs: list of DataFrames\n",
    "    varnames: list of string variable names\n",
    "    colors: list of string colors\n",
    "    labels: list of string labels\n",
    "    plot: boolean, whether to plot the median\n",
    "    fill: boolean, whether to plot the CI\n",
    "    \"\"\"\n",
    "    ps = np.array([0.05, 0.5, 0.95])\n",
    "\n",
    "    for var, color, label in zip(varnames, colors, labels):\n",
    "        series_seq = [df[var] for df in dfs]\n",
    "        xs, rows = percentile_rows(series_seq, ps)\n",
    "        if fill:\n",
    "            thinkplot.fill_between(xs, rows[0], rows[2], color=color, alpha=alpha)\n",
    "        if plot:\n",
    "            thinkplot.plot(xs, rows[1], color=color, label=label)"
   ]
  },
  {
   "cell_type": "code",
   "execution_count": null,
   "metadata": {},
   "outputs": [],
   "source": [
    "def run_data(df, groupvar, varnames, iters=11):\n",
    "    \"\"\"Resample and extract data.\n",
    "    \n",
    "    df: DataFrame\n",
    "    groupvar: string variable to group by\n",
    "    varnames: list of string variable names\n",
    "    iters: number of resamples\n",
    "    \"\"\"\n",
    "    def run():\n",
    "        sample = utils.ResampleByYear(df)\n",
    "        grouped_year = sample.groupby([groupvar])\n",
    "        return make_series_df(grouped_year, varnames)\n",
    "\n",
    "    dfs = [run() for _ in range(iters)]\n",
    "    return dfs"
   ]
  },
  {
   "cell_type": "code",
   "execution_count": null,
   "metadata": {},
   "outputs": [],
   "source": [
    "def run_model(df, var, varnames, years, iters=11):\n",
    "    \"\"\"Resample and make predictions.\n",
    "    \n",
    "    df: DataFrame\n",
    "    var: string variable name to model\n",
    "    varnames: list of string variable names\n",
    "    years: list of years to predict\n",
    "    iters: number of resamples\n",
    "    \n",
    "    returns: list of DataFrames\n",
    "    \"\"\"\n",
    "    factors = ['ones', 'a', 'c', 'a2', 'c2', 'ac']\n",
    "    factors = ['a', 'a2', 'nineties', 'eighties', 'seventies',\n",
    "               'sixties', 'fifties', 'forties', 'thirties', 'twenties']\n",
    "\n",
    "    def run():\n",
    "        sample = utils.ResampleByYear(df)\n",
    "        return make_pred(sample, var, varnames, years, factors)\n",
    "\n",
    "    dfs = [run() for _ in range(iters)]\n",
    "    return dfs"
   ]
  },
  {
   "cell_type": "markdown",
   "metadata": {},
   "source": [
    "## Favor gun permits"
   ]
  },
  {
   "cell_type": "code",
   "execution_count": null,
   "metadata": {},
   "outputs": [],
   "source": [
    "iters = 31"
   ]
  },
  {
   "cell_type": "code",
   "execution_count": null,
   "metadata": {},
   "outputs": [],
   "source": [
    "groupvar = 'year'\n",
    "varnames = ['favor']"
   ]
  },
  {
   "cell_type": "code",
   "execution_count": null,
   "metadata": {},
   "outputs": [],
   "source": [
    "dfs1 = run_data(gss, groupvar, varnames, iters=iters)"
   ]
  },
  {
   "cell_type": "code",
   "execution_count": null,
   "metadata": {},
   "outputs": [],
   "source": [
    "colors = [BLUE]\n",
    "labels = [None]\n",
    "plot_percentiles(dfs1, varnames, colors, labels)\n",
    "thinkplot.config(title='Favor gun control', \n",
    "                 xlabel='Year of survey', ylabel='Percent',\n",
    "                 xlim=[1971, 2017], ylim=[50, 90])\n",
    "\n",
    "save_options = dict(fmt='png', dpi=50)\n",
    "thinkplot.SaveFormat('favor_year', **save_options)"
   ]
  },
  {
   "cell_type": "code",
   "execution_count": null,
   "metadata": {},
   "outputs": [],
   "source": [
    "groupvar = 'cohort5'\n",
    "dfs2 = run_data(gss, groupvar, varnames, iters=iters)"
   ]
  },
  {
   "cell_type": "code",
   "execution_count": null,
   "metadata": {},
   "outputs": [],
   "source": [
    "plot_percentiles(dfs2, varnames, colors, labels=['GSS'])\n",
    "thinkplot.config(title='Favor gun control, by year of birth', \n",
    "                 xlabel='Year of birth', ylabel='Percent',\n",
    "                 xlim=[1892, 2000], ylim=[50, 90], loc='lower right')\n",
    "\n",
    "thinkplot.SaveFormat('favor_age', **save_options)"
   ]
  },
  {
   "cell_type": "code",
   "execution_count": null,
   "metadata": {},
   "outputs": [],
   "source": [
    "plot_percentiles(dfs2, varnames, colors, labels=['GSS'])\n",
    "\n",
    "# dropping the last data point because its a different question\n",
    "old = heri[heri.year<2016]\n",
    "thinkplot.plot(old.yearm18, old.agree, color=ORANGE, label='CIRP')\n",
    "\n",
    "thinkplot.config(title='Favor gun control, by year of birth', \n",
    "                 xlabel='Year of birth', ylabel='Percent',\n",
    "                 xlim=[1892, 2000], ylim=[50, 90], loc='lower right')\n",
    "\n",
    "thinkplot.SaveFormat('favor_age_cirp', **save_options)"
   ]
  },
  {
   "cell_type": "code",
   "execution_count": null,
   "metadata": {},
   "outputs": [],
   "source": [
    "var = 'favor'\n",
    "years = np.arange(1972, 2030)\n",
    "\n",
    "dfs3 = run_model(gss, var, varnames, years, iters=iters)"
   ]
  },
  {
   "cell_type": "code",
   "execution_count": null,
   "metadata": {
    "scrolled": false
   },
   "outputs": [],
   "source": [
    "nolabels= [None]\n",
    "plot_percentiles(dfs3, varnames, colors, nolabels, plot=False)\n",
    "plot_percentiles(dfs1, varnames, colors, labels, fill=False)\n",
    "thinkplot.config(title='Favor gun control, predicted', \n",
    "                 xlabel='Year of survey', ylabel='Percent',\n",
    "                 xlim=[1971, 2030], ylim=[50, 90])\n",
    "\n",
    "thinkplot.SaveFormat('favor_year_pred', **save_options)"
   ]
  },
  {
   "cell_type": "markdown",
   "metadata": {
    "collapsed": true
   },
   "source": [
    "## Breakdown by political view"
   ]
  },
  {
   "cell_type": "code",
   "execution_count": null,
   "metadata": {
    "scrolled": true
   },
   "outputs": [],
   "source": [
    "gss.polviews.value_counts()"
   ]
  },
  {
   "cell_type": "code",
   "execution_count": null,
   "metadata": {},
   "outputs": [],
   "source": [
    "liberal = gss[gss.liberal]\n",
    "liberal.shape"
   ]
  },
  {
   "cell_type": "code",
   "execution_count": null,
   "metadata": {},
   "outputs": [],
   "source": [
    "conservative = gss[gss.conservative]\n",
    "conservative.shape"
   ]
  },
  {
   "cell_type": "code",
   "execution_count": null,
   "metadata": {},
   "outputs": [],
   "source": [
    "moderate = gss[gss.moderate]\n",
    "moderate.shape"
   ]
  },
  {
   "cell_type": "code",
   "execution_count": null,
   "metadata": {},
   "outputs": [],
   "source": [
    "groupvar = 'cohort5'\n",
    "dfs_lib = run_data(liberal, groupvar, varnames, iters=iters)\n",
    "dfs_mod = run_data(moderate, groupvar, varnames, iters=iters)\n",
    "dfs_con = run_data(conservative, groupvar, varnames, iters=iters)"
   ]
  },
  {
   "cell_type": "code",
   "execution_count": null,
   "metadata": {
    "scrolled": false
   },
   "outputs": [],
   "source": [
    "plot_percentiles(dfs_lib, varnames, [BLUE], labels=['liberal'], alpha=0.1)\n",
    "plot_percentiles(dfs_mod, varnames, [PURPLE], labels=['moderate'], alpha=0.1)\n",
    "plot_percentiles(dfs_con, varnames, [RED], labels=['conservative'], alpha=0.1)\n",
    "thinkplot.config(title='Favor gun control, grouped by political view', \n",
    "                 xlabel='Year of birth', ylabel='Percent',\n",
    "                 xlim=[1892, 2000], ylim=[40, 100], loc='lower left')\n",
    "\n",
    "thinkplot.SaveFormat('favor_polview_year', **save_options)"
   ]
  },
  {
   "cell_type": "code",
   "execution_count": null,
   "metadata": {},
   "outputs": [],
   "source": [
    "groupvar = 'year'\n",
    "dfs_lib = run_data(liberal, groupvar, varnames, iters=iters)\n",
    "dfs_mod = run_data(moderate, groupvar, varnames, iters=iters)\n",
    "dfs_con = run_data(conservative, groupvar, varnames, iters=iters)"
   ]
  },
  {
   "cell_type": "code",
   "execution_count": null,
   "metadata": {
    "scrolled": false
   },
   "outputs": [],
   "source": [
    "plot_percentiles(dfs_lib, varnames, [BLUE], labels=['liberal'], alpha=0.1)\n",
    "plot_percentiles(dfs_mod, varnames, [PURPLE], labels=['moderate'], alpha=0.1)\n",
    "plot_percentiles(dfs_con, varnames, [RED], labels=['conservative'], alpha=0.1)\n",
    "thinkplot.config(title='Favor gun control, grouped by political view', \n",
    "                 xlabel='Year of survey', ylabel='Percent',\n",
    "                 xlim=[1972, 2017], ylim=[40, 100], loc='lower left')\n",
    "\n",
    "thinkplot.SaveFormat('favor_polview_year', **save_options)"
   ]
  },
  {
   "cell_type": "markdown",
   "metadata": {
    "collapsed": true
   },
   "source": [
    "## Breakdown by race"
   ]
  },
  {
   "cell_type": "code",
   "execution_count": null,
   "metadata": {
    "scrolled": true
   },
   "outputs": [],
   "source": [
    "gss.race.value_counts()"
   ]
  },
  {
   "cell_type": "code",
   "execution_count": null,
   "metadata": {},
   "outputs": [],
   "source": [
    "white = gss[gss.race == 1]\n",
    "white.shape"
   ]
  },
  {
   "cell_type": "code",
   "execution_count": null,
   "metadata": {},
   "outputs": [],
   "source": [
    "black = gss[gss.race == 2]\n",
    "black.shape"
   ]
  },
  {
   "cell_type": "code",
   "execution_count": null,
   "metadata": {
    "scrolled": true
   },
   "outputs": [],
   "source": [
    "nonwhite = gss[gss.race.isin([2,3])]\n",
    "nonwhite.shape"
   ]
  },
  {
   "cell_type": "code",
   "execution_count": null,
   "metadata": {},
   "outputs": [],
   "source": [
    "white.favor.mean(), black.favor.mean(), nonwhite.favor.mean()"
   ]
  },
  {
   "cell_type": "code",
   "execution_count": null,
   "metadata": {},
   "outputs": [],
   "source": [
    "liberal.favor.mean(), moderate.favor.mean(), conservative.favor.mean()"
   ]
  },
  {
   "cell_type": "code",
   "execution_count": null,
   "metadata": {},
   "outputs": [],
   "source": [
    "white.liberal.mean(), black.liberal.mean(), nonwhite.liberal.mean()"
   ]
  },
  {
   "cell_type": "code",
   "execution_count": null,
   "metadata": {},
   "outputs": [],
   "source": [
    "white.threatened.mean(), black.threatened.mean(), nonwhite.threatened.mean()"
   ]
  },
  {
   "cell_type": "code",
   "execution_count": null,
   "metadata": {},
   "outputs": [],
   "source": [
    "gss.groupby('threatened').favor.mean()"
   ]
  },
  {
   "cell_type": "code",
   "execution_count": null,
   "metadata": {},
   "outputs": [],
   "source": [
    "groupvar = 'year'\n",
    "varnames = ['favor']"
   ]
  },
  {
   "cell_type": "code",
   "execution_count": null,
   "metadata": {},
   "outputs": [],
   "source": [
    "dfs_white = run_data(white, groupvar, varnames, iters=iters)\n",
    "dfs_nonwhite = run_data(nonwhite, groupvar, varnames, iters=iters)"
   ]
  },
  {
   "cell_type": "code",
   "execution_count": null,
   "metadata": {},
   "outputs": [],
   "source": [
    "plot_percentiles(dfs_white, varnames, [BLUE], labels=['white'], alpha=0.1)\n",
    "plot_percentiles(dfs_nonwhite, varnames, [ORANGE], labels=['nonwhite'], alpha=0.1)\n",
    "thinkplot.config(title='Favor gun control, grouped by race', \n",
    "                 xlabel='Year of survey', ylabel='Percent',\n",
    "                 xlim=[1971, 2017], ylim=[40, 100], loc='lower left')\n",
    "\n",
    "thinkplot.SaveFormat('favor_race_year', **save_options)"
   ]
  },
  {
   "cell_type": "code",
   "execution_count": null,
   "metadata": {},
   "outputs": [],
   "source": [
    "young = gss[gss.age<30]\n",
    "young_white = young[young.race == 1]\n",
    "young_nonwhite = young[young.race.isin([2,3])]\n",
    "\n",
    "groupvar = 'year4'"
   ]
  },
  {
   "cell_type": "code",
   "execution_count": null,
   "metadata": {},
   "outputs": [],
   "source": [
    "dfs_white = run_data(young_white, groupvar, varnames, iters=iters)\n",
    "dfs_nonwhite = run_data(young_nonwhite, groupvar, varnames, iters=iters)"
   ]
  },
  {
   "cell_type": "code",
   "execution_count": null,
   "metadata": {},
   "outputs": [],
   "source": [
    "plot_percentiles(dfs_white, varnames, [BLUE], labels=['white'], alpha=0.1)\n",
    "plot_percentiles(dfs_nonwhite, varnames, [ORANGE], labels=['nonwhite'], alpha=0.1)\n",
    "thinkplot.config(title='Favor gun control, by year of survey', \n",
    "                 xlabel='Year of survey', ylabel='Percent',\n",
    "                 xlim=[1970, 2017], ylim=[40, 100], loc='lower left')\n",
    "\n",
    "#thinkplot.SaveFormat('permit_cohort_race', **save_options)"
   ]
  },
  {
   "cell_type": "code",
   "execution_count": null,
   "metadata": {},
   "outputs": [],
   "source": [
    "groupvar = 'cohort5'\n",
    "dfs_white = run_data(white, groupvar, varnames, iters=iters)\n",
    "dfs_nonwhite = run_data(nonwhite, groupvar, varnames, iters=iters)"
   ]
  },
  {
   "cell_type": "code",
   "execution_count": null,
   "metadata": {
    "scrolled": false
   },
   "outputs": [],
   "source": [
    "plot_percentiles(dfs_white, varnames, [BLUE], labels=['white'], alpha=0.1)\n",
    "plot_percentiles(dfs_nonwhite, varnames, [ORANGE], labels=['nonwhite'], alpha=0.1)\n",
    "thinkplot.config(title='Favor gun control, by year of birth', \n",
    "                 xlabel='Year of birth', ylabel='Percent',\n",
    "                 xlim=[1892, 2000], ylim=[40, 100], loc='lower left')\n",
    "\n",
    "thinkplot.SaveFormat('permit_cohort_race', **save_options)"
   ]
  },
  {
   "cell_type": "markdown",
   "metadata": {},
   "source": [
    "## Gun in home"
   ]
  },
  {
   "cell_type": "code",
   "execution_count": null,
   "metadata": {},
   "outputs": [],
   "source": [
    "groupvar = 'year'\n",
    "varnames = ['gunhome']"
   ]
  },
  {
   "cell_type": "code",
   "execution_count": null,
   "metadata": {},
   "outputs": [],
   "source": [
    "dfs4 = run_data(gss, groupvar, varnames, iters=iters)"
   ]
  },
  {
   "cell_type": "code",
   "execution_count": null,
   "metadata": {},
   "outputs": [],
   "source": [
    "colors = [RED]\n",
    "labels = [None]\n",
    "plot_percentiles(dfs4, varnames, colors, labels)\n",
    "thinkplot.config(title='Have gun in home, by year of survey', \n",
    "                 xlabel='Year of survey', ylabel='Percent',\n",
    "                 xlim=[1970, 2017], ylim=[0, 70])\n",
    "\n",
    "thinkplot.SaveFormat('gunhome_year', **save_options)"
   ]
  },
  {
   "cell_type": "code",
   "execution_count": null,
   "metadata": {},
   "outputs": [],
   "source": [
    "groupvar = 'cohort5'\n",
    "dfs5 = run_data(gss, groupvar, varnames, iters=iters)"
   ]
  },
  {
   "cell_type": "code",
   "execution_count": null,
   "metadata": {},
   "outputs": [],
   "source": [
    "plot_percentiles(dfs5, varnames, colors, labels)\n",
    "thinkplot.config(title='Have gun in home, by year of birth', \n",
    "                 xlabel='Year of birth', ylabel='Percent',\n",
    "                 xlim=[1884, 2000], ylim=[0, 70])\n",
    "\n",
    "thinkplot.SaveFormat('gunhome_cohort', **save_options)"
   ]
  },
  {
   "cell_type": "code",
   "execution_count": null,
   "metadata": {},
   "outputs": [],
   "source": [
    "var = 'gunhome'\n",
    "years = np.arange(1972, 2030)\n",
    "\n",
    "dfs6 = run_model(gss, var, varnames, years, iters=iters)"
   ]
  },
  {
   "cell_type": "code",
   "execution_count": null,
   "metadata": {
    "scrolled": false
   },
   "outputs": [],
   "source": [
    "nolabels= [None]\n",
    "plot_percentiles(dfs6, varnames, colors, nolabels, plot=False)\n",
    "plot_percentiles(dfs4, varnames, colors, labels, fill=False)\n",
    "thinkplot.config(title='Have gun in home, predicted', \n",
    "                 xlabel='Year of survey', ylabel='Percent',\n",
    "                 xlim=[1970, 2032], ylim=[0, 70])\n",
    "\n",
    "thinkplot.SaveFormat('gunhome_pred', **save_options)"
   ]
  },
  {
   "cell_type": "code",
   "execution_count": null,
   "metadata": {},
   "outputs": [],
   "source": [
    "heri = pd.read_csv('heri_gun_control.csv')"
   ]
  },
  {
   "cell_type": "code",
   "execution_count": null,
   "metadata": {},
   "outputs": [],
   "source": [
    "heri"
   ]
  },
  {
   "cell_type": "code",
   "execution_count": null,
   "metadata": {},
   "outputs": [],
   "source": [
    "old = heri[heri.year<2016]\n",
    "new = heri[heri.year>=2016]"
   ]
  },
  {
   "cell_type": "code",
   "execution_count": null,
   "metadata": {},
   "outputs": [],
   "source": [
    "thinkplot.plot(old.year, old.agree, color=ORANGE, label='\"Do more to control sale of handguns\"')\n",
    "thinkplot.plot(new.year, new.agree, 's', color=RED, label='\"Should have stricter gun control laws\"')\n",
    "\n",
    "thinkplot.config(title='Favor gun control, CIRP Freshman Survey', \n",
    "                 xlabel='Year of survey', ylabel='Percent',\n",
    "                 xlim=[1987, 2018], ylim=[60, 90], loc='lower left')\n",
    "\n",
    "thinkplot.SaveFormat('control_year_cirp', **save_options)"
   ]
  },
  {
   "cell_type": "markdown",
   "metadata": {},
   "source": [
    "## Age effect"
   ]
  },
  {
   "cell_type": "code",
   "execution_count": null,
   "metadata": {},
   "outputs": [],
   "source": [
    "sample.head()"
   ]
  },
  {
   "cell_type": "code",
   "execution_count": null,
   "metadata": {},
   "outputs": [],
   "source": [
    "grouped = sample.groupby('cohort10')\n",
    "for name, group in grouped:\n",
    "    print(name, len(group))"
   ]
  },
  {
   "cell_type": "code",
   "execution_count": null,
   "metadata": {},
   "outputs": [],
   "source": [
    "cohort = grouped.get_group(1950.0)"
   ]
  },
  {
   "cell_type": "code",
   "execution_count": null,
   "metadata": {},
   "outputs": [],
   "source": [
    "def plot_favor_by_age(cohort, **options):\n",
    "    age_groups = cohort.groupby('age3')\n",
    "    series = age_groups.favor.mean() * 100\n",
    "    thinkplot.plot(series.index, series.values, **options)"
   ]
  },
  {
   "cell_type": "code",
   "execution_count": null,
   "metadata": {},
   "outputs": [],
   "source": [
    "names = [1940.0, 1950.0, 1960.0, 1970.0, 1980.0, 1990.0]\n",
    "labels = ['40s', '50s', '60s', '70s', '80s', '90s']\n",
    "colors = [RED, ORANGE, YELLOW, GREEN, BLUE, PURPLE]\n",
    "\n",
    "for i, name in enumerate(names):\n",
    "    cohort = grouped.get_group(name)\n",
    "    plot_favor_by_age(cohort, label=labels[i], color=colors[i])\n",
    "    \n",
    "thinkplot.config(title='Favor gun control, grouped by decade of birth', \n",
    "                 xlabel='Age', ylabel='Percent',\n",
    "                 xlim=[15, 80], ylim=[40, 95], loc='lower right')\n",
    "\n",
    "thinkplot.SaveFormat('favor_birth_age', **save_options)"
   ]
  },
  {
   "cell_type": "code",
   "execution_count": null,
   "metadata": {},
   "outputs": [],
   "source": [
    "def plot_favor_by_year(cohort, **options):\n",
    "    age_groups = cohort.groupby('year4')\n",
    "    series = age_groups.favor.mean() * 100\n",
    "    thinkplot.plot(series.index, series.values, **options)"
   ]
  },
  {
   "cell_type": "code",
   "execution_count": null,
   "metadata": {},
   "outputs": [],
   "source": [
    "for i, name in enumerate(names):\n",
    "    cohort = grouped.get_group(name)\n",
    "    plot_favor_by_year(cohort, label=labels[i], color=colors[i])\n",
    "    \n",
    "thinkplot.config(title='Favor gun control, grouped by decade of birth', \n",
    "                 xlabel='Year of survey', ylabel='Percent',\n",
    "                 xlim=[1970, 2019], ylim=[40, 95], loc='lower left')\n",
    "\n",
    "thinkplot.SaveFormat('favor_birth_year', **save_options)"
   ]
  },
  {
   "cell_type": "code",
   "execution_count": null,
   "metadata": {},
   "outputs": [],
   "source": [
    "formula = 'favor ~ a + a2 + c + c2 + C(cohort10)'\n",
    "formula = 'favor ~ a + a2 + c + c2'\n",
    "formula = 'favor ~ a + nineties + eighties + seventies + sixties + fifties + forties + thirties + twenties'\n",
    "\n",
    "model = smf.logit(formula, data=sample).fit()\n",
    "model.summary()"
   ]
  },
  {
   "cell_type": "code",
   "execution_count": null,
   "metadata": {},
   "outputs": [],
   "source": [
    "def predict_favor_by_age(model, birth_year):\n",
    "    age = np.linspace(20, 65)\n",
    "    cohort = np.ones_like(age) * birth_year\n",
    "    new = pd.DataFrame(dict(age=age, cohort=cohort))\n",
    "    center_factors(new)\n",
    "    predicted = model_predict(model, new)\n",
    "    return predicted"
   ]
  },
  {
   "cell_type": "code",
   "execution_count": null,
   "metadata": {},
   "outputs": [],
   "source": [
    "def plot_predicted_by_age(predicted, **options):\n",
    "    thinkplot.plot(predicted.age, predicted.pred, **options)"
   ]
  },
  {
   "cell_type": "code",
   "execution_count": null,
   "metadata": {},
   "outputs": [],
   "source": [
    "name = 1950.0\n",
    "predicted = predict_favor_by_age(model, name)\n",
    "plot_predicted_by_age(predicted, color=RED, linewidth=20, alpha=0.1)\n",
    "\n",
    "cohort = grouped.get_group(name)\n",
    "plot_favor_by_age(cohort, label='50s', color=RED)"
   ]
  },
  {
   "cell_type": "code",
   "execution_count": null,
   "metadata": {},
   "outputs": [],
   "source": [
    "for i, name in enumerate(names):\n",
    "    predicted = predict_favor_by_age(model, name)\n",
    "    plot_predicted_by_age(predicted, color=colors[i], linewidth=5, alpha=0.2)\n",
    "    cohort = grouped.get_group(name)\n",
    "    plot_favor_by_age(cohort, label=labels[i], color=colors[i])\n",
    "    \n",
    "thinkplot.config(title='Favor gun control, by age', \n",
    "                 xlabel='Age', ylabel='Percent',\n",
    "                 xlim=[15, 70], ylim=[40, 95], loc='lower right')"
   ]
  },
  {
   "cell_type": "code",
   "execution_count": null,
   "metadata": {},
   "outputs": [],
   "source": []
  },
  {
   "cell_type": "code",
   "execution_count": null,
   "metadata": {},
   "outputs": [],
   "source": [
    "var = 'favor'\n",
    "years = np.arange(1972, 2030)\n",
    "\n",
    "dfs3 = run_model(gss, var, varnames, years, iters=iters)"
   ]
  },
  {
   "cell_type": "code",
   "execution_count": null,
   "metadata": {
    "scrolled": false
   },
   "outputs": [],
   "source": [
    "nolabels= [None]\n",
    "plot_percentiles(dfs3, varnames, colors, nolabels, plot=False)\n",
    "plot_percentiles(dfs1, varnames, colors, labels, fill=False)\n",
    "thinkplot.config(title='Favor gun control, predicted', \n",
    "                 xlabel='Year of survey', ylabel='Percent',\n",
    "                 xlim=[1971, 2030], ylim=[50, 90])\n",
    "\n",
    "thinkplot.SaveFormat('permit_pred', **save_options)"
   ]
  },
  {
   "cell_type": "code",
   "execution_count": null,
   "metadata": {},
   "outputs": [],
   "source": []
  },
  {
   "cell_type": "code",
   "execution_count": null,
   "metadata": {},
   "outputs": [],
   "source": []
  }
 ],
 "metadata": {
  "kernelspec": {
   "display_name": "Python 3",
   "language": "python",
   "name": "python3"
  },
  "language_info": {
   "codemirror_mode": {
    "name": "ipython",
    "version": 3
   },
   "file_extension": ".py",
   "mimetype": "text/x-python",
   "name": "python",
   "nbconvert_exporter": "python",
   "pygments_lexer": "ipython3",
   "version": "3.6.5"
  }
 },
 "nbformat": 4,
 "nbformat_minor": 1
}
