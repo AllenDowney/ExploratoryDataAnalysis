{
 "cells": [
  {
   "cell_type": "markdown",
   "metadata": {},
   "source": [
    "# EDS Case Study\n",
    "\n",
    "Exploring changes in outlook\n",
    "\n",
    "Allen Downey\n",
    "\n",
    "[MIT License](https://en.wikipedia.org/wiki/MIT_License)"
   ]
  },
  {
   "cell_type": "code",
   "execution_count": null,
   "metadata": {},
   "outputs": [],
   "source": [
    "# If we're running in Colab, set up the environment\n",
    "\n",
    "import sys\n",
    "IN_COLAB = 'google.colab' in sys.modules\n",
    "\n",
    "if IN_COLAB:\n",
    "    !pip install empiricaldist\n",
    "    !git clone --depth 1 https://github.com/AllenDowney/ExploratoryDataAnalysis\n",
    "    %cd ExploratoryDataAnalysis"
   ]
  },
  {
   "cell_type": "code",
   "execution_count": 1,
   "metadata": {},
   "outputs": [
    {
     "ename": "ImportError",
     "evalue": "cannot import name 'plot_series_lowess' from 'utils' (/home/downey/ExploratoryDataAnalysis/utils.py)",
     "output_type": "error",
     "traceback": [
      "\u001b[0;31m---------------------------------------------------------------------------\u001b[0m",
      "\u001b[0;31mImportError\u001b[0m                               Traceback (most recent call last)",
      "\u001b[0;32m<ipython-input-1-a1fa09ce7e35>\u001b[0m in \u001b[0;36m<module>\u001b[0;34m\u001b[0m\n\u001b[1;32m      5\u001b[0m \u001b[0;34m\u001b[0m\u001b[0m\n\u001b[1;32m      6\u001b[0m \u001b[0;32mfrom\u001b[0m \u001b[0mutils\u001b[0m \u001b[0;32mimport\u001b[0m \u001b[0mdecorate\u001b[0m\u001b[0;34m\u001b[0m\u001b[0;34m\u001b[0m\u001b[0m\n\u001b[0;32m----> 7\u001b[0;31m \u001b[0;32mfrom\u001b[0m \u001b[0mutils\u001b[0m \u001b[0;32mimport\u001b[0m \u001b[0mplot_series_lowess\u001b[0m\u001b[0;34m,\u001b[0m \u001b[0mplot_columns_lowess\u001b[0m\u001b[0;34m\u001b[0m\u001b[0;34m\u001b[0m\u001b[0m\n\u001b[0m",
      "\u001b[0;31mImportError\u001b[0m: cannot import name 'plot_series_lowess' from 'utils' (/home/downey/ExploratoryDataAnalysis/utils.py)"
     ]
    }
   ],
   "source": [
    "import pandas as pd\n",
    "import numpy as np\n",
    "import matplotlib.pyplot as plt\n",
    "import seaborn as sns\n",
    "\n",
    "from utils import decorate\n",
    "from utils import plot_series_lowess, plot_columns_lowess"
   ]
  },
  {
   "cell_type": "markdown",
   "metadata": {},
   "source": [
    "### Loading the GSS data"
   ]
  },
  {
   "cell_type": "code",
   "execution_count": null,
   "metadata": {},
   "outputs": [],
   "source": [
    "gss = pd.read_hdf('eds.gss.hdf5', 'gss0')\n",
    "gss.shape"
   ]
  },
  {
   "cell_type": "code",
   "execution_count": null,
   "metadata": {},
   "outputs": [],
   "source": [
    "def replace_invalid(df):\n",
    "\n",
    "    # recode so depends is in the middle    \n",
    "    d = {1:1, 2:0, 3:0.5}\n",
    "    df.trust.replace(d, inplace=True)\n",
    "    df.helpful.replace(d, inplace=True)\n",
    "    df.racpres.replace(d, inplace=True)\n",
    "    df.owngun.replace(d, inplace=True)\n",
    "    df.fepol.replace(d, inplace=True)\n",
    "    df.sexeduc.replace(d, inplace=True)\n",
    "\n",
    "    d = {1:0, 2:1, 3:0.5}\n",
    "    df.fair.replace(d, inplace=True)"
   ]
  },
  {
   "cell_type": "code",
   "execution_count": null,
   "metadata": {},
   "outputs": [],
   "source": [
    "muted = sns.color_palette('muted', 5)\n",
    "sns.palplot(muted)"
   ]
  },
  {
   "cell_type": "code",
   "execution_count": null,
   "metadata": {},
   "outputs": [],
   "source": [
    "colors = {'Conservative': muted[3], \n",
    "              'Moderate': muted[4], \n",
    "               'Liberal': muted[0]}"
   ]
  },
  {
   "cell_type": "markdown",
   "metadata": {},
   "source": [
    "### 3-point scale\n",
    "\n",
    "To make it easier to visualize groups, I'm going to lump the 7-point scale into a 3-point scale.\n",
    "\n",
    "With this scale, there are roughly the same number of people in each group."
   ]
  },
  {
   "cell_type": "code",
   "execution_count": null,
   "metadata": {},
   "outputs": [],
   "source": [
    "def make_polviews3(df):\n",
    "    \"\"\"Replace 7 point scale with 3 point scale.\n",
    "    \n",
    "    df: DataFrame\n",
    "    \"\"\"\n",
    "    d = {1:'Liberal', \n",
    "         2:'Liberal', \n",
    "         3:'Liberal', \n",
    "         4:'Moderate', \n",
    "         5:'Conservative', \n",
    "         6:'Conservative', \n",
    "         7:'Conservative'}\n",
    "    \n",
    "    df['polviews3'] = df.polviews.replace(d)\n",
    "    \n",
    "make_polviews3(gss)"
   ]
  },
  {
   "cell_type": "code",
   "execution_count": null,
   "metadata": {},
   "outputs": [],
   "source": [
    "def values(series):\n",
    "    return series.value_counts().sort_index()\n",
    "\n",
    "values(gss['polviews3'])"
   ]
  },
  {
   "cell_type": "markdown",
   "metadata": {},
   "source": [
    "## Fair\n",
    "\n",
    "Response to [this question](https://gssdataexplorer.norc.org/projects/52787/variables/440/vshow):\n",
    "\n",
    "Do you think most people would try to take advantage of you if they got a chance, or would they try to be fair?\n",
    "\n",
    "```\n",
    "1\tTake advantage\n",
    "2\tFair\n",
    "3\tDepends\n",
    "```\n"
   ]
  },
  {
   "cell_type": "code",
   "execution_count": null,
   "metadata": {},
   "outputs": [],
   "source": [
    "values(gss['fair'])"
   ]
  },
  {
   "cell_type": "code",
   "execution_count": null,
   "metadata": {},
   "outputs": [],
   "source": [
    "d = {1:0, 2:1, 3:0.5}\n",
    "gss['fair'].replace(d, inplace=True)\n",
    "values(gss['fair'])"
   ]
  },
  {
   "cell_type": "code",
   "execution_count": null,
   "metadata": {},
   "outputs": [],
   "source": [
    "def group_by_year(df, varname):\n",
    "    \"\"\"Group by year and compute mean of `varname`.\n",
    "    \n",
    "    df: DataFrame\n",
    "    varname: string variable name\n",
    "    \n",
    "    returns: Series\n",
    "    \"\"\"\n",
    "    grouped = df.groupby('year')\n",
    "    return grouped[varname].mean().dropna()"
   ]
  },
  {
   "cell_type": "code",
   "execution_count": null,
   "metadata": {},
   "outputs": [],
   "source": [
    "def decorate_by_year(**options):\n",
    "    \"\"\"Label the axes.\n",
    "    \n",
    "    options: keyword arguments passed to `decorate`.\n",
    "    \"\"\"\n",
    "    decorate(xlabel='Year',\n",
    "             ylabel='Fraction saying yes',\n",
    "             xlim=[1970, 2020],\n",
    "             **options)"
   ]
  },
  {
   "cell_type": "code",
   "execution_count": null,
   "metadata": {},
   "outputs": [],
   "source": [
    "mean_by_year = group_by_year(gss, 'fair')\n",
    "plot_series_lowess(mean_by_year, 'C1')\n",
    "\n",
    "title='Would most people try to be fair?'\n",
    "decorate_by_year(title=title)"
   ]
  },
  {
   "cell_type": "code",
   "execution_count": null,
   "metadata": {},
   "outputs": [],
   "source": [
    "def group_by_polviews(df, varname):\n",
    "    \"\"\"Group by polviews and year, and compute mean of varname.\n",
    "    \n",
    "    df: DataFrame\n",
    "    varname: string variable name\n",
    "    \n",
    "    returns: DataFrame\n",
    "    \"\"\"\n",
    "    grouped = df.groupby(['polviews3', 'year'])\n",
    "    return grouped[varname].mean().dropna().unstack(level=0)"
   ]
  },
  {
   "cell_type": "code",
   "execution_count": null,
   "metadata": {},
   "outputs": [],
   "source": [
    "mean_by_polviews = group_by_polviews(gss, 'fair')\n",
    "mean_by_polviews.head()"
   ]
  },
  {
   "cell_type": "code",
   "execution_count": null,
   "metadata": {},
   "outputs": [],
   "source": [
    "columns = ['Conservative', 'Liberal', 'Moderate']\n",
    "plot_columns_lowess(mean_by_polviews, columns, colors)\n",
    "decorate_by_year(title=title)"
   ]
  },
  {
   "cell_type": "markdown",
   "metadata": {},
   "source": [
    "## Trust\n",
    "\n",
    "Response to [this question](https://gssdataexplorer.norc.org/projects/52787/variables/441/vshow)\n",
    "\n",
    "> Generally speaking, would you say that most people can be trusted or that you can't be too careful in dealing with people?\n",
    "\n",
    "```\n",
    "1\tCan trust\n",
    "2\tCannot trust\n",
    "3\tDepends\n",
    "```"
   ]
  },
  {
   "cell_type": "code",
   "execution_count": null,
   "metadata": {},
   "outputs": [],
   "source": [
    "values(gss['trust'])"
   ]
  },
  {
   "cell_type": "code",
   "execution_count": null,
   "metadata": {},
   "outputs": [],
   "source": [
    "d = {1:1, 2:0, 3:0.5}\n",
    "gss['trust'].replace(d, inplace=True)\n",
    "values(gss['trust'])"
   ]
  },
  {
   "cell_type": "code",
   "execution_count": null,
   "metadata": {},
   "outputs": [],
   "source": [
    "mean_by_year = group_by_year(gss, 'trust')\n",
    "plot_series_lowess(mean_by_year, 'C1')\n",
    "\n",
    "title='Can most people be trusted?'\n",
    "decorate_by_year(title=title)"
   ]
  },
  {
   "cell_type": "code",
   "execution_count": null,
   "metadata": {},
   "outputs": [],
   "source": [
    "mean_by_polviews = group_by_polviews(gss, 'trust')\n",
    "mean_by_polviews.head()"
   ]
  },
  {
   "cell_type": "code",
   "execution_count": null,
   "metadata": {},
   "outputs": [],
   "source": [
    "columns = ['Conservative', 'Liberal', 'Moderate']\n",
    "plot_columns_lowess(mean_by_polviews, columns, colors)\n",
    "decorate_by_year(title=title)"
   ]
  },
  {
   "cell_type": "markdown",
   "metadata": {},
   "source": [
    "## Helpful\n",
    "\n",
    "Response to [this question](https://gssdataexplorer.norc.org/projects/52787/variables/439/vshow):\n",
    "\n",
    ">Would you say that most of the time people try to be helpful, or that they are mostly just looking out for themselves?\n",
    "\n",
    "```\n",
    "1\tHelpful\n",
    "2\tLookout for self\n",
    "3\tDepends\n",
    "```"
   ]
  },
  {
   "cell_type": "code",
   "execution_count": null,
   "metadata": {},
   "outputs": [],
   "source": [
    "values(gss['helpful'])"
   ]
  },
  {
   "cell_type": "code",
   "execution_count": null,
   "metadata": {},
   "outputs": [],
   "source": [
    "d = {1:1, 2:0, 3:0.5}\n",
    "gss['helpful'].replace(d, inplace=True)\n",
    "values(gss['helpful'])"
   ]
  },
  {
   "cell_type": "code",
   "execution_count": null,
   "metadata": {},
   "outputs": [],
   "source": [
    "mean_by_year = group_by_year(gss, 'helpful')\n",
    "plot_series_lowess(mean_by_year, 'C1')\n",
    "\n",
    "title='Do most people try to be helpful?'\n",
    "decorate_by_year(title=title)"
   ]
  },
  {
   "cell_type": "code",
   "execution_count": null,
   "metadata": {},
   "outputs": [],
   "source": [
    "mean_by_polviews = group_by_polviews(gss, 'helpful')\n",
    "mean_by_polviews.head()"
   ]
  },
  {
   "cell_type": "code",
   "execution_count": null,
   "metadata": {},
   "outputs": [],
   "source": [
    "columns = ['Conservative', 'Liberal', 'Moderate']\n",
    "plot_columns_lowess(mean_by_polviews, columns, colors)\n",
    "decorate_by_year(title=title)"
   ]
  },
  {
   "cell_type": "code",
   "execution_count": null,
   "metadata": {},
   "outputs": [],
   "source": []
  }
 ],
 "metadata": {
  "kernelspec": {
   "display_name": "Python 3",
   "language": "python",
   "name": "python3"
  },
  "language_info": {
   "codemirror_mode": {
    "name": "ipython",
    "version": 3
   },
   "file_extension": ".py",
   "mimetype": "text/x-python",
   "name": "python",
   "nbconvert_exporter": "python",
   "pygments_lexer": "ipython3",
   "version": "3.7.3"
  }
 },
 "nbformat": 4,
 "nbformat_minor": 1
}
