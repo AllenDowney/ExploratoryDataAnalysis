{
 "cells": [
  {
   "cell_type": "markdown",
   "metadata": {},
   "source": [
    "# Exploratory Data Analysis\n",
    "\n",
    "Chapter 3\n",
    "\n",
    "Allen Downey\n",
    "\n",
    "[MIT License](https://en.wikipedia.org/wiki/MIT_License)"
   ]
  },
  {
   "cell_type": "code",
   "execution_count": 1,
   "metadata": {},
   "outputs": [],
   "source": [
    "%matplotlib inline\n",
    "\n",
    "import pandas as pd\n",
    "import numpy as np\n",
    "\n",
    "import matplotlib.pyplot as plt\n",
    "import seaborn as sns\n",
    "sns.set(style='white')\n",
    "\n",
    "import utils\n",
    "from utils import decorate\n",
    "from distribution import Pmf, Cdf"
   ]
  },
  {
   "cell_type": "markdown",
   "metadata": {},
   "source": [
    "## Loading and validation\n"
   ]
  },
  {
   "cell_type": "code",
   "execution_count": 123,
   "metadata": {},
   "outputs": [],
   "source": [
    "url17 = 'https://www.cdc.gov/brfss/annual_data/2017/llcp_varlayout_17_onecolumn.html'\n",
    "url16 = 'https://www.cdc.gov/brfss/annual_data/2016/LLCP_VarLayout_16_OneColumn.html'\n",
    "\n",
    "filename16 = 'LLCP2016ASC.zip'\n",
    "filename17 = 'LLCP2017ASC.zip'\n",
    "\n",
    "tables = pd.read_html(url16)"
   ]
  },
  {
   "cell_type": "code",
   "execution_count": 124,
   "metadata": {},
   "outputs": [
    {
     "data": {
      "text/html": [
       "<div>\n",
       "<style scoped>\n",
       "    .dataframe tbody tr th:only-of-type {\n",
       "        vertical-align: middle;\n",
       "    }\n",
       "\n",
       "    .dataframe tbody tr th {\n",
       "        vertical-align: top;\n",
       "    }\n",
       "\n",
       "    .dataframe thead th {\n",
       "        text-align: right;\n",
       "    }\n",
       "</style>\n",
       "<table border=\"1\" class=\"dataframe\">\n",
       "  <thead>\n",
       "    <tr style=\"text-align: right;\">\n",
       "      <th></th>\n",
       "      <th>Starting Column</th>\n",
       "      <th>Variable Name</th>\n",
       "      <th>Field Length</th>\n",
       "    </tr>\n",
       "    <tr>\n",
       "      <th>Variable Name</th>\n",
       "      <th></th>\n",
       "      <th></th>\n",
       "      <th></th>\n",
       "    </tr>\n",
       "  </thead>\n",
       "  <tbody>\n",
       "    <tr>\n",
       "      <th>_STATE</th>\n",
       "      <td>1</td>\n",
       "      <td>_STATE</td>\n",
       "      <td>2</td>\n",
       "    </tr>\n",
       "    <tr>\n",
       "      <th>FMONTH</th>\n",
       "      <td>17</td>\n",
       "      <td>FMONTH</td>\n",
       "      <td>2</td>\n",
       "    </tr>\n",
       "    <tr>\n",
       "      <th>IDATE</th>\n",
       "      <td>19</td>\n",
       "      <td>IDATE</td>\n",
       "      <td>8</td>\n",
       "    </tr>\n",
       "    <tr>\n",
       "      <th>IMONTH</th>\n",
       "      <td>19</td>\n",
       "      <td>IMONTH</td>\n",
       "      <td>2</td>\n",
       "    </tr>\n",
       "    <tr>\n",
       "      <th>IDAY</th>\n",
       "      <td>21</td>\n",
       "      <td>IDAY</td>\n",
       "      <td>2</td>\n",
       "    </tr>\n",
       "    <tr>\n",
       "      <th>IYEAR</th>\n",
       "      <td>23</td>\n",
       "      <td>IYEAR</td>\n",
       "      <td>4</td>\n",
       "    </tr>\n",
       "    <tr>\n",
       "      <th>DISPCODE</th>\n",
       "      <td>32</td>\n",
       "      <td>DISPCODE</td>\n",
       "      <td>4</td>\n",
       "    </tr>\n",
       "    <tr>\n",
       "      <th>SEQNO</th>\n",
       "      <td>36</td>\n",
       "      <td>SEQNO</td>\n",
       "      <td>10</td>\n",
       "    </tr>\n",
       "    <tr>\n",
       "      <th>_PSU</th>\n",
       "      <td>36</td>\n",
       "      <td>_PSU</td>\n",
       "      <td>10</td>\n",
       "    </tr>\n",
       "    <tr>\n",
       "      <th>CTELENM1</th>\n",
       "      <td>63</td>\n",
       "      <td>CTELENM1</td>\n",
       "      <td>1</td>\n",
       "    </tr>\n",
       "    <tr>\n",
       "      <th>PVTRESD1</th>\n",
       "      <td>64</td>\n",
       "      <td>PVTRESD1</td>\n",
       "      <td>1</td>\n",
       "    </tr>\n",
       "    <tr>\n",
       "      <th>COLGHOUS</th>\n",
       "      <td>65</td>\n",
       "      <td>COLGHOUS</td>\n",
       "      <td>1</td>\n",
       "    </tr>\n",
       "    <tr>\n",
       "      <th>STATERES</th>\n",
       "      <td>66</td>\n",
       "      <td>STATERES</td>\n",
       "      <td>1</td>\n",
       "    </tr>\n",
       "    <tr>\n",
       "      <th>CELLFON4</th>\n",
       "      <td>67</td>\n",
       "      <td>CELLFON4</td>\n",
       "      <td>1</td>\n",
       "    </tr>\n",
       "    <tr>\n",
       "      <th>LADULT</th>\n",
       "      <td>68</td>\n",
       "      <td>LADULT</td>\n",
       "      <td>1</td>\n",
       "    </tr>\n",
       "    <tr>\n",
       "      <th>NUMADULT</th>\n",
       "      <td>69</td>\n",
       "      <td>NUMADULT</td>\n",
       "      <td>2</td>\n",
       "    </tr>\n",
       "    <tr>\n",
       "      <th>NUMMEN</th>\n",
       "      <td>71</td>\n",
       "      <td>NUMMEN</td>\n",
       "      <td>2</td>\n",
       "    </tr>\n",
       "    <tr>\n",
       "      <th>NUMWOMEN</th>\n",
       "      <td>73</td>\n",
       "      <td>NUMWOMEN</td>\n",
       "      <td>2</td>\n",
       "    </tr>\n",
       "    <tr>\n",
       "      <th>CTELNUM1</th>\n",
       "      <td>75</td>\n",
       "      <td>CTELNUM1</td>\n",
       "      <td>1</td>\n",
       "    </tr>\n",
       "    <tr>\n",
       "      <th>CELLFON5</th>\n",
       "      <td>76</td>\n",
       "      <td>CELLFON5</td>\n",
       "      <td>1</td>\n",
       "    </tr>\n",
       "    <tr>\n",
       "      <th>CADULT</th>\n",
       "      <td>77</td>\n",
       "      <td>CADULT</td>\n",
       "      <td>1</td>\n",
       "    </tr>\n",
       "    <tr>\n",
       "      <th>PVTRESD3</th>\n",
       "      <td>78</td>\n",
       "      <td>PVTRESD3</td>\n",
       "      <td>1</td>\n",
       "    </tr>\n",
       "    <tr>\n",
       "      <th>CCLGHOUS</th>\n",
       "      <td>79</td>\n",
       "      <td>CCLGHOUS</td>\n",
       "      <td>1</td>\n",
       "    </tr>\n",
       "    <tr>\n",
       "      <th>CSTATE1</th>\n",
       "      <td>80</td>\n",
       "      <td>CSTATE1</td>\n",
       "      <td>1</td>\n",
       "    </tr>\n",
       "    <tr>\n",
       "      <th>LANDLINE</th>\n",
       "      <td>83</td>\n",
       "      <td>LANDLINE</td>\n",
       "      <td>1</td>\n",
       "    </tr>\n",
       "    <tr>\n",
       "      <th>HHADULT</th>\n",
       "      <td>84</td>\n",
       "      <td>HHADULT</td>\n",
       "      <td>2</td>\n",
       "    </tr>\n",
       "    <tr>\n",
       "      <th>GENHLTH</th>\n",
       "      <td>90</td>\n",
       "      <td>GENHLTH</td>\n",
       "      <td>1</td>\n",
       "    </tr>\n",
       "    <tr>\n",
       "      <th>PHYSHLTH</th>\n",
       "      <td>91</td>\n",
       "      <td>PHYSHLTH</td>\n",
       "      <td>2</td>\n",
       "    </tr>\n",
       "    <tr>\n",
       "      <th>MENTHLTH</th>\n",
       "      <td>93</td>\n",
       "      <td>MENTHLTH</td>\n",
       "      <td>2</td>\n",
       "    </tr>\n",
       "    <tr>\n",
       "      <th>POORHLTH</th>\n",
       "      <td>95</td>\n",
       "      <td>POORHLTH</td>\n",
       "      <td>2</td>\n",
       "    </tr>\n",
       "    <tr>\n",
       "      <th>...</th>\n",
       "      <td>...</td>\n",
       "      <td>...</td>\n",
       "      <td>...</td>\n",
       "    </tr>\n",
       "    <tr>\n",
       "      <th>_BMI5CAT</th>\n",
       "      <td>1996</td>\n",
       "      <td>_BMI5CAT</td>\n",
       "      <td>1</td>\n",
       "    </tr>\n",
       "    <tr>\n",
       "      <th>_RFBMI5</th>\n",
       "      <td>1997</td>\n",
       "      <td>_RFBMI5</td>\n",
       "      <td>1</td>\n",
       "    </tr>\n",
       "    <tr>\n",
       "      <th>_CHLDCNT</th>\n",
       "      <td>1998</td>\n",
       "      <td>_CHLDCNT</td>\n",
       "      <td>1</td>\n",
       "    </tr>\n",
       "    <tr>\n",
       "      <th>_EDUCAG</th>\n",
       "      <td>1999</td>\n",
       "      <td>_EDUCAG</td>\n",
       "      <td>1</td>\n",
       "    </tr>\n",
       "    <tr>\n",
       "      <th>_INCOMG</th>\n",
       "      <td>2000</td>\n",
       "      <td>_INCOMG</td>\n",
       "      <td>1</td>\n",
       "    </tr>\n",
       "    <tr>\n",
       "      <th>_SMOKER3</th>\n",
       "      <td>2001</td>\n",
       "      <td>_SMOKER3</td>\n",
       "      <td>1</td>\n",
       "    </tr>\n",
       "    <tr>\n",
       "      <th>_RFSMOK3</th>\n",
       "      <td>2002</td>\n",
       "      <td>_RFSMOK3</td>\n",
       "      <td>1</td>\n",
       "    </tr>\n",
       "    <tr>\n",
       "      <th>_ECIGSTS</th>\n",
       "      <td>2003</td>\n",
       "      <td>_ECIGSTS</td>\n",
       "      <td>1</td>\n",
       "    </tr>\n",
       "    <tr>\n",
       "      <th>_CURECIG</th>\n",
       "      <td>2004</td>\n",
       "      <td>_CURECIG</td>\n",
       "      <td>1</td>\n",
       "    </tr>\n",
       "    <tr>\n",
       "      <th>DRNKANY5</th>\n",
       "      <td>2005</td>\n",
       "      <td>DRNKANY5</td>\n",
       "      <td>1</td>\n",
       "    </tr>\n",
       "    <tr>\n",
       "      <th>DROCDY3_</th>\n",
       "      <td>2006</td>\n",
       "      <td>DROCDY3_</td>\n",
       "      <td>3</td>\n",
       "    </tr>\n",
       "    <tr>\n",
       "      <th>_RFBING5</th>\n",
       "      <td>2009</td>\n",
       "      <td>_RFBING5</td>\n",
       "      <td>1</td>\n",
       "    </tr>\n",
       "    <tr>\n",
       "      <th>_DRNKWEK</th>\n",
       "      <td>2010</td>\n",
       "      <td>_DRNKWEK</td>\n",
       "      <td>5</td>\n",
       "    </tr>\n",
       "    <tr>\n",
       "      <th>_RFDRHV5</th>\n",
       "      <td>2015</td>\n",
       "      <td>_RFDRHV5</td>\n",
       "      <td>1</td>\n",
       "    </tr>\n",
       "    <tr>\n",
       "      <th>_FLSHOT6</th>\n",
       "      <td>2016</td>\n",
       "      <td>_FLSHOT6</td>\n",
       "      <td>1</td>\n",
       "    </tr>\n",
       "    <tr>\n",
       "      <th>_PNEUMO2</th>\n",
       "      <td>2017</td>\n",
       "      <td>_PNEUMO2</td>\n",
       "      <td>1</td>\n",
       "    </tr>\n",
       "    <tr>\n",
       "      <th>_RFSEAT2</th>\n",
       "      <td>2018</td>\n",
       "      <td>_RFSEAT2</td>\n",
       "      <td>1</td>\n",
       "    </tr>\n",
       "    <tr>\n",
       "      <th>_RFSEAT3</th>\n",
       "      <td>2019</td>\n",
       "      <td>_RFSEAT3</td>\n",
       "      <td>1</td>\n",
       "    </tr>\n",
       "    <tr>\n",
       "      <th>_DRNKDRV</th>\n",
       "      <td>2020</td>\n",
       "      <td>_DRNKDRV</td>\n",
       "      <td>1</td>\n",
       "    </tr>\n",
       "    <tr>\n",
       "      <th>_RFMAM2Y</th>\n",
       "      <td>2021</td>\n",
       "      <td>_RFMAM2Y</td>\n",
       "      <td>1</td>\n",
       "    </tr>\n",
       "    <tr>\n",
       "      <th>_MAM5021</th>\n",
       "      <td>2022</td>\n",
       "      <td>_MAM5021</td>\n",
       "      <td>1</td>\n",
       "    </tr>\n",
       "    <tr>\n",
       "      <th>_RFPAP33</th>\n",
       "      <td>2023</td>\n",
       "      <td>_RFPAP33</td>\n",
       "      <td>1</td>\n",
       "    </tr>\n",
       "    <tr>\n",
       "      <th>_RFPSA21</th>\n",
       "      <td>2024</td>\n",
       "      <td>_RFPSA21</td>\n",
       "      <td>1</td>\n",
       "    </tr>\n",
       "    <tr>\n",
       "      <th>_RFBLDS3</th>\n",
       "      <td>2025</td>\n",
       "      <td>_RFBLDS3</td>\n",
       "      <td>1</td>\n",
       "    </tr>\n",
       "    <tr>\n",
       "      <th>_COL10YR</th>\n",
       "      <td>2026</td>\n",
       "      <td>_COL10YR</td>\n",
       "      <td>1</td>\n",
       "    </tr>\n",
       "    <tr>\n",
       "      <th>_HFOB3YR</th>\n",
       "      <td>2027</td>\n",
       "      <td>_HFOB3YR</td>\n",
       "      <td>1</td>\n",
       "    </tr>\n",
       "    <tr>\n",
       "      <th>_FS5YR</th>\n",
       "      <td>2028</td>\n",
       "      <td>_FS5YR</td>\n",
       "      <td>1</td>\n",
       "    </tr>\n",
       "    <tr>\n",
       "      <th>_FOBTFS</th>\n",
       "      <td>2029</td>\n",
       "      <td>_FOBTFS</td>\n",
       "      <td>1</td>\n",
       "    </tr>\n",
       "    <tr>\n",
       "      <th>_CRCREC</th>\n",
       "      <td>2030</td>\n",
       "      <td>_CRCREC</td>\n",
       "      <td>1</td>\n",
       "    </tr>\n",
       "    <tr>\n",
       "      <th>_AIDTST3</th>\n",
       "      <td>2031</td>\n",
       "      <td>_AIDTST3</td>\n",
       "      <td>1</td>\n",
       "    </tr>\n",
       "  </tbody>\n",
       "</table>\n",
       "<p>275 rows × 3 columns</p>\n",
       "</div>"
      ],
      "text/plain": [
       "               Starting Column Variable Name  Field Length\n",
       "Variable Name                                             \n",
       "_STATE                       1        _STATE             2\n",
       "FMONTH                      17        FMONTH             2\n",
       "IDATE                       19         IDATE             8\n",
       "IMONTH                      19        IMONTH             2\n",
       "IDAY                        21          IDAY             2\n",
       "IYEAR                       23         IYEAR             4\n",
       "DISPCODE                    32      DISPCODE             4\n",
       "SEQNO                       36         SEQNO            10\n",
       "_PSU                        36          _PSU            10\n",
       "CTELENM1                    63      CTELENM1             1\n",
       "PVTRESD1                    64      PVTRESD1             1\n",
       "COLGHOUS                    65      COLGHOUS             1\n",
       "STATERES                    66      STATERES             1\n",
       "CELLFON4                    67      CELLFON4             1\n",
       "LADULT                      68        LADULT             1\n",
       "NUMADULT                    69      NUMADULT             2\n",
       "NUMMEN                      71        NUMMEN             2\n",
       "NUMWOMEN                    73      NUMWOMEN             2\n",
       "CTELNUM1                    75      CTELNUM1             1\n",
       "CELLFON5                    76      CELLFON5             1\n",
       "CADULT                      77        CADULT             1\n",
       "PVTRESD3                    78      PVTRESD3             1\n",
       "CCLGHOUS                    79      CCLGHOUS             1\n",
       "CSTATE1                     80       CSTATE1             1\n",
       "LANDLINE                    83      LANDLINE             1\n",
       "HHADULT                     84       HHADULT             2\n",
       "GENHLTH                     90       GENHLTH             1\n",
       "PHYSHLTH                    91      PHYSHLTH             2\n",
       "MENTHLTH                    93      MENTHLTH             2\n",
       "POORHLTH                    95      POORHLTH             2\n",
       "...                        ...           ...           ...\n",
       "_BMI5CAT                  1996      _BMI5CAT             1\n",
       "_RFBMI5                   1997       _RFBMI5             1\n",
       "_CHLDCNT                  1998      _CHLDCNT             1\n",
       "_EDUCAG                   1999       _EDUCAG             1\n",
       "_INCOMG                   2000       _INCOMG             1\n",
       "_SMOKER3                  2001      _SMOKER3             1\n",
       "_RFSMOK3                  2002      _RFSMOK3             1\n",
       "_ECIGSTS                  2003      _ECIGSTS             1\n",
       "_CURECIG                  2004      _CURECIG             1\n",
       "DRNKANY5                  2005      DRNKANY5             1\n",
       "DROCDY3_                  2006      DROCDY3_             3\n",
       "_RFBING5                  2009      _RFBING5             1\n",
       "_DRNKWEK                  2010      _DRNKWEK             5\n",
       "_RFDRHV5                  2015      _RFDRHV5             1\n",
       "_FLSHOT6                  2016      _FLSHOT6             1\n",
       "_PNEUMO2                  2017      _PNEUMO2             1\n",
       "_RFSEAT2                  2018      _RFSEAT2             1\n",
       "_RFSEAT3                  2019      _RFSEAT3             1\n",
       "_DRNKDRV                  2020      _DRNKDRV             1\n",
       "_RFMAM2Y                  2021      _RFMAM2Y             1\n",
       "_MAM5021                  2022      _MAM5021             1\n",
       "_RFPAP33                  2023      _RFPAP33             1\n",
       "_RFPSA21                  2024      _RFPSA21             1\n",
       "_RFBLDS3                  2025      _RFBLDS3             1\n",
       "_COL10YR                  2026      _COL10YR             1\n",
       "_HFOB3YR                  2027      _HFOB3YR             1\n",
       "_FS5YR                    2028        _FS5YR             1\n",
       "_FOBTFS                   2029       _FOBTFS             1\n",
       "_CRCREC                   2030       _CRCREC             1\n",
       "_AIDTST3                  2031      _AIDTST3             1\n",
       "\n",
       "[275 rows x 3 columns]"
      ]
     },
     "execution_count": 124,
     "metadata": {},
     "output_type": "execute_result"
    }
   ],
   "source": [
    "layout = tables[1]\n",
    "layout.index = layout['Variable Name']\n",
    "layout"
   ]
  },
  {
   "cell_type": "code",
   "execution_count": 125,
   "metadata": {},
   "outputs": [],
   "source": [
    "names = [ 'SEX', 'HTM4', 'WTKG3', 'INCOME2', '_LLCPWT' ]"
   ]
  },
  {
   "cell_type": "code",
   "execution_count": 126,
   "metadata": {},
   "outputs": [
    {
     "data": {
      "text/plain": [
       "[(119, 120), (1983, 1986), (1986, 1991), (174, 176), (1746, 1756)]"
      ]
     },
     "execution_count": 126,
     "metadata": {},
     "output_type": "execute_result"
    }
   ],
   "source": [
    "colspecs = []\n",
    "for name in names:\n",
    "    start, _, length = layout.loc[name]\n",
    "    colspecs.append((start-1, start+length-1))\n",
    "    \n",
    "colspecs"
   ]
  },
  {
   "cell_type": "code",
   "execution_count": 127,
   "metadata": {},
   "outputs": [],
   "source": [
    "names.append('AGE')\n",
    "colspecs.append((121,122))"
   ]
  },
  {
   "cell_type": "code",
   "execution_count": 128,
   "metadata": {},
   "outputs": [
    {
     "data": {
      "text/html": [
       "<div>\n",
       "<style scoped>\n",
       "    .dataframe tbody tr th:only-of-type {\n",
       "        vertical-align: middle;\n",
       "    }\n",
       "\n",
       "    .dataframe tbody tr th {\n",
       "        vertical-align: top;\n",
       "    }\n",
       "\n",
       "    .dataframe thead th {\n",
       "        text-align: right;\n",
       "    }\n",
       "</style>\n",
       "<table border=\"1\" class=\"dataframe\">\n",
       "  <thead>\n",
       "    <tr style=\"text-align: right;\">\n",
       "      <th></th>\n",
       "      <th>SEX</th>\n",
       "      <th>HTM4</th>\n",
       "      <th>WTKG3</th>\n",
       "      <th>INCOME2</th>\n",
       "      <th>_LLCPWT</th>\n",
       "      <th>AGE</th>\n",
       "    </tr>\n",
       "  </thead>\n",
       "  <tbody>\n",
       "    <tr>\n",
       "      <th>0</th>\n",
       "      <td>1</td>\n",
       "      <td>173.0</td>\n",
       "      <td>6123.0</td>\n",
       "      <td>5.0</td>\n",
       "      <td>767.844566</td>\n",
       "      <td>NaN</td>\n",
       "    </tr>\n",
       "    <tr>\n",
       "      <th>1</th>\n",
       "      <td>2</td>\n",
       "      <td>160.0</td>\n",
       "      <td>6940.0</td>\n",
       "      <td>7.0</td>\n",
       "      <td>329.659884</td>\n",
       "      <td>NaN</td>\n",
       "    </tr>\n",
       "    <tr>\n",
       "      <th>2</th>\n",
       "      <td>2</td>\n",
       "      <td>165.0</td>\n",
       "      <td>5443.0</td>\n",
       "      <td>7.0</td>\n",
       "      <td>290.749306</td>\n",
       "      <td>NaN</td>\n",
       "    </tr>\n",
       "    <tr>\n",
       "      <th>3</th>\n",
       "      <td>1</td>\n",
       "      <td>185.0</td>\n",
       "      <td>9979.0</td>\n",
       "      <td>7.0</td>\n",
       "      <td>211.039206</td>\n",
       "      <td>NaN</td>\n",
       "    </tr>\n",
       "    <tr>\n",
       "      <th>4</th>\n",
       "      <td>1</td>\n",
       "      <td>168.0</td>\n",
       "      <td>5670.0</td>\n",
       "      <td>77.0</td>\n",
       "      <td>1582.539830</td>\n",
       "      <td>NaN</td>\n",
       "    </tr>\n",
       "  </tbody>\n",
       "</table>\n",
       "</div>"
      ],
      "text/plain": [
       "   SEX   HTM4   WTKG3  INCOME2      _LLCPWT  AGE\n",
       "0    1  173.0  6123.0      5.0   767.844566  NaN\n",
       "1    2  160.0  6940.0      7.0   329.659884  NaN\n",
       "2    2  165.0  5443.0      7.0   290.749306  NaN\n",
       "3    1  185.0  9979.0      7.0   211.039206  NaN\n",
       "4    1  168.0  5670.0     77.0  1582.539830  NaN"
      ]
     },
     "execution_count": 128,
     "metadata": {},
     "output_type": "execute_result"
    }
   ],
   "source": [
    "brfss = pd.read_fwf(filename16,\n",
    "                    colspecs=colspecs, \n",
    "                    names=names,\n",
    "                    compression='zip',\n",
    "                    nrows=None)\n",
    "\n",
    "brfss.head()"
   ]
  },
  {
   "cell_type": "code",
   "execution_count": 7,
   "metadata": {},
   "outputs": [
    {
     "data": {
      "text/plain": [
       "(450016, 6)"
      ]
     },
     "execution_count": 7,
     "metadata": {},
     "output_type": "execute_result"
    }
   ],
   "source": [
    "brfss.shape"
   ]
  },
  {
   "cell_type": "code",
   "execution_count": 8,
   "metadata": {},
   "outputs": [
    {
     "data": {
      "text/plain": [
       "1    198725\n",
       "2    251007\n",
       "9       284\n",
       "Name: SEX, dtype: int64"
      ]
     },
     "execution_count": 8,
     "metadata": {},
     "output_type": "execute_result"
    }
   ],
   "source": [
    "brfss['SEX'].value_counts().sort_index()"
   ]
  },
  {
   "cell_type": "code",
   "execution_count": 9,
   "metadata": {},
   "outputs": [],
   "source": [
    "brfss['SEX'].replace([9], np.nan, inplace=True)"
   ]
  },
  {
   "cell_type": "code",
   "execution_count": 10,
   "metadata": {},
   "outputs": [
    {
     "data": {
      "text/plain": [
       "1.0      18346\n",
       "2.0      19334\n",
       "3.0      27735\n",
       "4.0      34222\n",
       "5.0      39751\n",
       "6.0      53148\n",
       "7.0      59632\n",
       "8.0     122763\n",
       "77.0     33328\n",
       "99.0     38426\n",
       "Name: INCOME2, dtype: int64"
      ]
     },
     "execution_count": 10,
     "metadata": {},
     "output_type": "execute_result"
    }
   ],
   "source": [
    "brfss['INCOME2'].value_counts().sort_index()"
   ]
  },
  {
   "cell_type": "code",
   "execution_count": 11,
   "metadata": {},
   "outputs": [],
   "source": [
    "brfss['INCOME2'].replace([77, 99], np.nan, inplace=True)"
   ]
  },
  {
   "cell_type": "code",
   "execution_count": 12,
   "metadata": {},
   "outputs": [
    {
     "data": {
      "text/plain": [
       "count    420145.000000\n",
       "mean         81.586719\n",
       "std          20.701024\n",
       "min          22.680000\n",
       "25%          67.590000\n",
       "50%          79.380000\n",
       "75%          91.630000\n",
       "max         275.000000\n",
       "Name: WTKG3, dtype: float64"
      ]
     },
     "execution_count": 12,
     "metadata": {},
     "output_type": "execute_result"
    }
   ],
   "source": [
    "brfss['WTKG3'] /= 100\n",
    "brfss['WTKG3'].describe()"
   ]
  },
  {
   "cell_type": "code",
   "execution_count": 13,
   "metadata": {},
   "outputs": [
    {
     "data": {
      "text/plain": [
       "202748    22.68\n",
       "218895    22.68\n",
       "246312    22.68\n",
       "420587    22.68\n",
       "446610    22.68\n",
       "385527    23.13\n",
       "99318     24.04\n",
       "299845    24.04\n",
       "173461    24.49\n",
       "112834    24.95\n",
       "Name: WTKG3, dtype: float64"
      ]
     },
     "execution_count": 13,
     "metadata": {},
     "output_type": "execute_result"
    }
   ],
   "source": [
    "weight = brfss['WTKG3']\n",
    "weight.nsmallest(10)"
   ]
  },
  {
   "cell_type": "code",
   "execution_count": 14,
   "metadata": {},
   "outputs": [
    {
     "data": {
      "text/plain": [
       "78560     275.00\n",
       "155453    273.97\n",
       "35729     272.61\n",
       "70531     272.16\n",
       "111021    272.16\n",
       "220908    272.16\n",
       "221451    272.16\n",
       "229302    272.16\n",
       "279941    272.16\n",
       "305983    272.16\n",
       "Name: WTKG3, dtype: float64"
      ]
     },
     "execution_count": 14,
     "metadata": {},
     "output_type": "execute_result"
    }
   ],
   "source": [
    "weight.nlargest(10)"
   ]
  },
  {
   "cell_type": "code",
   "execution_count": 15,
   "metadata": {},
   "outputs": [
    {
     "data": {
      "text/plain": [
       "18101     91.0\n",
       "28286     91.0\n",
       "126276    91.0\n",
       "270173    91.0\n",
       "351342    91.0\n",
       "363762    91.0\n",
       "368934    91.0\n",
       "385478    91.0\n",
       "384489    94.0\n",
       "269650    97.0\n",
       "Name: HTM4, dtype: float64"
      ]
     },
     "execution_count": 15,
     "metadata": {},
     "output_type": "execute_result"
    }
   ],
   "source": [
    "height = brfss['HTM4']\n",
    "height.nsmallest(10)"
   ]
  },
  {
   "cell_type": "code",
   "execution_count": 16,
   "metadata": {},
   "outputs": [
    {
     "data": {
      "text/plain": [
       "134893    236.0\n",
       "230559    231.0\n",
       "113037    226.0\n",
       "148519    226.0\n",
       "265919    226.0\n",
       "294762    226.0\n",
       "372189    226.0\n",
       "38054     224.0\n",
       "51866     224.0\n",
       "271351    224.0\n",
       "Name: HTM4, dtype: float64"
      ]
     },
     "execution_count": 16,
     "metadata": {},
     "output_type": "execute_result"
    }
   ],
   "source": [
    "height.nlargest(10)"
   ]
  },
  {
   "cell_type": "code",
   "execution_count": 17,
   "metadata": {},
   "outputs": [
    {
     "data": {
      "text/plain": [
       "count    433572.000000\n",
       "mean        169.821863\n",
       "std          10.614508\n",
       "min          91.000000\n",
       "25%         163.000000\n",
       "50%         170.000000\n",
       "75%         178.000000\n",
       "max         236.000000\n",
       "Name: HTM4, dtype: float64"
      ]
     },
     "execution_count": 17,
     "metadata": {},
     "output_type": "execute_result"
    }
   ],
   "source": [
    "brfss['HTM4'].describe()"
   ]
  },
  {
   "cell_type": "code",
   "execution_count": 18,
   "metadata": {},
   "outputs": [
    {
     "data": {
      "text/plain": [
       "count    450016.000000\n",
       "mean        568.098034\n",
       "std        1119.545360\n",
       "min           0.131624\n",
       "25%          91.499675\n",
       "50%         237.083009\n",
       "75%         592.876546\n",
       "max       45053.592700\n",
       "Name: _LLCPWT, dtype: float64"
      ]
     },
     "execution_count": 18,
     "metadata": {},
     "output_type": "execute_result"
    }
   ],
   "source": [
    "brfss['_LLCPWT'].describe()"
   ]
  },
  {
   "cell_type": "code",
   "execution_count": 19,
   "metadata": {},
   "outputs": [
    {
     "data": {
      "text/plain": [
       "count    450016.000000\n",
       "mean          7.747962\n",
       "std           3.557474\n",
       "min           1.000000\n",
       "25%           5.000000\n",
       "50%           8.000000\n",
       "75%          11.000000\n",
       "max          14.000000\n",
       "Name: _AGEG5YR, dtype: float64"
      ]
     },
     "execution_count": 19,
     "metadata": {},
     "output_type": "execute_result"
    }
   ],
   "source": [
    "brfss['_AGEG5YR'].describe()"
   ]
  },
  {
   "cell_type": "code",
   "execution_count": 20,
   "metadata": {},
   "outputs": [],
   "source": [
    "brfss['_AGEG5YR'].replace([14], np.nan, inplace=True)"
   ]
  },
  {
   "cell_type": "code",
   "execution_count": 21,
   "metadata": {},
   "outputs": [],
   "source": [
    "lower = np.arange(15, 85, 5)\n",
    "upper = lower + 4"
   ]
  },
  {
   "cell_type": "code",
   "execution_count": 22,
   "metadata": {},
   "outputs": [
    {
     "data": {
      "text/plain": [
       "0     15\n",
       "1     18\n",
       "2     25\n",
       "3     30\n",
       "4     35\n",
       "5     40\n",
       "6     45\n",
       "7     50\n",
       "8     55\n",
       "9     60\n",
       "10    65\n",
       "11    70\n",
       "12    75\n",
       "13    80\n",
       "dtype: int64"
      ]
     },
     "execution_count": 22,
     "metadata": {},
     "output_type": "execute_result"
    }
   ],
   "source": [
    "lower[1]= 18\n",
    "lower = pd.Series(lower, index=range(len(lower)))\n",
    "lower"
   ]
  },
  {
   "cell_type": "code",
   "execution_count": 23,
   "metadata": {},
   "outputs": [
    {
     "data": {
      "text/plain": [
       "0     19\n",
       "1     24\n",
       "2     29\n",
       "3     34\n",
       "4     39\n",
       "5     44\n",
       "6     49\n",
       "7     54\n",
       "8     59\n",
       "9     64\n",
       "10    69\n",
       "11    74\n",
       "12    79\n",
       "13    99\n",
       "dtype: int64"
      ]
     },
     "execution_count": 23,
     "metadata": {},
     "output_type": "execute_result"
    }
   ],
   "source": [
    "upper[-1] = 99\n",
    "upper = pd.Series(upper, index=range(len(upper)))\n",
    "upper"
   ]
  },
  {
   "cell_type": "code",
   "execution_count": 24,
   "metadata": {},
   "outputs": [
    {
     "data": {
      "text/plain": [
       "count    443915.000000\n",
       "mean          7.662037\n",
       "std           3.504991\n",
       "min           1.000000\n",
       "25%           5.000000\n",
       "50%           8.000000\n",
       "75%          10.000000\n",
       "max          13.000000\n",
       "Name: _AGEG5YR, dtype: float64"
      ]
     },
     "execution_count": 24,
     "metadata": {},
     "output_type": "execute_result"
    }
   ],
   "source": [
    "age_code = brfss['_AGEG5YR']\n",
    "age_code.describe()"
   ]
  },
  {
   "cell_type": "code",
   "execution_count": 25,
   "metadata": {},
   "outputs": [],
   "source": [
    "np.random.seed(17)\n",
    "sample = utils.resample_rows_weighted(brfss, '_LLCPWT')[:100000]"
   ]
  },
  {
   "cell_type": "code",
   "execution_count": 26,
   "metadata": {},
   "outputs": [],
   "source": [
    "lower = np.arange(15, 85, 5)\n",
    "upper = lower + 4"
   ]
  },
  {
   "cell_type": "code",
   "execution_count": 27,
   "metadata": {},
   "outputs": [
    {
     "data": {
      "text/plain": [
       "0     15\n",
       "1     18\n",
       "2     25\n",
       "3     30\n",
       "4     35\n",
       "5     40\n",
       "6     45\n",
       "7     50\n",
       "8     55\n",
       "9     60\n",
       "10    65\n",
       "11    70\n",
       "12    75\n",
       "13    80\n",
       "dtype: int64"
      ]
     },
     "execution_count": 27,
     "metadata": {},
     "output_type": "execute_result"
    }
   ],
   "source": [
    "lower[1]= 18\n",
    "lower = pd.Series(lower, index=range(len(lower)))\n",
    "lower"
   ]
  },
  {
   "cell_type": "code",
   "execution_count": 28,
   "metadata": {},
   "outputs": [
    {
     "data": {
      "text/plain": [
       "0     19\n",
       "1     24\n",
       "2     29\n",
       "3     34\n",
       "4     39\n",
       "5     44\n",
       "6     49\n",
       "7     54\n",
       "8     59\n",
       "9     64\n",
       "10    69\n",
       "11    74\n",
       "12    79\n",
       "13    99\n",
       "dtype: int64"
      ]
     },
     "execution_count": 28,
     "metadata": {},
     "output_type": "execute_result"
    }
   ],
   "source": [
    "upper[-1] = 99\n",
    "upper = pd.Series(upper, index=range(len(upper)))\n",
    "upper"
   ]
  },
  {
   "cell_type": "code",
   "execution_count": 29,
   "metadata": {},
   "outputs": [],
   "source": [
    "age_code = sample['_AGEG5YR']"
   ]
  },
  {
   "cell_type": "code",
   "execution_count": 30,
   "metadata": {},
   "outputs": [
    {
     "data": {
      "text/plain": [
       "count    98794.000000\n",
       "mean        45.262091\n",
       "std         18.377265\n",
       "min         18.000000\n",
       "25%         30.000000\n",
       "50%         45.000000\n",
       "75%         60.000000\n",
       "max         80.000000\n",
       "dtype: float64"
      ]
     },
     "execution_count": 30,
     "metadata": {},
     "output_type": "execute_result"
    }
   ],
   "source": [
    "lower = lower[age_code]\n",
    "lower.describe()"
   ]
  },
  {
   "cell_type": "code",
   "execution_count": 31,
   "metadata": {},
   "outputs": [
    {
     "data": {
      "text/plain": [
       "count    98794.000000\n",
       "mean        50.179373\n",
       "std         19.481271\n",
       "min         24.000000\n",
       "25%         34.000000\n",
       "50%         49.000000\n",
       "75%         64.000000\n",
       "max         99.000000\n",
       "dtype: float64"
      ]
     },
     "execution_count": 31,
     "metadata": {},
     "output_type": "execute_result"
    }
   ],
   "source": [
    "upper = upper[age_code]\n",
    "upper.describe()"
   ]
  },
  {
   "cell_type": "code",
   "execution_count": 32,
   "metadata": {},
   "outputs": [],
   "source": [
    "def randint(lower, upper):\n",
    "    for low, high in zip(lower, upper+1):\n",
    "        try:\n",
    "            yield np.random.randint(low, high)\n",
    "        except ValueError:\n",
    "            yield np.nan"
   ]
  },
  {
   "cell_type": "code",
   "execution_count": 33,
   "metadata": {},
   "outputs": [],
   "source": [
    "sample['AGE'] = list(randint(lower, upper))"
   ]
  },
  {
   "cell_type": "code",
   "execution_count": 34,
   "metadata": {},
   "outputs": [
    {
     "data": {
      "text/plain": [
       "count    98794.000000\n",
       "mean        47.726249\n",
       "std         18.976257\n",
       "min         18.000000\n",
       "25%         32.000000\n",
       "50%         47.000000\n",
       "75%         62.000000\n",
       "max         99.000000\n",
       "Name: AGE, dtype: float64"
      ]
     },
     "execution_count": 34,
     "metadata": {},
     "output_type": "execute_result"
    }
   ],
   "source": [
    "sample['AGE'].describe()"
   ]
  },
  {
   "cell_type": "code",
   "execution_count": null,
   "metadata": {},
   "outputs": [],
   "source": []
  },
  {
   "cell_type": "code",
   "execution_count": 35,
   "metadata": {},
   "outputs": [
    {
     "data": {
      "text/html": [
       "<div>\n",
       "<style scoped>\n",
       "    .dataframe tbody tr th:only-of-type {\n",
       "        vertical-align: middle;\n",
       "    }\n",
       "\n",
       "    .dataframe tbody tr th {\n",
       "        vertical-align: top;\n",
       "    }\n",
       "\n",
       "    .dataframe thead th {\n",
       "        text-align: right;\n",
       "    }\n",
       "</style>\n",
       "<table border=\"1\" class=\"dataframe\">\n",
       "  <thead>\n",
       "    <tr style=\"text-align: right;\">\n",
       "      <th></th>\n",
       "      <th>SEX</th>\n",
       "      <th>HTM4</th>\n",
       "      <th>WTKG3</th>\n",
       "      <th>INCOME2</th>\n",
       "      <th>_LLCPWT</th>\n",
       "      <th>_AGEG5YR</th>\n",
       "      <th>AGE</th>\n",
       "    </tr>\n",
       "  </thead>\n",
       "  <tbody>\n",
       "    <tr>\n",
       "      <th>96230</th>\n",
       "      <td>2.0</td>\n",
       "      <td>160.0</td>\n",
       "      <td>60.33</td>\n",
       "      <td>8.0</td>\n",
       "      <td>1398.525290</td>\n",
       "      <td>6.0</td>\n",
       "      <td>46.0</td>\n",
       "    </tr>\n",
       "    <tr>\n",
       "      <th>244920</th>\n",
       "      <td>2.0</td>\n",
       "      <td>163.0</td>\n",
       "      <td>58.97</td>\n",
       "      <td>5.0</td>\n",
       "      <td>84.057503</td>\n",
       "      <td>13.0</td>\n",
       "      <td>83.0</td>\n",
       "    </tr>\n",
       "    <tr>\n",
       "      <th>57312</th>\n",
       "      <td>2.0</td>\n",
       "      <td>163.0</td>\n",
       "      <td>72.57</td>\n",
       "      <td>8.0</td>\n",
       "      <td>390.248599</td>\n",
       "      <td>5.0</td>\n",
       "      <td>43.0</td>\n",
       "    </tr>\n",
       "    <tr>\n",
       "      <th>32573</th>\n",
       "      <td>2.0</td>\n",
       "      <td>165.0</td>\n",
       "      <td>74.84</td>\n",
       "      <td>1.0</td>\n",
       "      <td>11566.705300</td>\n",
       "      <td>3.0</td>\n",
       "      <td>30.0</td>\n",
       "    </tr>\n",
       "    <tr>\n",
       "      <th>355929</th>\n",
       "      <td>2.0</td>\n",
       "      <td>170.0</td>\n",
       "      <td>108.86</td>\n",
       "      <td>3.0</td>\n",
       "      <td>844.485450</td>\n",
       "      <td>3.0</td>\n",
       "      <td>30.0</td>\n",
       "    </tr>\n",
       "    <tr>\n",
       "      <th>305424</th>\n",
       "      <td>2.0</td>\n",
       "      <td>160.0</td>\n",
       "      <td>72.57</td>\n",
       "      <td>NaN</td>\n",
       "      <td>509.733354</td>\n",
       "      <td>13.0</td>\n",
       "      <td>81.0</td>\n",
       "    </tr>\n",
       "    <tr>\n",
       "      <th>302232</th>\n",
       "      <td>1.0</td>\n",
       "      <td>NaN</td>\n",
       "      <td>NaN</td>\n",
       "      <td>NaN</td>\n",
       "      <td>1657.213620</td>\n",
       "      <td>8.0</td>\n",
       "      <td>57.0</td>\n",
       "    </tr>\n",
       "    <tr>\n",
       "      <th>283720</th>\n",
       "      <td>2.0</td>\n",
       "      <td>152.0</td>\n",
       "      <td>108.86</td>\n",
       "      <td>8.0</td>\n",
       "      <td>3640.241970</td>\n",
       "      <td>2.0</td>\n",
       "      <td>27.0</td>\n",
       "    </tr>\n",
       "    <tr>\n",
       "      <th>26440</th>\n",
       "      <td>1.0</td>\n",
       "      <td>178.0</td>\n",
       "      <td>68.04</td>\n",
       "      <td>2.0</td>\n",
       "      <td>473.325486</td>\n",
       "      <td>6.0</td>\n",
       "      <td>45.0</td>\n",
       "    </tr>\n",
       "    <tr>\n",
       "      <th>125041</th>\n",
       "      <td>1.0</td>\n",
       "      <td>188.0</td>\n",
       "      <td>125.65</td>\n",
       "      <td>1.0</td>\n",
       "      <td>522.403225</td>\n",
       "      <td>7.0</td>\n",
       "      <td>51.0</td>\n",
       "    </tr>\n",
       "  </tbody>\n",
       "</table>\n",
       "</div>"
      ],
      "text/plain": [
       "        SEX   HTM4   WTKG3  INCOME2       _LLCPWT  _AGEG5YR   AGE\n",
       "96230   2.0  160.0   60.33      8.0   1398.525290       6.0  46.0\n",
       "244920  2.0  163.0   58.97      5.0     84.057503      13.0  83.0\n",
       "57312   2.0  163.0   72.57      8.0    390.248599       5.0  43.0\n",
       "32573   2.0  165.0   74.84      1.0  11566.705300       3.0  30.0\n",
       "355929  2.0  170.0  108.86      3.0    844.485450       3.0  30.0\n",
       "305424  2.0  160.0   72.57      NaN    509.733354      13.0  81.0\n",
       "302232  1.0    NaN     NaN      NaN   1657.213620       8.0  57.0\n",
       "283720  2.0  152.0  108.86      8.0   3640.241970       2.0  27.0\n",
       "26440   1.0  178.0   68.04      2.0    473.325486       6.0  45.0\n",
       "125041  1.0  188.0  125.65      1.0    522.403225       7.0  51.0"
      ]
     },
     "execution_count": 35,
     "metadata": {},
     "output_type": "execute_result"
    }
   ],
   "source": [
    "sample.head(10)"
   ]
  },
  {
   "cell_type": "code",
   "execution_count": 36,
   "metadata": {},
   "outputs": [],
   "source": [
    "sample.to_hdf('brfss.hdf5', 'brfss')"
   ]
  },
  {
   "cell_type": "code",
   "execution_count": 37,
   "metadata": {},
   "outputs": [
    {
     "name": "stdout",
     "output_type": "stream",
     "text": [
      "CPU times: user 12 ms, sys: 0 ns, total: 12 ms\n",
      "Wall time: 8.73 ms\n"
     ]
    }
   ],
   "source": [
    "%time brfss = pd.read_hdf('brfss.hdf5', 'brfss')"
   ]
  },
  {
   "cell_type": "code",
   "execution_count": 38,
   "metadata": {},
   "outputs": [
    {
     "data": {
      "text/plain": [
       "(100000, 7)"
      ]
     },
     "execution_count": 38,
     "metadata": {},
     "output_type": "execute_result"
    }
   ],
   "source": [
    "brfss.shape"
   ]
  },
  {
   "cell_type": "code",
   "execution_count": 39,
   "metadata": {},
   "outputs": [
    {
     "data": {
      "text/html": [
       "<div>\n",
       "<style scoped>\n",
       "    .dataframe tbody tr th:only-of-type {\n",
       "        vertical-align: middle;\n",
       "    }\n",
       "\n",
       "    .dataframe tbody tr th {\n",
       "        vertical-align: top;\n",
       "    }\n",
       "\n",
       "    .dataframe thead th {\n",
       "        text-align: right;\n",
       "    }\n",
       "</style>\n",
       "<table border=\"1\" class=\"dataframe\">\n",
       "  <thead>\n",
       "    <tr style=\"text-align: right;\">\n",
       "      <th></th>\n",
       "      <th>SEX</th>\n",
       "      <th>HTM4</th>\n",
       "      <th>WTKG3</th>\n",
       "      <th>INCOME2</th>\n",
       "      <th>_LLCPWT</th>\n",
       "      <th>_AGEG5YR</th>\n",
       "      <th>AGE</th>\n",
       "    </tr>\n",
       "  </thead>\n",
       "  <tbody>\n",
       "    <tr>\n",
       "      <th>96230</th>\n",
       "      <td>2.0</td>\n",
       "      <td>160.0</td>\n",
       "      <td>60.33</td>\n",
       "      <td>8.0</td>\n",
       "      <td>1398.525290</td>\n",
       "      <td>6.0</td>\n",
       "      <td>46.0</td>\n",
       "    </tr>\n",
       "    <tr>\n",
       "      <th>244920</th>\n",
       "      <td>2.0</td>\n",
       "      <td>163.0</td>\n",
       "      <td>58.97</td>\n",
       "      <td>5.0</td>\n",
       "      <td>84.057503</td>\n",
       "      <td>13.0</td>\n",
       "      <td>83.0</td>\n",
       "    </tr>\n",
       "    <tr>\n",
       "      <th>57312</th>\n",
       "      <td>2.0</td>\n",
       "      <td>163.0</td>\n",
       "      <td>72.57</td>\n",
       "      <td>8.0</td>\n",
       "      <td>390.248599</td>\n",
       "      <td>5.0</td>\n",
       "      <td>43.0</td>\n",
       "    </tr>\n",
       "    <tr>\n",
       "      <th>32573</th>\n",
       "      <td>2.0</td>\n",
       "      <td>165.0</td>\n",
       "      <td>74.84</td>\n",
       "      <td>1.0</td>\n",
       "      <td>11566.705300</td>\n",
       "      <td>3.0</td>\n",
       "      <td>30.0</td>\n",
       "    </tr>\n",
       "    <tr>\n",
       "      <th>355929</th>\n",
       "      <td>2.0</td>\n",
       "      <td>170.0</td>\n",
       "      <td>108.86</td>\n",
       "      <td>3.0</td>\n",
       "      <td>844.485450</td>\n",
       "      <td>3.0</td>\n",
       "      <td>30.0</td>\n",
       "    </tr>\n",
       "  </tbody>\n",
       "</table>\n",
       "</div>"
      ],
      "text/plain": [
       "        SEX   HTM4   WTKG3  INCOME2       _LLCPWT  _AGEG5YR   AGE\n",
       "96230   2.0  160.0   60.33      8.0   1398.525290       6.0  46.0\n",
       "244920  2.0  163.0   58.97      5.0     84.057503      13.0  83.0\n",
       "57312   2.0  163.0   72.57      8.0    390.248599       5.0  43.0\n",
       "32573   2.0  165.0   74.84      1.0  11566.705300       3.0  30.0\n",
       "355929  2.0  170.0  108.86      3.0    844.485450       3.0  30.0"
      ]
     },
     "execution_count": 39,
     "metadata": {},
     "output_type": "execute_result"
    }
   ],
   "source": [
    "brfss.head()"
   ]
  },
  {
   "cell_type": "code",
   "execution_count": 40,
   "metadata": {},
   "outputs": [
    {
     "data": {
      "text/html": [
       "<div>\n",
       "<style scoped>\n",
       "    .dataframe tbody tr th:only-of-type {\n",
       "        vertical-align: middle;\n",
       "    }\n",
       "\n",
       "    .dataframe tbody tr th {\n",
       "        vertical-align: top;\n",
       "    }\n",
       "\n",
       "    .dataframe thead th {\n",
       "        text-align: right;\n",
       "    }\n",
       "</style>\n",
       "<table border=\"1\" class=\"dataframe\">\n",
       "  <thead>\n",
       "    <tr style=\"text-align: right;\">\n",
       "      <th></th>\n",
       "      <th>SEX</th>\n",
       "      <th>HTM4</th>\n",
       "      <th>WTKG3</th>\n",
       "      <th>INCOME2</th>\n",
       "      <th>_LLCPWT</th>\n",
       "      <th>_AGEG5YR</th>\n",
       "      <th>AGE</th>\n",
       "    </tr>\n",
       "  </thead>\n",
       "  <tbody>\n",
       "    <tr>\n",
       "      <th>count</th>\n",
       "      <td>99938.000000</td>\n",
       "      <td>95143.000000</td>\n",
       "      <td>93404.000000</td>\n",
       "      <td>83447.000000</td>\n",
       "      <td>100000.000000</td>\n",
       "      <td>98794.000000</td>\n",
       "      <td>98794.000000</td>\n",
       "    </tr>\n",
       "    <tr>\n",
       "      <th>mean</th>\n",
       "      <td>1.513809</td>\n",
       "      <td>170.090443</td>\n",
       "      <td>81.202017</td>\n",
       "      <td>5.788656</td>\n",
       "      <td>2785.881001</td>\n",
       "      <td>6.103296</td>\n",
       "      <td>47.726249</td>\n",
       "    </tr>\n",
       "    <tr>\n",
       "      <th>std</th>\n",
       "      <td>0.499812</td>\n",
       "      <td>10.795080</td>\n",
       "      <td>20.945679</td>\n",
       "      <td>2.229189</td>\n",
       "      <td>3982.612684</td>\n",
       "      <td>3.601652</td>\n",
       "      <td>18.976257</td>\n",
       "    </tr>\n",
       "    <tr>\n",
       "      <th>min</th>\n",
       "      <td>1.000000</td>\n",
       "      <td>91.000000</td>\n",
       "      <td>23.130000</td>\n",
       "      <td>1.000000</td>\n",
       "      <td>5.774036</td>\n",
       "      <td>1.000000</td>\n",
       "      <td>18.000000</td>\n",
       "    </tr>\n",
       "    <tr>\n",
       "      <th>25%</th>\n",
       "      <td>1.000000</td>\n",
       "      <td>163.000000</td>\n",
       "      <td>66.220000</td>\n",
       "      <td>4.000000</td>\n",
       "      <td>579.932564</td>\n",
       "      <td>3.000000</td>\n",
       "      <td>32.000000</td>\n",
       "    </tr>\n",
       "    <tr>\n",
       "      <th>50%</th>\n",
       "      <td>2.000000</td>\n",
       "      <td>170.000000</td>\n",
       "      <td>78.930000</td>\n",
       "      <td>6.000000</td>\n",
       "      <td>1378.138470</td>\n",
       "      <td>6.000000</td>\n",
       "      <td>47.000000</td>\n",
       "    </tr>\n",
       "    <tr>\n",
       "      <th>75%</th>\n",
       "      <td>2.000000</td>\n",
       "      <td>178.000000</td>\n",
       "      <td>90.720000</td>\n",
       "      <td>8.000000</td>\n",
       "      <td>3202.380370</td>\n",
       "      <td>9.000000</td>\n",
       "      <td>62.000000</td>\n",
       "    </tr>\n",
       "    <tr>\n",
       "      <th>max</th>\n",
       "      <td>2.000000</td>\n",
       "      <td>226.000000</td>\n",
       "      <td>272.610000</td>\n",
       "      <td>8.000000</td>\n",
       "      <td>45053.592700</td>\n",
       "      <td>13.000000</td>\n",
       "      <td>99.000000</td>\n",
       "    </tr>\n",
       "  </tbody>\n",
       "</table>\n",
       "</div>"
      ],
      "text/plain": [
       "                SEX          HTM4         WTKG3       INCOME2        _LLCPWT  \\\n",
       "count  99938.000000  95143.000000  93404.000000  83447.000000  100000.000000   \n",
       "mean       1.513809    170.090443     81.202017      5.788656    2785.881001   \n",
       "std        0.499812     10.795080     20.945679      2.229189    3982.612684   \n",
       "min        1.000000     91.000000     23.130000      1.000000       5.774036   \n",
       "25%        1.000000    163.000000     66.220000      4.000000     579.932564   \n",
       "50%        2.000000    170.000000     78.930000      6.000000    1378.138470   \n",
       "75%        2.000000    178.000000     90.720000      8.000000    3202.380370   \n",
       "max        2.000000    226.000000    272.610000      8.000000   45053.592700   \n",
       "\n",
       "           _AGEG5YR           AGE  \n",
       "count  98794.000000  98794.000000  \n",
       "mean       6.103296     47.726249  \n",
       "std        3.601652     18.976257  \n",
       "min        1.000000     18.000000  \n",
       "25%        3.000000     32.000000  \n",
       "50%        6.000000     47.000000  \n",
       "75%        9.000000     62.000000  \n",
       "max       13.000000     99.000000  "
      ]
     },
     "execution_count": 40,
     "metadata": {},
     "output_type": "execute_result"
    }
   ],
   "source": [
    "brfss.describe()"
   ]
  },
  {
   "cell_type": "code",
   "execution_count": 41,
   "metadata": {},
   "outputs": [
    {
     "data": {
      "text/plain": [
       "(array([9.0000e+00, 5.0000e+00, 3.7000e+01, 1.0000e+01, 4.0000e+00,\n",
       "        5.0000e+00, 1.0100e+02, 3.1000e+01, 6.7000e+01, 2.0700e+02,\n",
       "        5.2000e+02, 2.4480e+03, 1.9787e+04, 4.5167e+04, 7.0858e+04,\n",
       "        7.4642e+04, 6.6870e+04, 2.9125e+04, 5.5902e+04, 4.2679e+04,\n",
       "        1.7896e+04, 5.6480e+03, 1.1480e+03, 3.0000e+02, 6.0000e+01,\n",
       "        2.4000e+01, 1.2000e+01, 8.0000e+00, 1.0000e+00, 1.0000e+00]),\n",
       " array([ 91.        ,  95.83333333, 100.66666667, 105.5       ,\n",
       "        110.33333333, 115.16666667, 120.        , 124.83333333,\n",
       "        129.66666667, 134.5       , 139.33333333, 144.16666667,\n",
       "        149.        , 153.83333333, 158.66666667, 163.5       ,\n",
       "        168.33333333, 173.16666667, 178.        , 182.83333333,\n",
       "        187.66666667, 192.5       , 197.33333333, 202.16666667,\n",
       "        207.        , 211.83333333, 216.66666667, 221.5       ,\n",
       "        226.33333333, 231.16666667, 236.        ]),\n",
       " <a list of 30 Patch objects>)"
      ]
     },
     "execution_count": 41,
     "metadata": {},
     "output_type": "execute_result"
    },
    {
     "data": {
      "image/png": "[encoded data removed]",
      "text/plain": [
       "<Figure size 432x288 with 1 Axes>"
      ]
     },
     "metadata": {},
     "output_type": "display_data"
    }
   ],
   "source": [
    "plt.hist(height.dropna(), bins=30)"
   ]
  },
  {
   "cell_type": "code",
   "execution_count": 42,
   "metadata": {},
   "outputs": [
    {
     "name": "stderr",
     "output_type": "stream",
     "text": [
      "/home/downey/anaconda3/lib/python3.6/site-packages/ipykernel_launcher.py:1: UserWarning: Boolean Series key will be reindexed to match DataFrame index.\n",
      "  \"\"\"Entry point for launching an IPython kernel.\n"
     ]
    },
    {
     "data": {
      "text/html": [
       "<div>\n",
       "<style scoped>\n",
       "    .dataframe tbody tr th:only-of-type {\n",
       "        vertical-align: middle;\n",
       "    }\n",
       "\n",
       "    .dataframe tbody tr th {\n",
       "        vertical-align: top;\n",
       "    }\n",
       "\n",
       "    .dataframe thead th {\n",
       "        text-align: right;\n",
       "    }\n",
       "</style>\n",
       "<table border=\"1\" class=\"dataframe\">\n",
       "  <thead>\n",
       "    <tr style=\"text-align: right;\">\n",
       "      <th></th>\n",
       "      <th>SEX</th>\n",
       "      <th>HTM4</th>\n",
       "      <th>WTKG3</th>\n",
       "      <th>INCOME2</th>\n",
       "      <th>_LLCPWT</th>\n",
       "      <th>_AGEG5YR</th>\n",
       "      <th>AGE</th>\n",
       "    </tr>\n",
       "  </thead>\n",
       "  <tbody>\n",
       "    <tr>\n",
       "      <th>297729</th>\n",
       "      <td>1.0</td>\n",
       "      <td>105.0</td>\n",
       "      <td>54.43</td>\n",
       "      <td>3.0</td>\n",
       "      <td>4307.570360</td>\n",
       "      <td>3.0</td>\n",
       "      <td>34.0</td>\n",
       "    </tr>\n",
       "    <tr>\n",
       "      <th>350597</th>\n",
       "      <td>2.0</td>\n",
       "      <td>105.0</td>\n",
       "      <td>63.50</td>\n",
       "      <td>NaN</td>\n",
       "      <td>158.108332</td>\n",
       "      <td>7.0</td>\n",
       "      <td>54.0</td>\n",
       "    </tr>\n",
       "    <tr>\n",
       "      <th>112220</th>\n",
       "      <td>2.0</td>\n",
       "      <td>105.0</td>\n",
       "      <td>77.11</td>\n",
       "      <td>4.0</td>\n",
       "      <td>2780.869330</td>\n",
       "      <td>4.0</td>\n",
       "      <td>35.0</td>\n",
       "    </tr>\n",
       "    <tr>\n",
       "      <th>386945</th>\n",
       "      <td>2.0</td>\n",
       "      <td>105.0</td>\n",
       "      <td>48.99</td>\n",
       "      <td>2.0</td>\n",
       "      <td>6249.133540</td>\n",
       "      <td>12.0</td>\n",
       "      <td>75.0</td>\n",
       "    </tr>\n",
       "    <tr>\n",
       "      <th>387626</th>\n",
       "      <td>1.0</td>\n",
       "      <td>105.0</td>\n",
       "      <td>92.53</td>\n",
       "      <td>1.0</td>\n",
       "      <td>2414.191940</td>\n",
       "      <td>9.0</td>\n",
       "      <td>60.0</td>\n",
       "    </tr>\n",
       "    <tr>\n",
       "      <th>384728</th>\n",
       "      <td>2.0</td>\n",
       "      <td>110.0</td>\n",
       "      <td>63.50</td>\n",
       "      <td>5.0</td>\n",
       "      <td>1363.372400</td>\n",
       "      <td>1.0</td>\n",
       "      <td>24.0</td>\n",
       "    </tr>\n",
       "    <tr>\n",
       "      <th>295218</th>\n",
       "      <td>2.0</td>\n",
       "      <td>104.0</td>\n",
       "      <td>79.38</td>\n",
       "      <td>1.0</td>\n",
       "      <td>1798.243170</td>\n",
       "      <td>3.0</td>\n",
       "      <td>31.0</td>\n",
       "    </tr>\n",
       "    <tr>\n",
       "      <th>384489</th>\n",
       "      <td>2.0</td>\n",
       "      <td>94.0</td>\n",
       "      <td>70.76</td>\n",
       "      <td>5.0</td>\n",
       "      <td>1247.899020</td>\n",
       "      <td>10.0</td>\n",
       "      <td>66.0</td>\n",
       "    </tr>\n",
       "    <tr>\n",
       "      <th>297729</th>\n",
       "      <td>1.0</td>\n",
       "      <td>105.0</td>\n",
       "      <td>54.43</td>\n",
       "      <td>3.0</td>\n",
       "      <td>4307.570360</td>\n",
       "      <td>3.0</td>\n",
       "      <td>33.0</td>\n",
       "    </tr>\n",
       "    <tr>\n",
       "      <th>385478</th>\n",
       "      <td>2.0</td>\n",
       "      <td>91.0</td>\n",
       "      <td>49.90</td>\n",
       "      <td>1.0</td>\n",
       "      <td>3177.585440</td>\n",
       "      <td>1.0</td>\n",
       "      <td>21.0</td>\n",
       "    </tr>\n",
       "    <tr>\n",
       "      <th>350268</th>\n",
       "      <td>2.0</td>\n",
       "      <td>105.0</td>\n",
       "      <td>NaN</td>\n",
       "      <td>NaN</td>\n",
       "      <td>541.159291</td>\n",
       "      <td>2.0</td>\n",
       "      <td>29.0</td>\n",
       "    </tr>\n",
       "    <tr>\n",
       "      <th>385478</th>\n",
       "      <td>2.0</td>\n",
       "      <td>91.0</td>\n",
       "      <td>49.90</td>\n",
       "      <td>1.0</td>\n",
       "      <td>3177.585440</td>\n",
       "      <td>1.0</td>\n",
       "      <td>23.0</td>\n",
       "    </tr>\n",
       "    <tr>\n",
       "      <th>302993</th>\n",
       "      <td>2.0</td>\n",
       "      <td>104.0</td>\n",
       "      <td>47.63</td>\n",
       "      <td>3.0</td>\n",
       "      <td>2452.727690</td>\n",
       "      <td>5.0</td>\n",
       "      <td>40.0</td>\n",
       "    </tr>\n",
       "    <tr>\n",
       "      <th>297729</th>\n",
       "      <td>1.0</td>\n",
       "      <td>105.0</td>\n",
       "      <td>54.43</td>\n",
       "      <td>3.0</td>\n",
       "      <td>4307.570360</td>\n",
       "      <td>3.0</td>\n",
       "      <td>33.0</td>\n",
       "    </tr>\n",
       "    <tr>\n",
       "      <th>23317</th>\n",
       "      <td>2.0</td>\n",
       "      <td>104.0</td>\n",
       "      <td>63.50</td>\n",
       "      <td>3.0</td>\n",
       "      <td>1167.723510</td>\n",
       "      <td>6.0</td>\n",
       "      <td>45.0</td>\n",
       "    </tr>\n",
       "    <tr>\n",
       "      <th>211773</th>\n",
       "      <td>1.0</td>\n",
       "      <td>107.0</td>\n",
       "      <td>68.04</td>\n",
       "      <td>NaN</td>\n",
       "      <td>1613.338840</td>\n",
       "      <td>1.0</td>\n",
       "      <td>20.0</td>\n",
       "    </tr>\n",
       "    <tr>\n",
       "      <th>302993</th>\n",
       "      <td>2.0</td>\n",
       "      <td>104.0</td>\n",
       "      <td>47.63</td>\n",
       "      <td>3.0</td>\n",
       "      <td>2452.727690</td>\n",
       "      <td>5.0</td>\n",
       "      <td>40.0</td>\n",
       "    </tr>\n",
       "    <tr>\n",
       "      <th>384728</th>\n",
       "      <td>2.0</td>\n",
       "      <td>110.0</td>\n",
       "      <td>63.50</td>\n",
       "      <td>5.0</td>\n",
       "      <td>1363.372400</td>\n",
       "      <td>1.0</td>\n",
       "      <td>20.0</td>\n",
       "    </tr>\n",
       "    <tr>\n",
       "      <th>208298</th>\n",
       "      <td>1.0</td>\n",
       "      <td>108.0</td>\n",
       "      <td>90.72</td>\n",
       "      <td>1.0</td>\n",
       "      <td>915.434834</td>\n",
       "      <td>1.0</td>\n",
       "      <td>19.0</td>\n",
       "    </tr>\n",
       "    <tr>\n",
       "      <th>206761</th>\n",
       "      <td>1.0</td>\n",
       "      <td>107.0</td>\n",
       "      <td>NaN</td>\n",
       "      <td>1.0</td>\n",
       "      <td>1309.188410</td>\n",
       "      <td>1.0</td>\n",
       "      <td>19.0</td>\n",
       "    </tr>\n",
       "    <tr>\n",
       "      <th>386945</th>\n",
       "      <td>2.0</td>\n",
       "      <td>105.0</td>\n",
       "      <td>48.99</td>\n",
       "      <td>2.0</td>\n",
       "      <td>6249.133540</td>\n",
       "      <td>12.0</td>\n",
       "      <td>79.0</td>\n",
       "    </tr>\n",
       "    <tr>\n",
       "      <th>297729</th>\n",
       "      <td>1.0</td>\n",
       "      <td>105.0</td>\n",
       "      <td>54.43</td>\n",
       "      <td>3.0</td>\n",
       "      <td>4307.570360</td>\n",
       "      <td>3.0</td>\n",
       "      <td>34.0</td>\n",
       "    </tr>\n",
       "    <tr>\n",
       "      <th>56204</th>\n",
       "      <td>2.0</td>\n",
       "      <td>105.0</td>\n",
       "      <td>73.03</td>\n",
       "      <td>4.0</td>\n",
       "      <td>637.931932</td>\n",
       "      <td>5.0</td>\n",
       "      <td>41.0</td>\n",
       "    </tr>\n",
       "    <tr>\n",
       "      <th>206761</th>\n",
       "      <td>1.0</td>\n",
       "      <td>107.0</td>\n",
       "      <td>NaN</td>\n",
       "      <td>1.0</td>\n",
       "      <td>1309.188410</td>\n",
       "      <td>1.0</td>\n",
       "      <td>23.0</td>\n",
       "    </tr>\n",
       "    <tr>\n",
       "      <th>206761</th>\n",
       "      <td>1.0</td>\n",
       "      <td>107.0</td>\n",
       "      <td>NaN</td>\n",
       "      <td>1.0</td>\n",
       "      <td>1309.188410</td>\n",
       "      <td>1.0</td>\n",
       "      <td>23.0</td>\n",
       "    </tr>\n",
       "    <tr>\n",
       "      <th>383832</th>\n",
       "      <td>1.0</td>\n",
       "      <td>103.0</td>\n",
       "      <td>58.06</td>\n",
       "      <td>1.0</td>\n",
       "      <td>334.270271</td>\n",
       "      <td>8.0</td>\n",
       "      <td>58.0</td>\n",
       "    </tr>\n",
       "    <tr>\n",
       "      <th>18101</th>\n",
       "      <td>2.0</td>\n",
       "      <td>91.0</td>\n",
       "      <td>80.00</td>\n",
       "      <td>1.0</td>\n",
       "      <td>345.876716</td>\n",
       "      <td>11.0</td>\n",
       "      <td>71.0</td>\n",
       "    </tr>\n",
       "    <tr>\n",
       "      <th>11524</th>\n",
       "      <td>2.0</td>\n",
       "      <td>105.0</td>\n",
       "      <td>81.65</td>\n",
       "      <td>NaN</td>\n",
       "      <td>189.163534</td>\n",
       "      <td>6.0</td>\n",
       "      <td>46.0</td>\n",
       "    </tr>\n",
       "    <tr>\n",
       "      <th>297955</th>\n",
       "      <td>1.0</td>\n",
       "      <td>105.0</td>\n",
       "      <td>70.31</td>\n",
       "      <td>5.0</td>\n",
       "      <td>1792.660130</td>\n",
       "      <td>4.0</td>\n",
       "      <td>38.0</td>\n",
       "    </tr>\n",
       "    <tr>\n",
       "      <th>384489</th>\n",
       "      <td>2.0</td>\n",
       "      <td>94.0</td>\n",
       "      <td>70.76</td>\n",
       "      <td>5.0</td>\n",
       "      <td>1247.899020</td>\n",
       "      <td>10.0</td>\n",
       "      <td>67.0</td>\n",
       "    </tr>\n",
       "    <tr>\n",
       "      <th>191643</th>\n",
       "      <td>1.0</td>\n",
       "      <td>108.0</td>\n",
       "      <td>81.65</td>\n",
       "      <td>5.0</td>\n",
       "      <td>2499.399470</td>\n",
       "      <td>3.0</td>\n",
       "      <td>31.0</td>\n",
       "    </tr>\n",
       "    <tr>\n",
       "      <th>284835</th>\n",
       "      <td>2.0</td>\n",
       "      <td>116.0</td>\n",
       "      <td>64.00</td>\n",
       "      <td>5.0</td>\n",
       "      <td>3264.963130</td>\n",
       "      <td>1.0</td>\n",
       "      <td>23.0</td>\n",
       "    </tr>\n",
       "    <tr>\n",
       "      <th>297729</th>\n",
       "      <td>1.0</td>\n",
       "      <td>105.0</td>\n",
       "      <td>54.43</td>\n",
       "      <td>3.0</td>\n",
       "      <td>4307.570360</td>\n",
       "      <td>3.0</td>\n",
       "      <td>34.0</td>\n",
       "    </tr>\n",
       "  </tbody>\n",
       "</table>\n",
       "</div>"
      ],
      "text/plain": [
       "        SEX   HTM4  WTKG3  INCOME2      _LLCPWT  _AGEG5YR   AGE\n",
       "297729  1.0  105.0  54.43      3.0  4307.570360       3.0  34.0\n",
       "350597  2.0  105.0  63.50      NaN   158.108332       7.0  54.0\n",
       "112220  2.0  105.0  77.11      4.0  2780.869330       4.0  35.0\n",
       "386945  2.0  105.0  48.99      2.0  6249.133540      12.0  75.0\n",
       "387626  1.0  105.0  92.53      1.0  2414.191940       9.0  60.0\n",
       "384728  2.0  110.0  63.50      5.0  1363.372400       1.0  24.0\n",
       "295218  2.0  104.0  79.38      1.0  1798.243170       3.0  31.0\n",
       "384489  2.0   94.0  70.76      5.0  1247.899020      10.0  66.0\n",
       "297729  1.0  105.0  54.43      3.0  4307.570360       3.0  33.0\n",
       "385478  2.0   91.0  49.90      1.0  3177.585440       1.0  21.0\n",
       "350268  2.0  105.0    NaN      NaN   541.159291       2.0  29.0\n",
       "385478  2.0   91.0  49.90      1.0  3177.585440       1.0  23.0\n",
       "302993  2.0  104.0  47.63      3.0  2452.727690       5.0  40.0\n",
       "297729  1.0  105.0  54.43      3.0  4307.570360       3.0  33.0\n",
       "23317   2.0  104.0  63.50      3.0  1167.723510       6.0  45.0\n",
       "211773  1.0  107.0  68.04      NaN  1613.338840       1.0  20.0\n",
       "302993  2.0  104.0  47.63      3.0  2452.727690       5.0  40.0\n",
       "384728  2.0  110.0  63.50      5.0  1363.372400       1.0  20.0\n",
       "208298  1.0  108.0  90.72      1.0   915.434834       1.0  19.0\n",
       "206761  1.0  107.0    NaN      1.0  1309.188410       1.0  19.0\n",
       "386945  2.0  105.0  48.99      2.0  6249.133540      12.0  79.0\n",
       "297729  1.0  105.0  54.43      3.0  4307.570360       3.0  34.0\n",
       "56204   2.0  105.0  73.03      4.0   637.931932       5.0  41.0\n",
       "206761  1.0  107.0    NaN      1.0  1309.188410       1.0  23.0\n",
       "206761  1.0  107.0    NaN      1.0  1309.188410       1.0  23.0\n",
       "383832  1.0  103.0  58.06      1.0   334.270271       8.0  58.0\n",
       "18101   2.0   91.0  80.00      1.0   345.876716      11.0  71.0\n",
       "11524   2.0  105.0  81.65      NaN   189.163534       6.0  46.0\n",
       "297955  1.0  105.0  70.31      5.0  1792.660130       4.0  38.0\n",
       "384489  2.0   94.0  70.76      5.0  1247.899020      10.0  67.0\n",
       "191643  1.0  108.0  81.65      5.0  2499.399470       3.0  31.0\n",
       "284835  2.0  116.0  64.00      5.0  3264.963130       1.0  23.0\n",
       "297729  1.0  105.0  54.43      3.0  4307.570360       3.0  34.0"
      ]
     },
     "execution_count": 42,
     "metadata": {},
     "output_type": "execute_result"
    }
   ],
   "source": [
    "brfss[height<120]"
   ]
  },
  {
   "cell_type": "code",
   "execution_count": 43,
   "metadata": {},
   "outputs": [
    {
     "data": {
      "text/plain": [
       "1.0     5067\n",
       "2.0     4377\n",
       "3.0     6414\n",
       "4.0     7650\n",
       "5.0     8694\n",
       "6.0    10914\n",
       "7.0    12219\n",
       "8.0    28112\n",
       "Name: INCOME2, dtype: int64"
      ]
     },
     "execution_count": 43,
     "metadata": {},
     "output_type": "execute_result"
    }
   ],
   "source": [
    "income = brfss['INCOME2']\n",
    "income.value_counts().sort_index()"
   ]
  },
  {
   "cell_type": "code",
   "execution_count": 44,
   "metadata": {},
   "outputs": [],
   "source": [
    "class Pmf(pd.Series):\n",
    "    \n",
    "    def __init__(self, seq, name='Pmf', normalize=True):\n",
    "        series = pd.Series(seq).value_counts().sort_index()\n",
    "        super().__init__(series, name=name)\n",
    "        if normalize:\n",
    "            self.normalize()\n",
    "\n",
    "    @property\n",
    "    def qs(self):\n",
    "        return self.index\n",
    "\n",
    "    @property\n",
    "    def ps(self):\n",
    "        return self.values\n",
    "\n",
    "    def __call__(self, qs):\n",
    "        return self.get(qs, 0)\n",
    "\n",
    "    def normalize(self):\n",
    "        self /= self.sum()\n",
    "\n",
    "    def bar(self, **options):\n",
    "        plt.bar(self.index, self.values, label=self.name, **options)\n",
    "\n",
    "    def plot(self, **options):\n",
    "        plt.plot(self.index, self.values, label=self.name, **options)\n"
   ]
  },
  {
   "cell_type": "code",
   "execution_count": 45,
   "metadata": {},
   "outputs": [
    {
     "data": {
      "text/plain": [
       "1.0     5067\n",
       "2.0     4377\n",
       "3.0     6414\n",
       "4.0     7650\n",
       "5.0     8694\n",
       "6.0    10914\n",
       "7.0    12219\n",
       "8.0    28112\n",
       "Name: income, dtype: int64"
      ]
     },
     "execution_count": 45,
     "metadata": {},
     "output_type": "execute_result"
    }
   ],
   "source": [
    "pmf_income = Pmf(income, name='income', normalize=False)\n",
    "pmf_income"
   ]
  },
  {
   "cell_type": "code",
   "execution_count": 46,
   "metadata": {},
   "outputs": [
    {
     "data": {
      "text/plain": [
       "Float64Index([1.0, 2.0, 3.0, 4.0, 5.0, 6.0, 7.0, 8.0], dtype='float64')"
      ]
     },
     "execution_count": 46,
     "metadata": {},
     "output_type": "execute_result"
    }
   ],
   "source": [
    "pmf_income.qs"
   ]
  },
  {
   "cell_type": "code",
   "execution_count": 47,
   "metadata": {},
   "outputs": [
    {
     "data": {
      "text/plain": [
       "array([ 5067,  4377,  6414,  7650,  8694, 10914, 12219, 28112])"
      ]
     },
     "execution_count": 47,
     "metadata": {},
     "output_type": "execute_result"
    }
   ],
   "source": [
    "pmf_income.ps"
   ]
  },
  {
   "cell_type": "code",
   "execution_count": 48,
   "metadata": {},
   "outputs": [
    {
     "data": {
      "text/plain": [
       "5067"
      ]
     },
     "execution_count": 48,
     "metadata": {},
     "output_type": "execute_result"
    }
   ],
   "source": [
    "pmf_income(1)"
   ]
  },
  {
   "cell_type": "code",
   "execution_count": 49,
   "metadata": {},
   "outputs": [
    {
     "data": {
      "text/plain": [
       "0"
      ]
     },
     "execution_count": 49,
     "metadata": {},
     "output_type": "execute_result"
    }
   ],
   "source": [
    "pmf_income(9)"
   ]
  },
  {
   "cell_type": "code",
   "execution_count": 50,
   "metadata": {},
   "outputs": [
    {
     "data": {
      "image/png": "[encoded data removed]",
      "text/plain": [
       "<Figure size 432x288 with 1 Axes>"
      ]
     },
     "metadata": {},
     "output_type": "display_data"
    }
   ],
   "source": [
    "pmf_income.bar()\n",
    "decorate(xlabel='Income code', ylabel='Count')"
   ]
  },
  {
   "cell_type": "code",
   "execution_count": 51,
   "metadata": {},
   "outputs": [
    {
     "data": {
      "image/png": "[encoded data removed]",
      "text/plain": [
       "<Figure size 432x288 with 1 Axes>"
      ]
     },
     "metadata": {},
     "output_type": "display_data"
    }
   ],
   "source": [
    "pmf_income.normalize()\n",
    "pmf_income.bar()\n",
    "decorate(xlabel='Income code', ylabel='PMF')"
   ]
  },
  {
   "cell_type": "code",
   "execution_count": 52,
   "metadata": {},
   "outputs": [
    {
     "data": {
      "text/plain": [
       "0.3368844895562453"
      ]
     },
     "execution_count": 52,
     "metadata": {},
     "output_type": "execute_result"
    }
   ],
   "source": [
    "pmf_income(8)"
   ]
  },
  {
   "cell_type": "code",
   "execution_count": 53,
   "metadata": {},
   "outputs": [],
   "source": [
    "age = brfss['AGE']\n",
    "pmf_age = Pmf(age, name='age')"
   ]
  },
  {
   "cell_type": "code",
   "execution_count": 54,
   "metadata": {},
   "outputs": [
    {
     "data": {
      "image/png": "[encoded data removed]",
      "text/plain": [
       "<Figure size 432x288 with 1 Axes>"
      ]
     },
     "metadata": {},
     "output_type": "display_data"
    }
   ],
   "source": [
    "pmf_age.plot()\n",
    "decorate(xlabel='Age (year)', ylabel='PMF')"
   ]
  },
  {
   "cell_type": "code",
   "execution_count": 55,
   "metadata": {},
   "outputs": [],
   "source": [
    "height = brfss['HTM4']\n",
    "pmf_height = Pmf(height, name='height')"
   ]
  },
  {
   "cell_type": "code",
   "execution_count": 56,
   "metadata": {},
   "outputs": [
    {
     "data": {
      "image/png": "[encoded data removed]",
      "text/plain": [
       "<Figure size 432x288 with 1 Axes>"
      ]
     },
     "metadata": {},
     "output_type": "display_data"
    }
   ],
   "source": [
    "pmf_height.bar()\n",
    "decorate(xlabel='Height (cm)', ylabel='PMF')"
   ]
  },
  {
   "cell_type": "code",
   "execution_count": 57,
   "metadata": {},
   "outputs": [
    {
     "name": "stdout",
     "output_type": "stream",
     "text": [
      "180 5.839630871425118\n",
      "181 0.0010510494728986895\n",
      "182 0.007357346310290826\n",
      "183 6.72041032971422\n",
      "184 0.002102098945797379\n",
      "185 3.2908358996457965\n",
      "186 0\n",
      "187 0\n",
      "188 2.7894853010731215\n",
      "189 0\n"
     ]
    }
   ],
   "source": [
    "for h in range(180, 190):\n",
    "    print(h, pmf_height(h) * 100)"
   ]
  },
  {
   "cell_type": "code",
   "execution_count": 58,
   "metadata": {},
   "outputs": [],
   "source": [
    "weight = brfss['WTKG3']\n",
    "pmf_weight = Pmf(weight, name='weight')"
   ]
  },
  {
   "cell_type": "code",
   "execution_count": 59,
   "metadata": {},
   "outputs": [
    {
     "data": {
      "image/png": "[encoded data removed]",
      "text/plain": [
       "<Figure size 432x288 with 1 Axes>"
      ]
     },
     "metadata": {},
     "output_type": "display_data"
    }
   ],
   "source": [
    "pmf_weight.bar()\n",
    "decorate(xlabel='Weight (kg)', ylabel='PMF')"
   ]
  },
  {
   "cell_type": "code",
   "execution_count": 60,
   "metadata": {},
   "outputs": [],
   "source": [
    "def underride(d, **options):\n",
    "    \"\"\"Add key-value pairs to d only if key is not in d.\n",
    "\n",
    "    d: dictionary\n",
    "    options: keyword args to add to d\n",
    "    \"\"\"\n",
    "    for key, val in options.items():\n",
    "        d.setdefault(key, val)\n",
    "\n",
    "    return d\n"
   ]
  },
  {
   "cell_type": "code",
   "execution_count": 96,
   "metadata": {},
   "outputs": [],
   "source": [
    "from scipy.interpolate import interp1d\n",
    "\n",
    "class Cdf(pd.Series):\n",
    "\n",
    "    def __init__(self, seq, name='Cdf'):\n",
    "        pmf = Pmf(seq)\n",
    "        super().__init__(pmf.cumsum(), name=name)\n",
    "\n",
    "    @property\n",
    "    def qs(self):\n",
    "        return self.index\n",
    "\n",
    "    @property\n",
    "    def ps(self):\n",
    "        return self.values\n",
    "\n",
    "    @property\n",
    "    def forward(self):\n",
    "        return interp1d(self.qs, self.ps,\n",
    "                        kind='previous',\n",
    "                        assume_sorted=True,\n",
    "                        bounds_error=False,\n",
    "                        fill_value=(0,1))\n",
    "\n",
    "    @property\n",
    "    def inverse(self):\n",
    "        return interp1d(self.ps, self.qs,\n",
    "                        kind='next',\n",
    "                        assume_sorted=True,\n",
    "                        bounds_error=False,\n",
    "                        fill_value=(self.qs[0], np.nan))\n",
    "\n",
    "    def __call__(self, qs):\n",
    "        return self.forward(qs)\n",
    "\n",
    "    def percentile_rank(self, qs):\n",
    "        return self.forward(qs) * 100\n",
    "\n",
    "    def percentile(self, percentile_ranks):\n",
    "        return self.inverse(percentile_ranks / 100)\n",
    "\n",
    "    def step(self, **options):\n",
    "        underride(options, where='post')\n",
    "        plt.step(self.index, self.values, label=self.name, **options)\n",
    "\n",
    "    def plot(self, **options):\n",
    "        plt.plot(self.index, self.values, label=self.name, **options)\n"
   ]
  },
  {
   "cell_type": "code",
   "execution_count": 108,
   "metadata": {},
   "outputs": [],
   "source": [
    "cdf_height = Cdf(height, name='Height')"
   ]
  },
  {
   "cell_type": "code",
   "execution_count": 107,
   "metadata": {},
   "outputs": [
    {
     "data": {
      "image/png": "[encoded data removed]",
      "text/plain": [
       "<Figure size 432x288 with 1 Axes>"
      ]
     },
     "metadata": {},
     "output_type": "display_data"
    }
   ],
   "source": [
    "cdf_height.step()\n",
    "decorate(xlabel='Height (cm)', ylabel='CDF')"
   ]
  },
  {
   "cell_type": "code",
   "execution_count": 100,
   "metadata": {},
   "outputs": [
    {
     "data": {
      "text/plain": [
       "array(0.22448315)"
      ]
     },
     "execution_count": 100,
     "metadata": {},
     "output_type": "execute_result"
    }
   ],
   "source": [
    "cdf_height.forward(160)"
   ]
  },
  {
   "cell_type": "code",
   "execution_count": 101,
   "metadata": {},
   "outputs": [
    {
     "data": {
      "text/plain": [
       "array(170.)"
      ]
     },
     "execution_count": 101,
     "metadata": {},
     "output_type": "execute_result"
    }
   ],
   "source": [
    "cdf_height.inverse(0.5)"
   ]
  },
  {
   "cell_type": "code",
   "execution_count": 102,
   "metadata": {},
   "outputs": [],
   "source": [
    "female = brfss['SEX'] == 2\n",
    "male = brfss['SEX'] == 1"
   ]
  },
  {
   "cell_type": "code",
   "execution_count": 103,
   "metadata": {},
   "outputs": [
    {
     "data": {
      "text/plain": [
       "count    46481.000000\n",
       "mean       177.538048\n",
       "std          8.350154\n",
       "min        103.000000\n",
       "25%        173.000000\n",
       "50%        178.000000\n",
       "75%        183.000000\n",
       "max        226.000000\n",
       "Name: HTM4, dtype: float64"
      ]
     },
     "execution_count": 103,
     "metadata": {},
     "output_type": "execute_result"
    }
   ],
   "source": [
    "height[male].describe()"
   ]
  },
  {
   "cell_type": "code",
   "execution_count": 104,
   "metadata": {},
   "outputs": [
    {
     "data": {
      "text/plain": [
       "count    48620.000000\n",
       "mean       162.968531\n",
       "std          7.582218\n",
       "min         91.000000\n",
       "25%        157.000000\n",
       "50%        163.000000\n",
       "75%        168.000000\n",
       "max        224.000000\n",
       "Name: HTM4, dtype: float64"
      ]
     },
     "execution_count": 104,
     "metadata": {},
     "output_type": "execute_result"
    }
   ],
   "source": [
    "height[female].describe()"
   ]
  },
  {
   "cell_type": "code",
   "execution_count": 105,
   "metadata": {},
   "outputs": [
    {
     "data": {
      "image/png": "[encoded data removed]",
      "text/plain": [
       "<Figure size 432x288 with 1 Axes>"
      ]
     },
     "metadata": {},
     "output_type": "display_data"
    }
   ],
   "source": [
    "pmf_male_height = Pmf(height[male], name='Male')\n",
    "pmf_male_height.bar(alpha=0.5)\n",
    "pmf_female_height = Pmf(height[female], name='Female')\n",
    "pmf_female_height.bar(alpha=0.5)\n",
    "\n",
    "decorate(xlabel='Height (cm)', ylabel='PMF')"
   ]
  },
  {
   "cell_type": "code",
   "execution_count": 106,
   "metadata": {},
   "outputs": [
    {
     "data": {
      "image/png": "[encoded data removed]",
      "text/plain": [
       "<Figure size 432x288 with 1 Axes>"
      ]
     },
     "metadata": {},
     "output_type": "display_data"
    }
   ],
   "source": [
    "cdf_male_height = Cdf(height[male], name='Male')\n",
    "cdf_male_height.step()\n",
    "cdf_female_height = Cdf(height[female], name='Female')\n",
    "cdf_female_height.step()\n",
    "decorate(xlabel='Height (cm)', ylabel='PMF')"
   ]
  },
  {
   "cell_type": "code",
   "execution_count": null,
   "metadata": {},
   "outputs": [],
   "source": []
  },
  {
   "cell_type": "code",
   "execution_count": null,
   "metadata": {},
   "outputs": [],
   "source": []
  }
 ],
 "metadata": {
  "kernelspec": {
   "display_name": "Python 3",
   "language": "python",
   "name": "python3"
  },
  "language_info": {
   "codemirror_mode": {
    "name": "ipython",
    "version": 3
   },
   "file_extension": ".py",
   "mimetype": "text/x-python",
   "name": "python",
   "nbconvert_exporter": "python",
   "pygments_lexer": "ipython3",
   "version": "3.6.5"
  }
 },
 "nbformat": 4,
 "nbformat_minor": 1
}
