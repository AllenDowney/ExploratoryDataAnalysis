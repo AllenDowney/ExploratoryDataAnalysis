{
 "cells": [
  {
   "cell_type": "markdown",
   "metadata": {},
   "source": [
    "# EDS Case Study\n",
    "\n",
    "Exploring changes in political beliefs\n",
    "\n",
    "Allen Downey\n",
    "\n",
    "[MIT License](https://en.wikipedia.org/wiki/MIT_License)"
   ]
  },
  {
   "cell_type": "code",
   "execution_count": 1,
   "metadata": {},
   "outputs": [],
   "source": [
    "import pandas as pd\n",
    "import numpy as np\n",
    "import matplotlib.pyplot as plt\n",
    "import seaborn as sns\n",
    "\n",
    "from utils import decorate"
   ]
  },
  {
   "cell_type": "markdown",
   "metadata": {},
   "source": [
    "## Loading and validation\n"
   ]
  },
  {
   "cell_type": "code",
   "execution_count": 2,
   "metadata": {},
   "outputs": [
    {
     "data": {
      "text/plain": [
       "(64814, 105)"
      ]
     },
     "execution_count": 2,
     "metadata": {},
     "output_type": "execute_result"
    }
   ],
   "source": [
    "gss = pd.read_hdf('eds.gss.hdf5', 'gss')\n",
    "gss.shape"
   ]
  },
  {
   "cell_type": "code",
   "execution_count": 3,
   "metadata": {},
   "outputs": [],
   "source": [
    "def replace_invalid(df):\n",
    "\n",
    "    # recode so depends is in the middle    \n",
    "    d = {1:1, 2:0, 3:0.5}\n",
    "    df.trust.replace(d, inplace=True)\n",
    "    df.helpful.replace(d, inplace=True)\n",
    "    df.racpres.replace(d, inplace=True)\n",
    "    df.owngun.replace(d, inplace=True)\n",
    "    df.fepol.replace(d, inplace=True)\n",
    "    df.sexeduc.replace(d, inplace=True)\n",
    "\n",
    "    d = {1:0, 2:1, 3:0.5}\n",
    "    df.fair.replace(d, inplace=True)\n",
    "\n",
    "replace_invalid(gss)"
   ]
  },
  {
   "cell_type": "code",
   "execution_count": 4,
   "metadata": {},
   "outputs": [],
   "source": [
    "vars = ['year', 'id_', 'agewed', 'divorce', 'sibs', 'childs', 'age',\n",
    "        'educ', 'paeduc', 'maeduc', 'speduc', 'degree', 'padeg', 'madeg',\n",
    "        'spdeg', 'sex', 'race', 'res16', 'reg16', 'srcbelt', 'partyid',\n",
    "        'pres04', 'pres08', 'pres12', 'polviews', 'natspac', 'natenvir',\n",
    "        'natheal', 'natcity', 'natcrime', 'natdrug', 'nateduc', 'natrace',\n",
    "        'natarms', 'nataid', 'natfare', 'spkath', 'colath', 'libath',\n",
    "        'spkhomo', 'colhomo', 'libhomo', 'cappun', 'gunlaw', 'grass',\n",
    "        'relig', 'fund', 'attend', 'reliten', 'postlife', 'pray',\n",
    "        'relig16', 'fund16', 'sprel16', 'prayer', 'bible', 'racmar',\n",
    "        'racpres', 'affrmact', 'happy', 'hapmar', 'health', 'life',\n",
    "        'helpful', 'fair', 'trust', 'conclerg', 'coneduc', 'confed',\n",
    "        'conpress', 'conjudge', 'conlegis', 'conarmy', 'satjob', 'class_',\n",
    "        'satfin', 'finrela', 'union_', 'fepol', 'abany', 'chldidel',\n",
    "        'sexeduc', 'premarsx', 'xmarsex', 'homosex', 'spanking', 'fear',\n",
    "        'owngun', 'pistol', 'hunt', 'phone', 'memchurh', 'realinc',\n",
    "        'cohort', 'marcohrt', 'ballot', 'wtssall', 'adults', 'compuse',\n",
    "        'databank', 'wtssnr', 'spkrac', 'spkcom', 'spkmil', 'spkmslm']"
   ]
  },
  {
   "cell_type": "markdown",
   "metadata": {},
   "source": [
    "### Validating `polviews`\n",
    "\n",
    "`polviews` contains responses to the [following question](https://gssdataexplorer.norc.org/projects/52787/variables/178/vshow)\n",
    "\n",
    "> We hear a lot of talk these days about liberals and conservatives. \n",
    "I'm going to show you a seven-point scale on which the political views that people might hold are arranged from extremely liberal--point 1--to extremely conservative--point 7. Where would you place yourself on this scale?\n",
    "\n",
    "The following function takes a variable column and returns a series of values and their frequencies."
   ]
  },
  {
   "cell_type": "code",
   "execution_count": 8,
   "metadata": {},
   "outputs": [],
   "source": [
    "def values(series):\n",
    "    return series.value_counts().sort_index()"
   ]
  },
  {
   "cell_type": "code",
   "execution_count": 9,
   "metadata": {
    "scrolled": true
   },
   "outputs": [
    {
     "data": {
      "text/plain": [
       "1.0     1637\n",
       "2.0     6398\n",
       "3.0     6865\n",
       "4.0    21521\n",
       "5.0     8953\n",
       "6.0     8149\n",
       "7.0     1833\n",
       "Name: polviews, dtype: int64"
      ]
     },
     "execution_count": 9,
     "metadata": {},
     "output_type": "execute_result"
    }
   ],
   "source": [
    "values(gss['polviews'])"
   ]
  },
  {
   "cell_type": "code",
   "execution_count": 11,
   "metadata": {},
   "outputs": [
    {
     "data": {
      "text/plain": [
       "1484"
      ]
     },
     "execution_count": 11,
     "metadata": {},
     "output_type": "execute_result"
    }
   ],
   "source": [
    "gss74 = gss['year']==1974\n",
    "gss74.sum()"
   ]
  },
  {
   "cell_type": "code",
   "execution_count": 13,
   "metadata": {},
   "outputs": [
    {
     "data": {
      "text/plain": [
       "1.0     21\n",
       "2.0    191\n",
       "3.0    201\n",
       "4.0    543\n",
       "5.0    252\n",
       "6.0    169\n",
       "7.0     34\n",
       "Name: polviews, dtype: int64"
      ]
     },
     "execution_count": 13,
     "metadata": {},
     "output_type": "execute_result"
    }
   ],
   "source": [
    "values(gss.loc[gss74, 'polviews'])"
   ]
  },
  {
   "cell_type": "code",
   "execution_count": 14,
   "metadata": {},
   "outputs": [
    {
     "data": {
      "text/plain": [
       "<pandas.core.groupby.generic.DataFrameGroupBy object at 0x7ff85732b518>"
      ]
     },
     "execution_count": 14,
     "metadata": {},
     "output_type": "execute_result"
    }
   ],
   "source": [
    "by_year = gss.groupby('year')\n",
    "by_year"
   ]
  },
  {
   "cell_type": "code",
   "execution_count": 20,
   "metadata": {},
   "outputs": [
    {
     "data": {
      "image/png": "[encoded data removed]",
      "text/plain": [
       "<Figure size 432x288 with 1 Axes>"
      ]
     },
     "metadata": {
      "needs_background": "light"
     },
     "output_type": "display_data"
    }
   ],
   "source": [
    "series = by_year['polviews'].mean()\n",
    "series.plot(label='polviews')\n",
    "decorate(ylabel='Mean (7 point scale)',\n",
    "         title='Mean of polviews')"
   ]
  },
  {
   "cell_type": "code",
   "execution_count": 30,
   "metadata": {},
   "outputs": [
    {
     "data": {
      "image/png": "[encoded data removed]",
      "text/plain": [
       "<Figure size 432x288 with 1 Axes>"
      ]
     },
     "metadata": {
      "needs_background": "light"
     },
     "output_type": "display_data"
    }
   ],
   "source": [
    "series = by_year['polviews'].std()\n",
    "series.plot(color='C1', label='polviews')\n",
    "decorate(ylabel='Standard deviation (7 point scale)',\n",
    "         title='Standard deviation of polviews')"
   ]
  },
  {
   "cell_type": "markdown",
   "metadata": {},
   "source": [
    "### Local regression"
   ]
  },
  {
   "cell_type": "code",
   "execution_count": 31,
   "metadata": {},
   "outputs": [],
   "source": [
    "from statsmodels.nonparametric.smoothers_lowess import lowess\n",
    "\n",
    "def make_lowess(series):\n",
    "    endog = series.values\n",
    "    exog = series.index.values\n",
    "\n",
    "    smooth = lowess(endog, exog)\n",
    "    index, data = np.transpose(smooth)\n",
    "\n",
    "    return pd.Series(data, index=index) "
   ]
  },
  {
   "cell_type": "code",
   "execution_count": 32,
   "metadata": {},
   "outputs": [
    {
     "data": {
      "image/png": "[encoded data removed]",
      "text/plain": [
       "<Figure size 360x72 with 1 Axes>"
      ]
     },
     "metadata": {
      "needs_background": "light"
     },
     "output_type": "display_data"
    }
   ],
   "source": [
    "palette = sns.color_palette('muted', 5)\n",
    "sns.palplot(palette)"
   ]
  },
  {
   "cell_type": "code",
   "execution_count": 33,
   "metadata": {},
   "outputs": [],
   "source": [
    "colors = dict(Conservative=palette[3], \n",
    "              Moderate=palette[4], \n",
    "              Liberal=palette[0])"
   ]
  },
  {
   "cell_type": "code",
   "execution_count": 47,
   "metadata": {},
   "outputs": [],
   "source": [
    "def plot_series_lowess(series, color):\n",
    "    series.plot(lw=0, marker='o', color=color, alpha=0.5)\n",
    "    smooth = make_lowess(series)\n",
    "    smooth.plot(label='_', color=color)"
   ]
  },
  {
   "cell_type": "code",
   "execution_count": 35,
   "metadata": {},
   "outputs": [
    {
     "data": {
      "image/png": "[encoded data removed]",
      "text/plain": [
       "<Figure size 432x288 with 1 Axes>"
      ]
     },
     "metadata": {
      "needs_background": "light"
     },
     "output_type": "display_data"
    }
   ],
   "source": [
    "series = by_year['polviews'].mean()\n",
    "plot_series_lowess(series, 'C0')\n",
    "decorate(ylabel='Mean (7 point scale)',\n",
    "         title='Mean of polviews')"
   ]
  },
  {
   "cell_type": "code",
   "execution_count": 36,
   "metadata": {},
   "outputs": [
    {
     "data": {
      "image/png": "[encoded data removed]",
      "text/plain": [
       "<Figure size 432x288 with 1 Axes>"
      ]
     },
     "metadata": {
      "needs_background": "light"
     },
     "output_type": "display_data"
    }
   ],
   "source": [
    "series = by_year['polviews'].std()\n",
    "plot_series_lowess(series, color='C1')\n",
    "decorate(ylabel='Standard deviation (7 point scale)',\n",
    "         title='Standard deviation of polviews')"
   ]
  },
  {
   "cell_type": "markdown",
   "metadata": {},
   "source": [
    "### 3-point scale\n",
    "\n",
    "To make it easier to visualize groups, I'm going to lump the 7-point scale into a 3-point scale.\n",
    "\n",
    "With this scale, there are roughly the same number of people in each group."
   ]
  },
  {
   "cell_type": "code",
   "execution_count": 39,
   "metadata": {},
   "outputs": [
    {
     "data": {
      "text/plain": [
       "Conservative    18935\n",
       "Liberal         14900\n",
       "Moderate        21521\n",
       "Name: polviews3, dtype: int64"
      ]
     },
     "execution_count": 39,
     "metadata": {},
     "output_type": "execute_result"
    }
   ],
   "source": [
    "# replace 7 point scale with 3 point scale\n",
    "d = {1:'Liberal', 2:'Liberal', 3:'Liberal', \n",
    "     4:'Moderate', \n",
    "     5:'Conservative', 6:'Conservative', 7:'Conservative'}\n",
    "gss['polviews3'] = gss.polviews.replace(d)\n",
    "values(gss['polviews3'])"
   ]
  },
  {
   "cell_type": "code",
   "execution_count": 42,
   "metadata": {},
   "outputs": [
    {
     "data": {
      "text/html": [
       "<div>\n",
       "<style scoped>\n",
       "    .dataframe tbody tr th:only-of-type {\n",
       "        vertical-align: middle;\n",
       "    }\n",
       "\n",
       "    .dataframe tbody tr th {\n",
       "        vertical-align: top;\n",
       "    }\n",
       "\n",
       "    .dataframe thead th {\n",
       "        text-align: right;\n",
       "    }\n",
       "</style>\n",
       "<table border=\"1\" class=\"dataframe\">\n",
       "  <thead>\n",
       "    <tr style=\"text-align: right;\">\n",
       "      <th>polviews3</th>\n",
       "      <th>Conservative</th>\n",
       "      <th>Liberal</th>\n",
       "      <th>Moderate</th>\n",
       "    </tr>\n",
       "    <tr>\n",
       "      <th>year</th>\n",
       "      <th></th>\n",
       "      <th></th>\n",
       "      <th></th>\n",
       "    </tr>\n",
       "  </thead>\n",
       "  <tbody>\n",
       "    <tr>\n",
       "      <th>1974</th>\n",
       "      <td>455</td>\n",
       "      <td>413</td>\n",
       "      <td>543</td>\n",
       "    </tr>\n",
       "    <tr>\n",
       "      <th>1975</th>\n",
       "      <td>412</td>\n",
       "      <td>424</td>\n",
       "      <td>565</td>\n",
       "    </tr>\n",
       "    <tr>\n",
       "      <th>1976</th>\n",
       "      <td>436</td>\n",
       "      <td>389</td>\n",
       "      <td>571</td>\n",
       "    </tr>\n",
       "    <tr>\n",
       "      <th>1977</th>\n",
       "      <td>444</td>\n",
       "      <td>426</td>\n",
       "      <td>579</td>\n",
       "    </tr>\n",
       "    <tr>\n",
       "      <th>1978</th>\n",
       "      <td>454</td>\n",
       "      <td>396</td>\n",
       "      <td>584</td>\n",
       "    </tr>\n",
       "  </tbody>\n",
       "</table>\n",
       "</div>"
      ],
      "text/plain": [
       "polviews3  Conservative  Liberal  Moderate\n",
       "year                                      \n",
       "1974                455      413       543\n",
       "1975                412      424       565\n",
       "1976                436      389       571\n",
       "1977                444      426       579\n",
       "1978                454      396       584"
      ]
     },
     "execution_count": 42,
     "metadata": {},
     "output_type": "execute_result"
    }
   ],
   "source": [
    "def count_by_year(gss, varname):\n",
    "    \"\"\"\n",
    "    \"\"\"\n",
    "    grouped = gss.groupby([varname, 'year'])\n",
    "    count = grouped[varname].count().unstack(level=0)\n",
    "    \n",
    "    # note: the following is not ideal, because it does not\n",
    "    # distinguish 0 from NA\n",
    "    count = count.replace(0, np.nan).dropna()\n",
    "    return count\n",
    "\n",
    "polviews3_count = count_by_year(gss, 'polviews3')\n",
    "polviews3_count.head()"
   ]
  },
  {
   "cell_type": "code",
   "execution_count": 43,
   "metadata": {},
   "outputs": [
    {
     "data": {
      "text/plain": [
       "year\n",
       "1974    1411\n",
       "1975    1401\n",
       "1976    1396\n",
       "1977    1449\n",
       "1978    1434\n",
       "dtype: int64"
      ]
     },
     "execution_count": 43,
     "metadata": {},
     "output_type": "execute_result"
    }
   ],
   "source": [
    "total = polviews3_count.sum(axis=1)\n",
    "total.head()"
   ]
  },
  {
   "cell_type": "code",
   "execution_count": 45,
   "metadata": {},
   "outputs": [
    {
     "data": {
      "text/html": [
       "<div>\n",
       "<style scoped>\n",
       "    .dataframe tbody tr th:only-of-type {\n",
       "        vertical-align: middle;\n",
       "    }\n",
       "\n",
       "    .dataframe tbody tr th {\n",
       "        vertical-align: top;\n",
       "    }\n",
       "\n",
       "    .dataframe thead th {\n",
       "        text-align: right;\n",
       "    }\n",
       "</style>\n",
       "<table border=\"1\" class=\"dataframe\">\n",
       "  <thead>\n",
       "    <tr style=\"text-align: right;\">\n",
       "      <th>polviews3</th>\n",
       "      <th>Conservative</th>\n",
       "      <th>Liberal</th>\n",
       "      <th>Moderate</th>\n",
       "    </tr>\n",
       "    <tr>\n",
       "      <th>year</th>\n",
       "      <th></th>\n",
       "      <th></th>\n",
       "      <th></th>\n",
       "    </tr>\n",
       "  </thead>\n",
       "  <tbody>\n",
       "    <tr>\n",
       "      <th>1974</th>\n",
       "      <td>0.322466</td>\n",
       "      <td>0.292700</td>\n",
       "      <td>0.384833</td>\n",
       "    </tr>\n",
       "    <tr>\n",
       "      <th>1975</th>\n",
       "      <td>0.294076</td>\n",
       "      <td>0.302641</td>\n",
       "      <td>0.403283</td>\n",
       "    </tr>\n",
       "    <tr>\n",
       "      <th>1976</th>\n",
       "      <td>0.312321</td>\n",
       "      <td>0.278653</td>\n",
       "      <td>0.409026</td>\n",
       "    </tr>\n",
       "    <tr>\n",
       "      <th>1977</th>\n",
       "      <td>0.306418</td>\n",
       "      <td>0.293996</td>\n",
       "      <td>0.399586</td>\n",
       "    </tr>\n",
       "    <tr>\n",
       "      <th>1978</th>\n",
       "      <td>0.316597</td>\n",
       "      <td>0.276151</td>\n",
       "      <td>0.407252</td>\n",
       "    </tr>\n",
       "  </tbody>\n",
       "</table>\n",
       "</div>"
      ],
      "text/plain": [
       "polviews3  Conservative   Liberal  Moderate\n",
       "year                                       \n",
       "1974           0.322466  0.292700  0.384833\n",
       "1975           0.294076  0.302641  0.403283\n",
       "1976           0.312321  0.278653  0.409026\n",
       "1977           0.306418  0.293996  0.399586\n",
       "1978           0.316597  0.276151  0.407252"
      ]
     },
     "execution_count": 45,
     "metadata": {},
     "output_type": "execute_result"
    }
   ],
   "source": [
    "polviews3_prop = polviews3_count.div(total, axis=0)\n",
    "polviews3_prop.head()"
   ]
  },
  {
   "cell_type": "code",
   "execution_count": 48,
   "metadata": {},
   "outputs": [],
   "source": [
    "def plot_columns_lowess(df, columns, colors):\n",
    "    for col in columns:\n",
    "        series = df[col]\n",
    "        plot_series_lowess(series, colors[col])"
   ]
  },
  {
   "cell_type": "code",
   "execution_count": 49,
   "metadata": {
    "scrolled": true
   },
   "outputs": [
    {
     "data": {
      "image/png": "[encoded data removed]",
      "text/plain": [
       "<Figure size 432x288 with 1 Axes>"
      ]
     },
     "metadata": {
      "needs_background": "light"
     },
     "output_type": "display_data"
    }
   ],
   "source": [
    "columns = ['Moderate', 'Liberal', 'Conservative']\n",
    "plot_columns_lowess(polviews3_prop, columns, colors)\n",
    "decorate(xlabel='Year',\n",
    "         ylabel='Proportion',\n",
    "         title='Fraction of people with each political view',\n",
    "         xlim=[1970, 2020])"
   ]
  },
  {
   "cell_type": "code",
   "execution_count": null,
   "metadata": {},
   "outputs": [],
   "source": []
  },
  {
   "cell_type": "markdown",
   "metadata": {},
   "source": [
    "## Trust"
   ]
  },
  {
   "cell_type": "code",
   "execution_count": null,
   "metadata": {},
   "outputs": [],
   "source": [
    "trust_mean = gss.groupby('year').trust.mean().dropna()\n",
    "trust_mean.head()"
   ]
  },
  {
   "cell_type": "code",
   "execution_count": null,
   "metadata": {},
   "outputs": [],
   "source": [
    "plot_series_lowess(trust_mean, 'C1')\n",
    "decorate(xlabel='Year',\n",
    "         ylabel='Fraction',\n",
    "         title='Can people be trusted',\n",
    "         xlim=[1970, 2020])"
   ]
  },
  {
   "cell_type": "code",
   "execution_count": null,
   "metadata": {},
   "outputs": [],
   "source": [
    "trust_by_polviews3 = grouped.trust.mean().dropna().unstack(level=0)\n",
    "trust_by_polviews3.head()"
   ]
  },
  {
   "cell_type": "code",
   "execution_count": null,
   "metadata": {},
   "outputs": [],
   "source": [
    "columns = ['Liberal', 'Conservative', 'Moderate']\n",
    "plot_columns_lowess(trust_by_polviews3, columns, colors)\n",
    "decorate(xlabel='Year',\n",
    "         ylabel='Proportion',\n",
    "         title='Can people be trusted?',\n",
    "         xlim=[1970, 2020])"
   ]
  },
  {
   "cell_type": "markdown",
   "metadata": {},
   "source": [
    "## Fair\n",
    "\n",
    "https://gssdataexplorer.norc.org/projects/52787/variables/440/vshow\n",
    "\n",
    "Do you think most people would try to take advantage of you if they got a chance, or would they try to be fair?\n"
   ]
  },
  {
   "cell_type": "code",
   "execution_count": null,
   "metadata": {},
   "outputs": [],
   "source": [
    "fair_mean = gss.groupby('year')['fair'].mean().dropna()\n",
    "plot_series_lowess(fair_mean, 'C1')\n",
    "decorate(xlabel='Year',\n",
    "         ylabel='Proportion',\n",
    "         title='Would people try to be fair?',\n",
    "         xlim=[1970, 2020])"
   ]
  },
  {
   "cell_type": "code",
   "execution_count": null,
   "metadata": {},
   "outputs": [],
   "source": [
    "fair_by_polviews3 = grouped['fair'].mean().dropna().unstack(level=0)\n",
    "fair_by_polviews3.head()"
   ]
  },
  {
   "cell_type": "code",
   "execution_count": null,
   "metadata": {},
   "outputs": [],
   "source": [
    "columns = ['Liberal', 'Moderate', 'Conservative']\n",
    "plot_columns_lowess(fair_by_polviews3, columns, colors)\n",
    "decorate(xlabel='Year',\n",
    "         ylabel='Proportion',\n",
    "         title='Would people try to be fair?',\n",
    "         xlim=[1970, 2020])"
   ]
  },
  {
   "cell_type": "code",
   "execution_count": null,
   "metadata": {},
   "outputs": [],
   "source": []
  },
  {
   "cell_type": "markdown",
   "metadata": {},
   "source": [
    "## helpful\n",
    "\n",
    "https://gssdataexplorer.norc.org/projects/52787/variables/439/vshow\n",
    "\n",
    "Would you say that most of the time people try to be helpful, or that they are mostly just looking out for themselves?\n"
   ]
  },
  {
   "cell_type": "code",
   "execution_count": null,
   "metadata": {},
   "outputs": [],
   "source": [
    "helpful_mean = gss.groupby('year')['helpful'].mean().dropna()\n",
    "plot_series_lowess(helpful_mean, 'C1')\n",
    "decorate(xlabel='Year',\n",
    "         ylabel='Proportion',\n",
    "         title='People try to be helpful?',\n",
    "         xlim=[1970, 2020])"
   ]
  },
  {
   "cell_type": "code",
   "execution_count": null,
   "metadata": {},
   "outputs": [],
   "source": [
    "helpful_by_polviews3 = grouped['helpful'].mean().dropna().unstack(level=0)\n",
    "helpful_by_polviews3.head()"
   ]
  },
  {
   "cell_type": "code",
   "execution_count": null,
   "metadata": {},
   "outputs": [],
   "source": [
    "columns = ['Liberal', 'Moderate', 'Conservative']\n",
    "plot_columns_lowess(helpful_by_polviews3, columns, colors)\n",
    "decorate(xlabel='Year',\n",
    "         ylabel='Proportion',\n",
    "         title='People try to be helpful?',\n",
    "         xlim=[1970, 2020])"
   ]
  },
  {
   "cell_type": "code",
   "execution_count": null,
   "metadata": {},
   "outputs": [],
   "source": []
  },
  {
   "cell_type": "code",
   "execution_count": null,
   "metadata": {},
   "outputs": [],
   "source": []
  },
  {
   "cell_type": "markdown",
   "metadata": {},
   "source": [
    "## homosex\n",
    "\n",
    "https://gssdataexplorer.norc.org/projects/52787/variables/634/vshow\n",
    "\n",
    "What about sexual relations between two adults of the same sex--do you think it is always wrong, almost always wrong, wrong only sometimes, or not wrong at all?\n"
   ]
  },
  {
   "cell_type": "code",
   "execution_count": null,
   "metadata": {},
   "outputs": [],
   "source": [
    "varname = 'homosex'\n",
    "title='Sexual relations between adults of the same sex'\n",
    "\n",
    "mean = gss.groupby('year')[varname].mean().dropna()\n",
    "plot_series_lowess(mean, 'C1')\n",
    "decorate(xlabel='Year',\n",
    "         ylabel='Approval',\n",
    "         title=title,\n",
    "         xlim=[1970, 2020])"
   ]
  },
  {
   "cell_type": "code",
   "execution_count": null,
   "metadata": {},
   "outputs": [],
   "source": [
    "by_polviews3 = grouped[varname].mean().dropna().unstack(level=0)\n",
    "by_polviews3.head()"
   ]
  },
  {
   "cell_type": "code",
   "execution_count": null,
   "metadata": {},
   "outputs": [],
   "source": [
    "columns = ['Liberal', 'Moderate', 'Conservative']\n",
    "plot_columns_lowess(by_polviews3, columns, colors)\n",
    "decorate(xlabel='Year',\n",
    "         ylabel='Proportion',\n",
    "         title=title,\n",
    "         xlim=[1970, 2020])"
   ]
  },
  {
   "cell_type": "code",
   "execution_count": null,
   "metadata": {},
   "outputs": [],
   "source": []
  },
  {
   "cell_type": "markdown",
   "metadata": {},
   "source": [
    "## racpres\n",
    "\n",
    "https://gssdataexplorer.norc.org/projects/52787/variables/400/vshow\n",
    "\n",
    "\n",
    "If your party nominated a (Negro/Black/African-American) for President, would you vote for him if he were qualified for the job?\n",
    "\n"
   ]
  },
  {
   "cell_type": "code",
   "execution_count": null,
   "metadata": {},
   "outputs": [],
   "source": [
    "varname = 'racpres'\n",
    "title='Would you vote for a black person for President'\n",
    "\n",
    "mean = gss.groupby('year')[varname].mean().dropna()\n",
    "plot_series_lowess(mean, 'C1')\n",
    "decorate(xlabel='Year',\n",
    "         ylabel='Approval',\n",
    "         title=title,\n",
    "         xlim=[1970, 2020])"
   ]
  },
  {
   "cell_type": "code",
   "execution_count": null,
   "metadata": {},
   "outputs": [],
   "source": [
    "by_polviews3 = grouped[varname].mean().dropna().unstack(level=0)\n",
    "by_polviews3.head()"
   ]
  },
  {
   "cell_type": "code",
   "execution_count": null,
   "metadata": {},
   "outputs": [],
   "source": [
    "columns = ['Liberal', 'Moderate', 'Conservative']\n",
    "plot_columns_lowess(by_polviews3, columns, colors)\n",
    "decorate(xlabel='Year',\n",
    "         ylabel='Proportion',\n",
    "         title=title,\n",
    "         xlim=[1970, 2020])"
   ]
  },
  {
   "cell_type": "code",
   "execution_count": null,
   "metadata": {},
   "outputs": [],
   "source": []
  },
  {
   "cell_type": "markdown",
   "metadata": {},
   "source": [
    "## owngun\n",
    "\n",
    "https://gssdataexplorer.norc.org/projects/52787/variables/679/vshow\n",
    "\n",
    "Do you happen to have in your home (IF HOUSE: or garage) any guns or revolvers?\n",
    "\n",
    "\n"
   ]
  },
  {
   "cell_type": "code",
   "execution_count": null,
   "metadata": {},
   "outputs": [],
   "source": [
    "varname = 'owngun'\n",
    "title='Have gun in home'\n",
    "\n",
    "mean = gss.groupby('year')[varname].mean().dropna()\n",
    "plot_series_lowess(mean, 'C1')\n",
    "decorate(xlabel='Year',\n",
    "         ylabel='Approval',\n",
    "         title=title,\n",
    "         xlim=[1970, 2020])"
   ]
  },
  {
   "cell_type": "code",
   "execution_count": null,
   "metadata": {},
   "outputs": [],
   "source": [
    "by_polviews3 = grouped[varname].mean().dropna().unstack(level=0)\n",
    "by_polviews3.head()"
   ]
  },
  {
   "cell_type": "code",
   "execution_count": null,
   "metadata": {},
   "outputs": [],
   "source": [
    "columns = ['Liberal', 'Moderate', 'Conservative']\n",
    "plot_columns_lowess(by_polviews3, columns, colors)\n",
    "decorate(xlabel='Year',\n",
    "         ylabel='Proportion',\n",
    "         title=title,\n",
    "         xlim=[1970, 2020])"
   ]
  },
  {
   "cell_type": "code",
   "execution_count": null,
   "metadata": {},
   "outputs": [],
   "source": []
  },
  {
   "cell_type": "markdown",
   "metadata": {},
   "source": [
    "## fepol\n",
    "\n",
    "https://gssdataexplorer.norc.org/projects/52787/variables/591/vshow\n",
    "\n",
    "Tell me if you agree or disagree with this statement: Most men are better suited emotionally for politics than are most women.\n"
   ]
  },
  {
   "cell_type": "code",
   "execution_count": null,
   "metadata": {},
   "outputs": [],
   "source": [
    "varname = 'fepol'\n",
    "title='Men better suited for politics'\n",
    "\n",
    "mean = gss.groupby('year')[varname].mean().dropna()\n",
    "plot_series_lowess(mean, 'C1')\n",
    "decorate(xlabel='Year',\n",
    "         ylabel='Approval',\n",
    "         title=title,\n",
    "         xlim=[1970, 2020])"
   ]
  },
  {
   "cell_type": "code",
   "execution_count": null,
   "metadata": {},
   "outputs": [],
   "source": [
    "by_polviews3 = grouped[varname].mean().dropna().unstack(level=0)\n",
    "by_polviews3.head()"
   ]
  },
  {
   "cell_type": "code",
   "execution_count": null,
   "metadata": {},
   "outputs": [],
   "source": [
    "columns = ['Liberal', 'Moderate', 'Conservative']\n",
    "plot_columns_lowess(by_polviews3, columns, colors)\n",
    "decorate(xlabel='Year',\n",
    "         ylabel='Proportion',\n",
    "         title=title,\n",
    "         xlim=[1970, 2020])"
   ]
  },
  {
   "cell_type": "code",
   "execution_count": null,
   "metadata": {},
   "outputs": [],
   "source": []
  },
  {
   "cell_type": "markdown",
   "metadata": {},
   "source": [
    "## sexeduc\n",
    "\n",
    "https://gssdataexplorer.norc.org/projects/52787/variables/626/vshow\n",
    "\n",
    "Would you be for or against sex education in the public schools?\n",
    "\n",
    "\n"
   ]
  },
  {
   "cell_type": "code",
   "execution_count": null,
   "metadata": {},
   "outputs": [],
   "source": [
    "varname = 'sexeduc'\n",
    "title='Favor sex education in the public schools?'\n",
    "\n",
    "mean = gss.groupby('year')[varname].mean().dropna()\n",
    "plot_series_lowess(mean, 'C1')\n",
    "decorate(xlabel='Year',\n",
    "         ylabel='Favor',\n",
    "         title=title,\n",
    "         xlim=[1970, 2020])"
   ]
  },
  {
   "cell_type": "code",
   "execution_count": null,
   "metadata": {},
   "outputs": [],
   "source": [
    "by_polviews3 = grouped[varname].mean().dropna().unstack(level=0)\n",
    "by_polviews3.head()"
   ]
  },
  {
   "cell_type": "code",
   "execution_count": null,
   "metadata": {},
   "outputs": [],
   "source": [
    "columns = ['Liberal', 'Moderate', 'Conservative']\n",
    "plot_columns_lowess(by_polviews3, columns, colors)\n",
    "decorate(xlabel='Year',\n",
    "         ylabel='Favor',\n",
    "         title=title,\n",
    "         xlim=[1970, 2020])"
   ]
  },
  {
   "cell_type": "code",
   "execution_count": null,
   "metadata": {},
   "outputs": [],
   "source": []
  }
 ],
 "metadata": {
  "kernelspec": {
   "display_name": "Python 3",
   "language": "python",
   "name": "python3"
  },
  "language_info": {
   "codemirror_mode": {
    "name": "ipython",
    "version": 3
   },
   "file_extension": ".py",
   "mimetype": "text/x-python",
   "name": "python",
   "nbconvert_exporter": "python",
   "pygments_lexer": "ipython3",
   "version": "3.7.3"
  }
 },
 "nbformat": 4,
 "nbformat_minor": 1
}
